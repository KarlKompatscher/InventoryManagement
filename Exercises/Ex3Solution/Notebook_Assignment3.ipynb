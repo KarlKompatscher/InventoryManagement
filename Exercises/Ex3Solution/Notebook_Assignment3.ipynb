{
 "cells": [
  {
   "cell_type": "code",
   "execution_count": 11,
   "id": "37085145",
   "metadata": {},
   "outputs": [
    {
     "name": "stdout",
     "output_type": "stream",
     "text": [
      "Order Quantity (EOQ): 547.72 units\n",
      "Reorder Point (s): 359.48 units\n",
      "Total Cost: 1439.29 €\n"
     ]
    }
   ],
   "source": [
    "# Question 1\n",
    "# a)\n",
    "import math\n",
    "from scipy.stats import norm\n",
    "\n",
    "# Constants\n",
    "mean_demand = 1000  # Mean annual demand\n",
    "std_demand = 200  # Standard deviation of annual demand\n",
    "holding_cost = 2  # Inventory holding cost per unit per year\n",
    "shortage_penalty = 500  # Shortage penalty cost per occasion\n",
    "lead_time = 3  # Lead time in months\n",
    "fixed_order_cost = 300  # Supplier's fixed cost per order\n",
    "\n",
    "\n",
    "# Convert lead time to years\n",
    "lead_time_years = lead_time / 12\n",
    "\n",
    "# Calculate order quantity (Q) using EOQ formula\n",
    "EOQ = math.sqrt((2 * fixed_order_cost * mean_demand) / holding_cost)\n",
    "\n",
    "# Calculate z value\n",
    "z = math.sqrt(\n",
    "    2\n",
    "    * math.log(\n",
    "        mean_demand\n",
    "        * shortage_penalty\n",
    "        / (\n",
    "            math.sqrt(2 * math.pi)\n",
    "            * EOQ\n",
    "            * holding_cost\n",
    "            * std_demand\n",
    "            * math.sqrt(lead_time_years)\n",
    "        )\n",
    "    )\n",
    ")\n",
    "\n",
    "# Calculate safety stock\n",
    "safety_stock = z * std_demand * math.sqrt(lead_time_years)\n",
    "\n",
    "# Calculate reorder point (s)\n",
    "s = safety_stock + mean_demand * lead_time_years\n",
    "\n",
    "# Calculate expected shortage cost\n",
    "expected_shortage_cost = (\n",
    "    (mean_demand / EOQ) * shortage_penalty * (1 - norm.cdf(z))\n",
    ")  # Expected shortage during lead time\n",
    "\n",
    "# Calculate annual holding cost\n",
    "expected_holding_cost = (\n",
    "    EOQ / 2 + z * std_demand * math.sqrt(lead_time_years)\n",
    ") * holding_cost\n",
    "\n",
    "\n",
    "# Calculate total expected annual cost\n",
    "total_cost = (\n",
    "    expected_holding_cost\n",
    "    + expected_shortage_cost\n",
    "    + (mean_demand / EOQ) * fixed_order_cost\n",
    ")\n",
    "\n",
    "# Print the results\n",
    "print(f\"Order Quantity (EOQ): {EOQ:.2f} units\")\n",
    "print(f\"Reorder Point (s): {s:.2f} units\")\n",
    "print(f\"Total Cost: {total_cost:.2f} €\")"
   ]
  },
  {
   "cell_type": "code",
   "execution_count": 12,
   "id": "74c574fb",
   "metadata": {},
   "outputs": [
    {
     "name": "stdout",
     "output_type": "stream",
     "text": [
      "Iteration: 1\n",
      "Order Quantity (Q): 606.96 units\n",
      "Reorder Point (s): 359.48 units\n",
      "Total Cost: 1439.29 €\n",
      "\n",
      "Iteration: 2\n",
      "Order Quantity (Q): 616.23 units\n",
      "Reorder Point (s): 349.66 units\n",
      "Total Cost: 1431.92 €\n",
      "\n",
      "Iteration: 3\n",
      "Order Quantity (Q): 617.74 units\n",
      "Reorder Point (s): 348.13 units\n",
      "Total Cost: 1431.76 €\n",
      "\n",
      "Iteration: 4\n",
      "Order Quantity (Q): 618.00 units\n",
      "Reorder Point (s): 347.88 units\n",
      "Total Cost: 1431.75 €\n",
      "\n",
      "Iteration: 5\n",
      "Order Quantity (Q): 618.04 units\n",
      "Reorder Point (s): 347.84 units\n",
      "Total Cost: 1431.75 €\n",
      "\n"
     ]
    }
   ],
   "source": [
    "# b)\n",
    "\n",
    "iterations = 5\n",
    "for i in range(iterations):\n",
    "\n",
    "    if i == 0:\n",
    "        Q = EOQ\n",
    "\n",
    "    # Calculate z value\n",
    "    z = math.sqrt(\n",
    "        2\n",
    "        * math.log(\n",
    "            mean_demand\n",
    "            * shortage_penalty\n",
    "            / (\n",
    "                math.sqrt(2 * math.pi)\n",
    "                * Q\n",
    "                * holding_cost\n",
    "                * std_demand\n",
    "                * math.sqrt(lead_time_years)\n",
    "            )\n",
    "        )\n",
    "    )\n",
    "\n",
    "    # Calculate safety stock\n",
    "    safety_stock = z * std_demand * math.sqrt(lead_time_years)\n",
    "\n",
    "    # Calculate reorder point (s)\n",
    "    s = safety_stock + mean_demand * lead_time_years\n",
    "\n",
    "    # Calculate expected shortage cost\n",
    "    expected_shortage_cost = (\n",
    "        (mean_demand / Q) * shortage_penalty * (1 - norm.cdf(z))\n",
    "    )  # Expected shortage during lead time\n",
    "\n",
    "    # Calculate annual holding cost\n",
    "    expected_holding_cost = (\n",
    "        Q / 2 + z * std_demand * math.sqrt(lead_time_years)\n",
    "    ) * holding_cost\n",
    "\n",
    "    # Calculate total expected annual cost\n",
    "    total_cost = (\n",
    "        expected_holding_cost\n",
    "        + expected_shortage_cost\n",
    "        + (mean_demand / Q) * fixed_order_cost\n",
    "    )\n",
    "\n",
    "    # Update order quantity (Q) for next iteration\n",
    "    Q = math.sqrt(\n",
    "        (2 * mean_demand * (fixed_order_cost + shortage_penalty * (1 - norm.cdf(z))))\n",
    "        / holding_cost\n",
    "    )\n",
    "\n",
    "    # Print the results for each iteration\n",
    "    print(f\"Iteration: {i+1}\")\n",
    "    print(f\"Order Quantity (Q): {Q:.2f} units\")\n",
    "    print(f\"Reorder Point (s): {s:.2f} units\")\n",
    "    print(f\"Total Cost: {total_cost:.2f} €\")\n",
    "    print()"
   ]
  },
  {
   "cell_type": "code",
   "execution_count": 13,
   "id": "3f288586",
   "metadata": {},
   "outputs": [
    {
     "name": "stdout",
     "output_type": "stream",
     "text": [
      "Mean Demand per Day: 700.00 packs\n",
      "Standard Deviation of Demand per Day: 31.71 packs\n",
      "Reorder Point for One-Day Lead Time: 711.61 packs\n"
     ]
    }
   ],
   "source": [
    "# Question 2\n",
    "\n",
    "# a)\n",
    "import statistics\n",
    "\n",
    "\n",
    "# Demand data\n",
    "demand_data = [83, 101, 105, 145, 179, 65, 79, 121, 81, 103, 75, 89, 61, 123, 85]\n",
    "\n",
    "# Calculate mean demand per day\n",
    "mean_demand = statistics.mean(demand_data)\n",
    "\n",
    "# Calculate standard deviation of demand per day\n",
    "std_demand = statistics.stdev(demand_data)\n",
    "\n",
    "# Weekly demand and order quantities\n",
    "fixed_order_cost = 20\n",
    "mean_demand = 700\n",
    "order_quantity = 300\n",
    "holding_cost = 2.5\n",
    "shortage_penalty = 3\n",
    "lead_time = 1\n",
    "\n",
    "# calculate z values\n",
    "z = norm.ppf(1 - ((holding_cost * order_quantity) / (shortage_penalty * mean_demand)))\n",
    "\n",
    "# Calculate reorder point for coffee with one-day lead time\n",
    "reorder_point = (mean_demand) + (z * std_demand)\n",
    "\n",
    "\n",
    "# Print the results\n",
    "print(f\"Mean Demand per Day: {mean_demand:.2f} packs\")\n",
    "print(f\"Standard Deviation of Demand per Day: {std_demand:.2f} packs\")\n",
    "print(f\"Reorder Point for One-Day Lead Time: {reorder_point:.2f} packs\")"
   ]
  },
  {
   "cell_type": "code",
   "execution_count": 14,
   "id": "c63ec63e",
   "metadata": {},
   "outputs": [
    {
     "name": "stdout",
     "output_type": "stream",
     "text": [
      "504.4797969993283\n"
     ]
    }
   ],
   "source": [
    "# b)\n",
    "# calculate loss function value\n",
    "g_z = norm.pdf(z) - z * (1 - norm.cdf(z))\n",
    "\n",
    "# Calculate expected shortage cost\n",
    "expected_shortage_cost = (\n",
    "    (mean_demand / order_quantity)\n",
    "    * shortage_penalty\n",
    "    * std_demand\n",
    "    * math.sqrt(lead_time)\n",
    "    * g_z\n",
    ")  # Expected shortage during lead time\n",
    "\n",
    "# Calculate annual holding cost\n",
    "expected_holding_cost = (\n",
    "    order_quantity / 2 + z * std_demand * math.sqrt(lead_time)\n",
    ") * holding_cost\n",
    "\n",
    "# Calculate total expected annual cost\n",
    "total_cost = (\n",
    "    expected_holding_cost\n",
    "    + expected_shortage_cost\n",
    "    + (mean_demand / order_quantity) * fixed_order_cost\n",
    ")\n",
    "\n",
    "print(total_cost)"
   ]
  },
  {
   "cell_type": "code",
   "execution_count": 15,
   "id": "1cdda349",
   "metadata": {},
   "outputs": [
    {
     "name": "stdout",
     "output_type": "stream",
     "text": [
      "0.9977916145497414\n"
     ]
    }
   ],
   "source": [
    "# c)\n",
    "z = norm.ppf(0.95)\n",
    "g_z = norm.pdf(z) - z * (1 - norm.cdf(z))\n",
    "fill_rate = 1 - (std_demand * lead_time * g_z / order_quantity)\n",
    "print(fill_rate)"
   ]
  },
  {
   "cell_type": "code",
   "execution_count": 16,
   "id": "85c0d186",
   "metadata": {},
   "outputs": [
    {
     "name": "stdout",
     "output_type": "stream",
     "text": [
      "Reorder Point (s): 100\n",
      "Expected Overage Cost: 0.00 €\n",
      "Expected Underage Cost: 198.00 €\n",
      "Optimal Order Quantity: 550.76 \n",
      "Expected total cost: 4956.81 €\n",
      "Reorder Point (s): 150\n",
      "Expected Overage Cost: 49.50 €\n",
      "Expected Underage Cost: 110.00 €\n",
      "Optimal Order Quantity: 453.38 \n",
      "Expected total cost: 4129.94 €\n",
      "Reorder Point (s): 200\n",
      "Expected Overage Cost: 211.50 €\n",
      "Expected Underage Cost: 47.00 €\n",
      "Optimal Order Quantity: 368.18 \n",
      "Expected total cost: 3525.11 €\n",
      "Reorder Point (s): 250\n",
      "Expected Overage Cost: 495.00 €\n",
      "Expected Underage Cost: 11.00 €\n",
      "Optimal Order Quantity: 309.12 \n",
      "Expected total cost: 3277.09 €\n",
      "Reorder Point (s): 300\n",
      "Expected Overage Cost: 891.00 €\n",
      "Expected Underage Cost: 0.00 €\n",
      "Optimal Order Quantity: 288.68 \n",
      "Expected total cost: 3489.08 €\n",
      "Reorder Point (s): 350\n",
      "Expected Overage Cost: 1336.50 €\n",
      "Expected Underage Cost: 0.00 €\n",
      "Optimal Order Quantity: 288.68 \n",
      "Expected total cost: 3934.58 €\n"
     ]
    }
   ],
   "source": [
    "# Question 3\n",
    "\n",
    "# a,b,c)\n",
    "annual_demand = 5000  # Annual demand\n",
    "unit_cost = 30  # Cost per unit\n",
    "holding_cost = 9  # Holding cost per unit per year\n",
    "order_cost = 75  # Order cost per order\n",
    "stockout_cost = 2  # Cost per unit for stockouts\n",
    "\n",
    "reorder_points = [100, 150, 200, 250, 300, 350]  # List of reorder points\n",
    "\n",
    "lead_time_demand = [100, 150, 200, 250, 300]  # Lead time demand values\n",
    "demand_probabilities = [\n",
    "    0.11,\n",
    "    0.25,\n",
    "    0.27,\n",
    "    0.25,\n",
    "    0.11,\n",
    "]  # Probabilities of lead time demand\n",
    "\n",
    "for s in reorder_points:\n",
    "\n",
    "    expected_overage_cost = 0\n",
    "    expected_underage_cost = 0\n",
    "    expected_underage = 0\n",
    "    expected_overage = 0\n",
    "\n",
    "    for demand, probability in zip(lead_time_demand, demand_probabilities):\n",
    "        if demand > s:\n",
    "            expected_underage += (demand - s) * probability\n",
    "            expected_underage_cost += (demand - s) * probability * stockout_cost\n",
    "        elif demand < s:\n",
    "            expected_overage += (s - demand) * probability\n",
    "            expected_overage_cost += (s - demand) * probability * holding_cost\n",
    "\n",
    "    Q = math.sqrt(\n",
    "        2 * annual_demand * (order_cost + expected_underage_cost) / holding_cost\n",
    "    )\n",
    "    expected_total_cost = (\n",
    "        (annual_demand / Q) * order_cost\n",
    "        + holding_cost * (Q / 2 + expected_overage)\n",
    "        + (annual_demand / Q) * stockout_cost * expected_underage\n",
    "    )\n",
    "\n",
    "    print(f\"Reorder Point (s): {s}\")\n",
    "    print(f\"Expected Overage Cost: {expected_overage_cost:.2f} €\")\n",
    "    print(f\"Expected Underage Cost: {expected_underage_cost:.2f} €\")\n",
    "    print(f\"Optimal Order Quantity: {Q:.2f} \")\n",
    "    print(f\"Expected total cost: {expected_total_cost:.2f} €\")"
   ]
  },
  {
   "cell_type": "code",
   "execution_count": 17,
   "id": "256dda97",
   "metadata": {},
   "outputs": [
    {
     "name": "stdout",
     "output_type": "stream",
     "text": [
      "1060.216\n"
     ]
    }
   ],
   "source": [
    "# Question 4\n",
    "\n",
    "# a)\n",
    "mean_demand = 250  # Mean demand per week\n",
    "std_demand = 30  # Standard deviation of demand per week\n",
    "fill_rate = 0.98  # Desired adjusted fill rate\n",
    "lead_time = 3  # Lead time in weeks\n",
    "R = 1\n",
    "\n",
    "g_z = mean_demand * (1 - fill_rate) / (std_demand * math.sqrt(lead_time + R))\n",
    "z = 1.0036  # better to look at from the table\n",
    "\n",
    "S = mean_demand * (lead_time + R) + z * std_demand * math.sqrt(lead_time + R)\n",
    "print(S)"
   ]
  },
  {
   "cell_type": "code",
   "execution_count": 18,
   "id": "b65d9303",
   "metadata": {},
   "outputs": [
    {
     "data": {
      "text/plain": [
       "np.float64(0.8422142727099013)"
      ]
     },
     "execution_count": 18,
     "metadata": {},
     "output_type": "execute_result"
    }
   ],
   "source": [
    "# b)\n",
    "norm.cdf(z)"
   ]
  },
  {
   "cell_type": "code",
   "execution_count": 19,
   "id": "f4786d34",
   "metadata": {},
   "outputs": [
    {
     "name": "stdout",
     "output_type": "stream",
     "text": [
      "1392.079386423238\n"
     ]
    }
   ],
   "source": [
    "# c)\n",
    "z = norm.ppf(0.9)\n",
    "\n",
    "mean_lead_time = 3\n",
    "var_lead_time = 1.44\n",
    "\n",
    "safety_stock = z * math.sqrt(\n",
    "    (lead_time + R) * std_demand**2 + mean_demand**2 * var_lead_time\n",
    ")\n",
    "\n",
    "reorder_point = mean_demand * (lead_time + R) + safety_stock\n",
    "print(reorder_point)"
   ]
  },
  {
   "cell_type": "code",
   "execution_count": 20,
   "id": "bfb732b9",
   "metadata": {},
   "outputs": [
    {
     "data": {
      "text/plain": [
       "np.float64(4930.542675912044)"
      ]
     },
     "execution_count": 20,
     "metadata": {},
     "output_type": "execute_result"
    }
   ],
   "source": [
    "# Excercise 5\n",
    "from scipy.stats import gamma\n",
    "\n",
    "mu = 1500\n",
    "sigma = 750\n",
    "lead_time = 1\n",
    "R = 1\n",
    "\n",
    "\n",
    "mu_new = mu * (lead_time + R)\n",
    "sigma_new = sigma * math.sqrt(lead_time + R)\n",
    "\n",
    "alpha = mu_new**2 / sigma_new**2\n",
    "beta = sigma_new**2 / mu_new\n",
    "\n",
    "gamma.ppf(0.95, alpha, scale=beta)"
   ]
  }
 ],
 "metadata": {
  "kernelspec": {
   "display_name": ".venv",
   "language": "python",
   "name": "python3"
  },
  "language_info": {
   "codemirror_mode": {
    "name": "ipython",
    "version": 3
   },
   "file_extension": ".py",
   "mimetype": "text/x-python",
   "name": "python",
   "nbconvert_exporter": "python",
   "pygments_lexer": "ipython3",
   "version": "3.12.8"
  }
 },
 "nbformat": 4,
 "nbformat_minor": 5
}
