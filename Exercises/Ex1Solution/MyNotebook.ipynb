{
 "cells": [
  {
   "cell_type": "code",
   "execution_count": 105,
   "id": "9d053120",
   "metadata": {},
   "outputs": [
    {
     "data": {
      "text/plain": [
       "<module 'inventory_management_formulas' from '/Users/karlkompatscher/Dev/tum/ss25/InventoryManagement/inventory_management_formulas.py'>"
      ]
     },
     "execution_count": 105,
     "metadata": {},
     "output_type": "execute_result"
    }
   ],
   "source": [
    "import sys\n",
    "import os\n",
    "import importlib\n",
    "\n",
    "current_dir = os.getcwd()\n",
    "parent_dir = os.path.abspath(os.path.join(current_dir, \"..\", \"..\"))\n",
    "sys.path.append(parent_dir)\n",
    "\n",
    "import inventory_management_formulas as imf\n",
    "\n",
    "importlib.reload(imf)"
   ]
  },
  {
   "cell_type": "code",
   "execution_count": 106,
   "id": "52d82d79",
   "metadata": {},
   "outputs": [
    {
     "name": "stdout",
     "output_type": "stream",
     "text": [
      "[INFO] EOQ: 858.75 units\n",
      "The optimal order quantity is 858.7517367985613 units. The order should be placed every 1.4312528946642689 weeks\n"
     ]
    }
   ],
   "source": [
    "D = 600 * 52  # units, annual demand\n",
    "A = 26  # EUR, setup cost\n",
    "H = 2.2  # EUR / unit, annual holding cost\n",
    "c = 1.35  # EUR / unit, producement cost\n",
    "\n",
    "eoq = imf.eoq(D, A, H)\n",
    "T = eoq / D * 52\n",
    "\n",
    "print(\n",
    "    f\"The optimal order quantity is {eoq} units. The order should be placed every {T} weeks\"\n",
    ")"
   ]
  },
  {
   "cell_type": "code",
   "execution_count": 107,
   "id": "8c3ebc7b",
   "metadata": {},
   "outputs": [
    {
     "name": "stdout",
     "output_type": "stream",
     "text": [
      "[INFO] Percentage deviation of order quantity: -41.78 %\n",
      "[INFO] Percentage Cost Penalty (PCP): 14.99 %\n",
      "[INFO] TRC (ordering)_(EOQ): 944.63 \n",
      "[INFO] TRC (holding)_(EOQ): 944.63 \n",
      "[INFO] TRC (cost per period)_(EOQ): 1889.25 \n",
      "[INFO] TRC (ordering)_(Q): 1622.4 \n",
      "[INFO] TRC (holding)_(Q): 550.0 \n",
      "[INFO] TRC (cost per period)_(Q): 2172.4 \n",
      "PCP double check: 14.987196315408918 %\n",
      "[INFO] Total annual cost (purchase): 42120.0 \n",
      "[INFO] Total annual cost (ordering): 944.63 \n",
      "[INFO] Total annual cost (holding): 944.63 \n",
      "[INFO] Total annual cost: 44009.25 \n",
      "[INFO] Total annual cost (purchase): 42120.0 \n",
      "[INFO] Total annual cost (ordering): 1622.4 \n",
      "[INFO] Total annual cost (holding): 550.0 \n",
      "[INFO] Total annual cost: 44292.4 \n",
      "Total Cost Comparison (TCC): 0.643378731652886 %\n"
     ]
    }
   ],
   "source": [
    "# Sensitivity Analysis of EOQ\n",
    "\n",
    "q = 500\n",
    "\n",
    "PCP = imf.cost_penalty(q, eoq)\n",
    "\n",
    "# should be the same as this\n",
    "TRC_EOQ = imf.total_relevant_cost(eoq, D, A, H, suffix=\"EOQ\")\n",
    "TRC_Q = imf.total_relevant_cost(q, D, A, H, suffix=\"Q\")\n",
    "PCP_double_check = (TRC_Q - TRC_EOQ) / TRC_EOQ * 100\n",
    "print(f\"PCP double check: {PCP_double_check} %\")\n",
    "\n",
    "TC_eoq = imf.total_annual_cost(D, A, H, eoq, c)\n",
    "TC_q = imf.total_annual_cost(D, A, H, q, c)\n",
    "TCC = (TC_q - TC_eoq) / TC_eoq * 100\n",
    "\n",
    "print(f\"Total Cost Comparison (TCC): {TCC} %\")"
   ]
  },
  {
   "cell_type": "code",
   "execution_count": 108,
   "id": "1034e96f",
   "metadata": {},
   "outputs": [
    {
     "name": "stdout",
     "output_type": "stream",
     "text": [
      "[INFO] EOQ sensitivity analysis (percentage deviation): -41.78 %\n",
      "[INFO] EOQ sensitivity analysis (percentage cost penalty): 14.99 %\n"
     ]
    },
    {
     "data": {
      "text/plain": [
       "(-41.77595472889439, 14.987196315408935)"
      ]
     },
     "execution_count": 108,
     "metadata": {},
     "output_type": "execute_result"
    }
   ],
   "source": [
    "imf.eoq_sensitivity_analysis(q, eoq)"
   ]
  },
  {
   "cell_type": "code",
   "execution_count": 109,
   "id": "f20997b1",
   "metadata": {},
   "outputs": [
    {
     "name": "stdout",
     "output_type": "stream",
     "text": [
      "[INFO] Percentage deviation of order quantity: -41.78 %\n",
      "[INFO] Percentage Cost Penalty (PCP): 14.99 %\n",
      "[INFO] TRC (EOQ) (ordering): 944.63 \n",
      "[INFO] TRC (EOQ) (holding): 944.63 \n",
      "[INFO] TRC (EOQ) (cost per period): 1889.25 \n",
      "[INFO] TRC (actual) (ordering): 1622.4 \n",
      "[INFO] TRC (actual) (holding): 550.0 \n",
      "[INFO] TRC (actual) (cost per period): 2172.4 \n",
      "[INFO] EOQ sensitivity analysis (exact PCP): 14.99 %\n",
      "[INFO] Total cost (EOQ) (purchase): 42120.0 \n",
      "[INFO] Total cost (EOQ) (ordering): 944.63 \n",
      "[INFO] Total cost (EOQ) (holding): 944.63 \n",
      "[INFO] Total cost (EOQ): 44009.25 \n",
      "[INFO] Total cost (actual) (purchase): 42120.0 \n",
      "[INFO] Total cost (actual) (ordering): 1622.4 \n",
      "[INFO] Total cost (actual) (holding): 550.0 \n",
      "[INFO] Total cost (actual): 44292.4 \n",
      "[INFO] EOQ sensitivity analysis (total cost comparison): 0.64 %\n"
     ]
    },
    {
     "data": {
      "text/plain": [
       "(14.987196315408937, 14.987196315408918, 0.643378731652886)"
      ]
     },
     "execution_count": 109,
     "metadata": {},
     "output_type": "execute_result"
    }
   ],
   "source": [
    "imf.eoq_sensitivity_analysis_complete(\n",
    "    q_actual=500,\n",
    "    q_optimal=eoq,\n",
    "    D=D,\n",
    "    A=A,\n",
    "    h=H,\n",
    "    c=c,\n",
    ")"
   ]
  },
  {
   "cell_type": "code",
   "execution_count": 110,
   "id": "c43515f0",
   "metadata": {},
   "outputs": [
    {
     "name": "stdout",
     "output_type": "stream",
     "text": [
      "[INFO] Power-of-two cycle (initital t): 1 \n",
      "Continue as t=1: 38.69 > t=2: 38.38\n",
      "[INFO] Power-of-two cycle (updated t): 2 \n",
      "BREAK as t=2: 38.38 <= t=4: 57.27\n",
      "[INFO] Power-of-two cycle (optimal t): 2 \n",
      "\n",
      "\n",
      "[INFO] Power-of-two cycle (initital t): 1 \n",
      "[INFO] Power-of-two cycle (ordering): 26.0 \n",
      "[INFO] Power-of-two cycle (holding): 12.69 \n",
      "[INFO] Power-of-two cycle (cost per period): 38.69 \n",
      "[INFO] Power-of-two cycle (ordering): 13.0 \n",
      "[INFO] Power-of-two cycle (holding): 25.38 \n",
      "[INFO] Power-of-two cycle (cost per period): 38.38 \n",
      "Continue as t=1: 38.69 > t=2: 38.38\n",
      "[INFO] Power-of-two cycle (updated t): 2 \n",
      "[INFO] Power-of-two cycle (ordering): 13.0 \n",
      "[INFO] Power-of-two cycle (holding): 25.38 \n",
      "[INFO] Power-of-two cycle (cost per period): 38.38 \n",
      "[INFO] Power-of-two cycle (ordering): 6.5 \n",
      "[INFO] Power-of-two cycle (holding): 50.77 \n",
      "[INFO] Power-of-two cycle (cost per period): 57.27 \n",
      "BREAK as t=2: 38.38 <= t=4: 57.27\n",
      "[INFO] Power-of-two cycle (optimal t): 2 \n",
      "[INFO] EOQ: 858.75 units\n",
      "[INFO] Percentage deviation of order quantity: 39.74 %\n",
      "[INFO] Percentage Cost Penalty (PCP): 5.65 %\n",
      "[INFO] Power-of-two cycle (percentage error vs EOQ): 5.65 %\n"
     ]
    },
    {
     "data": {
      "text/plain": [
       "(2, 5.650176691933448)"
      ]
     },
     "execution_count": 110,
     "metadata": {},
     "output_type": "execute_result"
    }
   ],
   "source": [
    "imf.optimal_power_of_two_cycle(D / 52, A, H / 52)"
   ]
  },
  {
   "cell_type": "code",
   "execution_count": 111,
   "id": "cfc8c7b4",
   "metadata": {},
   "outputs": [
    {
     "name": "stdout",
     "output_type": "stream",
     "text": [
      "[INFO] All-unit quantity discount (tier 0) unit price: 10 \n",
      "[INFO] All-unit quantity discount (tier 0) EOQ: 200.0 units\n",
      "[INFO] All-unit quantity discount (tier 0) adjusted q: 200.0 units\n",
      "[INFO] All-unit quantity discount (tier 0) total cost: 21320.0 \n",
      "[INFO] All-unit quantity discount (tier 1) unit price: 9.7 \n",
      "[INFO] All-unit quantity discount (tier 1) EOQ: 203.07 units\n",
      "[INFO] All-unit quantity discount (tier 1) adjusted q: 300 units\n",
      "[INFO] All-unit quantity discount (tier 1) total cost: 20727.63 \n",
      "[INFO] All-unit quantity discount (tier 2) unit price: 9.25 \n",
      "[INFO] All-unit quantity discount (tier 2) EOQ: 207.95 units\n",
      "[INFO] All-unit quantity discount (tier 2) adjusted q: 500 units\n",
      "[INFO] All-unit quantity discount (tier 2) total cost: 19945.25 \n",
      "[INFO] All-unit quantity discount (optimal quantity): 500 units\n",
      "[INFO] All-unit quantity discount (optimal cost): 19945.25 \n"
     ]
    },
    {
     "data": {
      "text/plain": [
       "(500, 19945.25)"
      ]
     },
     "execution_count": 111,
     "metadata": {},
     "output_type": "execute_result"
    }
   ],
   "source": [
    "D_week = 40  # units / week\n",
    "D_year = D_week * 52  # units / year\n",
    "A = 25  # EUR / units\n",
    "i_year = 0.26  # EUR / (EUR * year)\n",
    "i_week = i_year / 52  # EUR / (EUR * week)\n",
    "\n",
    "break_points = [0, 300, 500]\n",
    "purchase_costs = [10, 9.7, 9.25]\n",
    "\n",
    "\n",
    "imf.eoq_all_unit_quantity_discount(D_year, A, i_year, break_points, purchase_costs)"
   ]
  },
  {
   "cell_type": "code",
   "execution_count": 112,
   "id": "107a0939",
   "metadata": {},
   "outputs": [
    {
     "name": "stdout",
     "output_type": "stream",
     "text": [
      "[INFO] Incremental quantity discount (feasible tier 0) quantity: 200.0 units\n",
      "[INFO] Incremental quantity discount (feasible tier 0) cost: 21320.0 \n",
      "[INFO] Incremental quantity discount (feasible tier 1) quantity: 435.53 units\n",
      "[INFO] Incremental quantity discount (feasible tier 1) cost: 21286.12 \n",
      "[INFO] Incremental quantity discount (feasible tier 2) quantity: 601.75 units\n",
      "[INFO] Incremental quantity discount (feasible tier 2) cost: 21271.03 \n",
      "[INFO] Incremental quantity discount (optimal quantity): 601.75 units\n",
      "[INFO] Incremental quantity discount (optimal cost): 21271.03 \n"
     ]
    },
    {
     "data": {
      "text/plain": [
       "(601.7518285455349, 21271.027016507473)"
      ]
     },
     "execution_count": 112,
     "metadata": {},
     "output_type": "execute_result"
    }
   ],
   "source": [
    "bp = [0, 300, 500]\n",
    "cp = [10, 9.7, 9.5]\n",
    "\n",
    "imf.eoq_incremental_quantity_discount(D_year, A, i_year, bp, cp)"
   ]
  }
 ],
 "metadata": {
  "kernelspec": {
   "display_name": "base",
   "language": "python",
   "name": "python3"
  },
  "language_info": {
   "codemirror_mode": {
    "name": "ipython",
    "version": 3
   },
   "file_extension": ".py",
   "mimetype": "text/x-python",
   "name": "python",
   "nbconvert_exporter": "python",
   "pygments_lexer": "ipython3",
   "version": "3.12.4"
  }
 },
 "nbformat": 4,
 "nbformat_minor": 5
}
