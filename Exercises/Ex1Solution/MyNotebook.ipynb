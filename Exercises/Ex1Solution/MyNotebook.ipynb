{
 "cells": [
  {
   "cell_type": "code",
   "execution_count": null,
   "id": "9d053120",
   "metadata": {},
   "outputs": [
    {
     "data": {
      "text/plain": [
       "<module 'inventory_management_formulas' from '/Users/karlkompatscher/Dev/InventoryManagement/inventory_management_formulas.py'>"
      ]
     },
     "execution_count": 1,
     "metadata": {},
     "output_type": "execute_result"
    }
   ],
   "source": [
    "import sys\n",
    "import os\n",
    "import importlib\n",
    "\n",
    "current_dir = os.getcwd()\n",
    "parent_dir = os.path.abspath(os.path.join(current_dir, \"..\", \"..\"))\n",
    "sys.path.append(parent_dir)\n",
    "\n",
    "import imf as imf\n",
    "\n",
    "importlib.reload(imf)"
   ]
  },
  {
   "cell_type": "code",
   "execution_count": 2,
   "id": "52d82d79",
   "metadata": {},
   "outputs": [
    {
     "name": "stdout",
     "output_type": "stream",
     "text": [
      "[INFO] EOQ: 858.75 units\n",
      "The optimal order quantity is 858.7517367985613 units. The order should be placed every 1.4312528946642689 weeks\n"
     ]
    }
   ],
   "source": [
    "D = 600 * 52  # units, annual demand\n",
    "A = 26  # EUR, setup cost\n",
    "H = 2.2  # EUR / unit, annual holding cost\n",
    "c = 1.35  # EUR / unit, producement cost\n",
    "\n",
    "eoq = imf.eoq(D, A, H)\n",
    "T = eoq / D * 52\n",
    "\n",
    "print(\n",
    "    f\"The optimal order quantity is {eoq} units. The order should be placed every {T} weeks\"\n",
    ")"
   ]
  },
  {
   "cell_type": "code",
   "execution_count": 3,
   "id": "8c3ebc7b",
   "metadata": {},
   "outputs": [
    {
     "name": "stdout",
     "output_type": "stream",
     "text": [
      "[INFO] Percentage deviation of order quantity: -41.78 %\n",
      "[INFO] Percentage Cost Penalty (PCP): 14.99 %\n",
      "[INFO] TRC (ordering)_(EOQ): 944.63 \n",
      "[INFO] TRC (holding)_(EOQ): 944.63 \n",
      "[INFO] TRC (cost per period)_(EOQ): 1889.25 \n",
      "[INFO] TRC (ordering)_(Q): 1622.4 \n",
      "[INFO] TRC (holding)_(Q): 550.0 \n",
      "[INFO] TRC (cost per period)_(Q): 2172.4 \n",
      "PCP double check: 14.987196315408918 %\n",
      "[INFO] Total annual cost (purchase): 42120.0 \n",
      "[INFO] Total annual cost (ordering): 944.63 \n",
      "[INFO] Total annual cost (holding): 944.63 \n",
      "[INFO] Total annual cost: 44009.25 \n",
      "[INFO] Total annual cost (purchase): 42120.0 \n",
      "[INFO] Total annual cost (ordering): 1622.4 \n",
      "[INFO] Total annual cost (holding): 550.0 \n",
      "[INFO] Total annual cost: 44292.4 \n",
      "Total Cost Comparison (TCC): 0.643378731652886 %\n"
     ]
    }
   ],
   "source": [
    "# Sensitivity Analysis of EOQ\n",
    "\n",
    "q = 500\n",
    "\n",
    "PCP = imf.cost_penalty(q, eoq)\n",
    "\n",
    "# should be the same as this\n",
    "TRC_EOQ = imf.total_relevant_cost(eoq, D, A, H, suffix=\"EOQ\")\n",
    "TRC_Q = imf.total_relevant_cost(q, D, A, H, suffix=\"Q\")\n",
    "PCP_double_check = (TRC_Q - TRC_EOQ) / TRC_EOQ * 100\n",
    "print(f\"PCP double check: {PCP_double_check} %\")\n",
    "\n",
    "TC_eoq = imf.total_annual_cost(D, A, H, eoq, c)\n",
    "TC_q = imf.total_annual_cost(D, A, H, q, c)\n",
    "TCC = (TC_q - TC_eoq) / TC_eoq * 100\n",
    "\n",
    "print(f\"Total Cost Comparison (TCC): {TCC} %\")"
   ]
  },
  {
   "cell_type": "code",
   "execution_count": 4,
   "id": "1034e96f",
   "metadata": {},
   "outputs": [
    {
     "name": "stdout",
     "output_type": "stream",
     "text": [
      "[INFO] EOQ sensitivity analysis (percentage deviation): -41.78 %\n",
      "[INFO] EOQ sensitivity analysis (percentage cost penalty): 14.99 %\n"
     ]
    },
    {
     "data": {
      "text/plain": [
       "(-41.77595472889439, 14.987196315408935)"
      ]
     },
     "execution_count": 4,
     "metadata": {},
     "output_type": "execute_result"
    }
   ],
   "source": [
    "imf.eoq_sensitivity_analysis(q, eoq)"
   ]
  },
  {
   "cell_type": "code",
   "execution_count": 5,
   "id": "f20997b1",
   "metadata": {},
   "outputs": [
    {
     "name": "stdout",
     "output_type": "stream",
     "text": [
      "[INFO] Percentage deviation of order quantity: -41.78 %\n",
      "[INFO] Percentage Cost Penalty (PCP): 14.99 %\n",
      "[INFO] TRC (EOQ) (ordering): 944.63 \n",
      "[INFO] TRC (EOQ) (holding): 944.63 \n",
      "[INFO] TRC (EOQ) (cost per period): 1889.25 \n",
      "[INFO] TRC (actual) (ordering): 1622.4 \n",
      "[INFO] TRC (actual) (holding): 550.0 \n",
      "[INFO] TRC (actual) (cost per period): 2172.4 \n",
      "[INFO] EOQ sensitivity analysis (exact PCP): 14.99 %\n",
      "[INFO] Total cost (EOQ) (purchase): 42120.0 \n",
      "[INFO] Total cost (EOQ) (ordering): 944.63 \n",
      "[INFO] Total cost (EOQ) (holding): 944.63 \n",
      "[INFO] Total cost (EOQ): 44009.25 \n",
      "[INFO] Total cost (actual) (purchase): 42120.0 \n",
      "[INFO] Total cost (actual) (ordering): 1622.4 \n",
      "[INFO] Total cost (actual) (holding): 550.0 \n",
      "[INFO] Total cost (actual): 44292.4 \n",
      "[INFO] EOQ sensitivity analysis (total cost comparison): 0.64 %\n"
     ]
    },
    {
     "data": {
      "text/plain": [
       "(14.987196315408937, 14.987196315408918, 0.643378731652886)"
      ]
     },
     "execution_count": 5,
     "metadata": {},
     "output_type": "execute_result"
    }
   ],
   "source": [
    "imf.eoq_sensitivity_analysis_complete(\n",
    "    q_actual=500,\n",
    "    q_optimal=eoq,\n",
    "    D=D,\n",
    "    A=A,\n",
    "    h=H,\n",
    "    c=c,\n",
    ")"
   ]
  },
  {
   "cell_type": "code",
   "execution_count": 6,
   "id": "c43515f0",
   "metadata": {},
   "outputs": [
    {
     "name": "stdout",
     "output_type": "stream",
     "text": [
      "[INFO] Power-of-two cycle (initital t): 1 \n",
      "Continue as t=1: 38.69 > t=2: 38.38\n",
      "[INFO] Power-of-two cycle (updated t): 2 \n",
      "BREAK as t=2: 38.38 <= t=4: 57.27\n",
      "[INFO] Power-of-two cycle (optimal t): 2 \n",
      "\n",
      "\n",
      "[INFO] Power-of-two cycle (initital t): 1 \n",
      "[INFO] Power-of-two cycle (ordering): 26.0 \n",
      "[INFO] Power-of-two cycle (holding): 12.69 \n",
      "[INFO] Power-of-two cycle (cost per period): 38.69 \n",
      "[INFO] Power-of-two cycle (ordering): 13.0 \n",
      "[INFO] Power-of-two cycle (holding): 25.38 \n",
      "[INFO] Power-of-two cycle (cost per period): 38.38 \n",
      "Continue as t=1: 38.69 > t=2: 38.38\n",
      "[INFO] Power-of-two cycle (updated t): 2 \n",
      "[INFO] Power-of-two cycle (ordering): 13.0 \n",
      "[INFO] Power-of-two cycle (holding): 25.38 \n",
      "[INFO] Power-of-two cycle (cost per period): 38.38 \n",
      "[INFO] Power-of-two cycle (ordering): 6.5 \n",
      "[INFO] Power-of-two cycle (holding): 50.77 \n",
      "[INFO] Power-of-two cycle (cost per period): 57.27 \n",
      "BREAK as t=2: 38.38 <= t=4: 57.27\n",
      "[INFO] Power-of-two cycle (optimal t): 2 \n",
      "[INFO] EOQ: 858.75 units\n",
      "[INFO] Percentage deviation of order quantity: 39.74 %\n",
      "[INFO] Percentage Cost Penalty (PCP): 5.65 %\n",
      "[INFO] Power-of-two cycle (percentage error vs EOQ): 5.65 %\n"
     ]
    },
    {
     "data": {
      "text/plain": [
       "(2, 5.650176691933448)"
      ]
     },
     "execution_count": 6,
     "metadata": {},
     "output_type": "execute_result"
    }
   ],
   "source": [
    "imf.optimal_power_of_two_cycle(D / 52, A, H / 52)"
   ]
  },
  {
   "cell_type": "code",
   "execution_count": 7,
   "id": "cfc8c7b4",
   "metadata": {},
   "outputs": [
    {
     "name": "stdout",
     "output_type": "stream",
     "text": [
      "[INFO] All-unit quantity discount (tier 0) unit price: 10 \n",
      "[INFO] All-unit quantity discount (tier 0) EOQ: 200.0 units\n",
      "[INFO] All-unit quantity discount (tier 0) adjusted q: 200.0 units\n",
      "[INFO] All-unit quantity discount (tier 0) total cost: 21320.0 \n",
      "[INFO] All-unit quantity discount (tier 1) unit price: 9.7 \n",
      "[INFO] All-unit quantity discount (tier 1) EOQ: 203.07 units\n",
      "[INFO] All-unit quantity discount (tier 1) adjusted q: 300 units\n",
      "[INFO] All-unit quantity discount (tier 1) total cost: 20727.63 \n",
      "[INFO] All-unit quantity discount (tier 2) unit price: 9.25 \n",
      "[INFO] All-unit quantity discount (tier 2) EOQ: 207.95 units\n",
      "[INFO] All-unit quantity discount (tier 2) adjusted q: 500 units\n",
      "[INFO] All-unit quantity discount (tier 2) total cost: 19945.25 \n",
      "[INFO] All-unit quantity discount (optimal quantity): 500 units\n",
      "[INFO] All-unit quantity discount (optimal cost): 19945.25 \n"
     ]
    },
    {
     "data": {
      "text/plain": [
       "(500, 19945.25)"
      ]
     },
     "execution_count": 7,
     "metadata": {},
     "output_type": "execute_result"
    }
   ],
   "source": [
    "D_week = 40  # units / week\n",
    "D_year = D_week * 52  # units / year\n",
    "A = 25  # EUR / units\n",
    "i_year = 0.26  # EUR / (EUR * year)\n",
    "i_week = i_year / 52  # EUR / (EUR * week)\n",
    "\n",
    "break_points = [0, 300, 500]\n",
    "purchase_costs = [10, 9.7, 9.25]\n",
    "\n",
    "\n",
    "imf.eoq_all_unit_quantity_discount(D_year, A, i_year, break_points, purchase_costs)"
   ]
  },
  {
   "cell_type": "code",
   "execution_count": 8,
   "id": "107a0939",
   "metadata": {},
   "outputs": [
    {
     "name": "stdout",
     "output_type": "stream",
     "text": [
      "[INFO] Incremental quantity discount (feasible tier 0) quantity: 200.0 units\n",
      "[INFO] Incremental quantity discount (feasible tier 0) cost: 21320.0 \n",
      "[INFO] Incremental quantity discount (feasible tier 1) quantity: 435.53 units\n",
      "[INFO] Incremental quantity discount (feasible tier 1) cost: 21286.12 \n",
      "[INFO] Incremental quantity discount (optimal quantity): 435.53 units\n",
      "[INFO] Incremental quantity discount (optimal cost): 21286.12 \n"
     ]
    },
    {
     "data": {
      "text/plain": [
       "(np.float64(435.5349832671132), np.float64(21286.119227799656))"
      ]
     },
     "execution_count": 8,
     "metadata": {},
     "output_type": "execute_result"
    }
   ],
   "source": [
    "bp = [0, 300]\n",
    "cp = [10, 9.7]\n",
    "\n",
    "imf.eoq_incremental_quantity_discount(D_year, A, i_year, bp, cp)"
   ]
  },
  {
   "cell_type": "code",
   "execution_count": 9,
   "id": "b6d3962f",
   "metadata": {},
   "outputs": [
    {
     "name": "stdout",
     "output_type": "stream",
     "text": [
      "[INFO] Critical ratio: 0.86 \n",
      "[INFO] z-value: 1.07 \n",
      "[INFO] Order quantity: 2266.89 units\n"
     ]
    }
   ],
   "source": [
    "mu = 2000\n",
    "sigma = 250\n",
    "c = 3\n",
    "p = 6\n",
    "g = 2.5\n",
    "\n",
    "CR = imf.newsvendor_critical_ratio(p, c, g)\n",
    "Q = imf.newsvendor_normal(mu, sigma, CR)"
   ]
  },
  {
   "cell_type": "code",
   "execution_count": 10,
   "id": "e5b0bc15",
   "metadata": {},
   "outputs": [
    {
     "name": "stdout",
     "output_type": "stream",
     "text": [
      "\n",
      "\n"
     ]
    }
   ],
   "source": [
    "imf.newsvendor_general(\"normal\", \"normal\", {\"mu\": mu, \"sigma\": sigma}, p, c, g)\n",
    "print('\\n')\n"
   ]
  },
  {
   "cell_type": "code",
   "execution_count": 11,
   "id": "6a79b8c4",
   "metadata": {},
   "outputs": [
    {
     "name": "stdout",
     "output_type": "stream",
     "text": [
      "[INFO] Lower bound: 4000 \n",
      "[INFO] Upper bound: 8000 \n",
      "[INFO] Critical ratio: 0.75 \n",
      "[INFO] Newsvendor uniform: 7000.0 units\n",
      "[INFO] Lambda: 6000 \n",
      "[INFO] Critical ratio: 0.75 \n",
      "[INFO] Newsvendor Poisson: 6052.0 units\n",
      "[INFO] Mean demand: 6000 \n",
      "[INFO] Std deviation: 1154.7 \n",
      "[INFO] Critical ratio: 0.75 \n",
      "[INFO] Gamma alpha: 27.0 \n",
      "[INFO] Gamma theta: 222.22 \n",
      "[INFO] Newsvendor Gamma: 6733.33 units\n"
     ]
    },
    {
     "data": {
      "text/plain": [
       "np.float64(6733.331113013687)"
      ]
     },
     "execution_count": 11,
     "metadata": {},
     "output_type": "execute_result"
    }
   ],
   "source": [
    "from scipy.stats import norm, poisson, gamma, uniform\n",
    "\n",
    "loc = 4000\n",
    "scale = 8000 - 4000\n",
    "beta = 0.75\n",
    "\n",
    "imf.newsvendor_uniform(loc, scale, beta)\n",
    "\n",
    "lam = 6000\n",
    "imf.newsvendor_poisson(lam, 0.75)\n",
    "\n",
    "mu = 6000\n",
    "sigma = uniform.std(loc, scale)\n",
    "imf.newsvendor_gamma(mu, sigma, beta)\n"
   ]
  },
  {
   "cell_type": "code",
   "execution_count": 12,
   "id": "6886023b",
   "metadata": {},
   "outputs": [
    {
     "name": "stdout",
     "output_type": "stream",
     "text": [
      "[Step 1] Computed G(z) value: 0.1250\n",
      "[Step 2] Recovered z from G(z): 0.7777\n",
      "[Step 3] Optimal order quantity Q: 26.22\n",
      "\n",
      "[Step 4] Verifying with newsvendor fill rate function:\n",
      "[INFO] Desired fill rate: 0.95 \n",
      "[INFO] Mean demand: 20 \n",
      "[INFO] Standard deviation: 8 \n",
      "[INFO] Z for fill rate: 0.78 \n"
     ]
    },
    {
     "data": {
      "text/plain": [
       "np.float64(0.7777186217248677)"
      ]
     },
     "execution_count": 12,
     "metadata": {},
     "output_type": "execute_result"
    }
   ],
   "source": [
    "c_per_cake = 20\n",
    "c_per_piece = c_per_cake / 12\n",
    "p_per_piece = 3\n",
    "p_per_cake = p_per_piece * 12\n",
    "g = 0\n",
    "mu = 20\n",
    "sigma2 = 8\n",
    "beta = 0.95\n",
    "\n",
    "\n",
    "# Step 1: Compute G(z) value from beta, mu, and sigma²\n",
    "G_val = - (beta - 1) * mu / sigma2\n",
    "print(f\"[Step 1] Computed G(z) value: {G_val:.4f}\")\n",
    "\n",
    "# Step 2: Recover z from G(z)\n",
    "z_recovered = imf.inverse_G(G_val)\n",
    "print(f\"[Step 2] Recovered z from G(z): {z_recovered:.4f}\")\n",
    "\n",
    "# Step 3: Compute optimal order quantity Q\n",
    "Q = mu + z_recovered * sigma2\n",
    "print(f\"[Step 3] Optimal order quantity Q: {Q:.2f}\")\n",
    "\n",
    "# Step 4: Validate using direct newsvendor fill rate solver\n",
    "print(\"\\n[Step 4] Verifying with newsvendor fill rate function:\")\n",
    "imf.newsvendor_find_z_for_fillrate(beta, mu, sigma2)\n",
    "\n"
   ]
  },
  {
   "cell_type": "code",
   "execution_count": 13,
   "id": "079a5b69",
   "metadata": {},
   "outputs": [
    {
     "name": "stdout",
     "output_type": "stream",
     "text": [
      "[INFO] z-value: 1.64 \n",
      "[INFO] Order quantity: 33.16 units\n"
     ]
    },
    {
     "data": {
      "text/plain": [
       "np.float64(33.15882901561177)"
      ]
     },
     "execution_count": 13,
     "metadata": {},
     "output_type": "execute_result"
    }
   ],
   "source": [
    "imf.newsvendor_normal(mu, sigma2, 0.95)"
   ]
  },
  {
   "cell_type": "code",
   "execution_count": null,
   "id": "fa5e1a5f",
   "metadata": {},
   "outputs": [
    {
     "name": "stdout",
     "output_type": "stream",
     "text": [
      "0.625\n",
      "0.26598552904870054\n",
      "Expected bounus per year: 1276.73\n"
     ]
    }
   ],
   "source": [
    "target_sales = 25\n",
    "Bonus = 100\n",
    "weeks_open = 48\n",
    "\n",
    "z = (25 - 20) / 8\n",
    "print(f\"{z}\")\n",
    "prob = 1 - norm.cdf(z)\n",
    "print(f\"{prob}\")\n",
    "bonus = Bonus * weeks_open * prob\n",
    "print(\"Expected bounus per year: \" + str(round(bonus, 2)))"
   ]
  },
  {
   "cell_type": "code",
   "execution_count": 15,
   "id": "b8afeda7",
   "metadata": {},
   "outputs": [
    {
     "name": "stdout",
     "output_type": "stream",
     "text": [
      "\n",
      "📦 Least Unit Cost Results\n",
      "------------------------\n",
      "Order in month 1 covers up to month 1 → Qty: 550\n",
      "Order in month 2 covers up to month 2 → Qty: 600\n",
      "Order in month 4 covers up to month 4 → Qty: 540\n",
      "Order in month 6 covers up to month 6 → Qty: 980\n",
      "Order in month 7 covers up to month 7 → Qty: 700\n",
      "Order in month 9 covers up to month 9 → Qty: 850\n",
      "Total cost: €102720.0\n",
      "\n",
      "📦 Silver-Meal Results\n",
      "--------------------\n",
      "Order in month 1 covers up to month 1 → Qty: 750\n",
      "Order in month 3 covers up to month 3 → Qty: 510\n",
      "Order in month 5 covers up to month 5 → Qty: 430\n",
      "Order in month 6 covers up to month 6 → Qty: 1380\n",
      "Order in month 8 covers up to month 8 → Qty: 500\n",
      "Order in month 10 covers up to month 10 → Qty: 650\n",
      "Total cost: €81840.0\n",
      "\n",
      "📦 Wagner-Whitin (Optimal) Results\n",
      "--------------------------------\n",
      "Order in month 1 covers up to month 1 → Qty: 750\n",
      "Order in month 3 covers up to month 3 → Qty: 510\n",
      "Order in month 5 covers up to month 5 → Qty: 430\n",
      "Order in month 6 covers up to month 6 → Qty: 1380\n",
      "Order in month 8 covers up to month 8 → Qty: 500\n",
      "Order in month 10 covers up to month 10 → Qty: 650\n",
      "Total cost: €81840.0\n"
     ]
    }
   ],
   "source": [
    "import numpy as np\n",
    "\n",
    "# -----------------------\n",
    "# Problem Setup\n",
    "# -----------------------\n",
    "demands = np.array([550, 200, 400, 110, 430, 980, 400, 300, 200, 650])\n",
    "num_periods = len(demands)\n",
    "\n",
    "setup_cost = 10000\n",
    "unit_cost = 120\n",
    "holding_cost = 0.2 * unit_cost  # euro/unit/period\n",
    "\n",
    "\n",
    "# -----------------------\n",
    "# Cost Calculation\n",
    "# -----------------------\n",
    "def calculate_total_cost(setups, lot_sizes):\n",
    "    total_setup_cost = setup_cost * np.sum(setups)\n",
    "    inventory = np.zeros(num_periods)\n",
    "    inventory[0] = lot_sizes[0] - demands[0]\n",
    "    for t in range(1, num_periods):\n",
    "        inventory[t] = inventory[t - 1] + lot_sizes[t] - demands[t]\n",
    "    total_holding_cost = holding_cost * np.sum(inventory)\n",
    "    total_cost = total_setup_cost + total_holding_cost\n",
    "    return total_cost\n",
    "\n",
    "\n",
    "# -----------------------\n",
    "# LUC Criterion\n",
    "# -----------------------\n",
    "def luc_criterion(t, z):\n",
    "    holding_periods = np.arange(z - t + 1)\n",
    "    unit_cost = (\n",
    "        setup_cost + holding_cost * np.sum(demands[t:z + 1] * holding_periods)\n",
    "    ) / np.sum(demands[t:z + 1])\n",
    "    return unit_cost\n",
    "\n",
    "\n",
    "# -----------------------\n",
    "# SM Criterion\n",
    "# -----------------------\n",
    "def sm_criterion(t, z):\n",
    "    holding_periods = np.arange(z - t + 1)\n",
    "    period_cost = (\n",
    "        setup_cost + holding_cost * np.sum(demands[t:z + 1] * holding_periods)\n",
    "    ) / (z - t + 1)\n",
    "    return period_cost\n",
    "\n",
    "\n",
    "# -----------------------\n",
    "# Generic Setup Decision Function (Heuristic-based)\n",
    "# -----------------------\n",
    "def heuristic_schedule(criterion_fn):\n",
    "    setups = np.full(num_periods, False)\n",
    "    lot_sizes = np.zeros(num_periods)\n",
    "    t = 0\n",
    "    while t < num_periods:\n",
    "        z = t\n",
    "        best_cost = criterion_fn(t, z)\n",
    "        while z + 1 < num_periods and criterion_fn(t, z + 1) < best_cost:\n",
    "            z += 1\n",
    "            best_cost = criterion_fn(t, z)\n",
    "        setups[t] = True\n",
    "        lot_sizes[t] = np.sum(demands[t:z + 1])\n",
    "        t = z + 1\n",
    "    return setups, lot_sizes\n",
    "\n",
    "\n",
    "# -----------------------\n",
    "# Wagner-Whitin (Exact)\n",
    "# -----------------------\n",
    "def wagner_whitin(demands, setup_cost, holding_cost):\n",
    "    n = len(demands)\n",
    "    cost = [0] * (n + 1)\n",
    "    order_from = [0] * n\n",
    "    for t in range(1, n + 1):\n",
    "        min_cost = float('inf')\n",
    "        for j in range(t):\n",
    "            holding = sum((i - j) * demands[i] * holding_cost for i in range(j + 1, t))\n",
    "            total = cost[j] + setup_cost + holding\n",
    "            if total < min_cost:\n",
    "                min_cost = total\n",
    "                order_from[t - 1] = j\n",
    "        cost[t] = min_cost\n",
    "\n",
    "    # Build setup and lot-size decisions\n",
    "    setups = np.full(n, False)\n",
    "    lot_sizes = np.zeros(n)\n",
    "    t = n\n",
    "    while t > 0:\n",
    "        j = order_from[t - 1]\n",
    "        setups[j] = True\n",
    "        lot_sizes[j] = np.sum(demands[j:t])\n",
    "        t = j\n",
    "    return setups, lot_sizes, cost[n]\n",
    "\n",
    "\n",
    "# -----------------------\n",
    "# Print Plan\n",
    "# -----------------------\n",
    "def print_results(method, setups, lot_sizes, total_cost):\n",
    "    print(f\"\\n📦 {method} Results\")\n",
    "    print(\"-\" * (len(method) + 9))\n",
    "    for i in range(num_periods):\n",
    "        if setups[i]:\n",
    "            coverage = 0\n",
    "            for j in range(i, num_periods):\n",
    "                coverage += demands[j]\n",
    "                if lot_sizes[j] > 0 or j == num_periods - 1:\n",
    "                    print(f\"Order in month {i + 1} covers up to month {j + 1} → Qty: {int(lot_sizes[i])}\")\n",
    "                    break\n",
    "    print(f\"Total cost: €{round(total_cost, 2)}\")\n",
    "\n",
    "\n",
    "# -----------------------\n",
    "# Run All\n",
    "# -----------------------\n",
    "luc_setup, luc_lots = heuristic_schedule(luc_criterion)\n",
    "luc_cost = calculate_total_cost(luc_setup, luc_lots)\n",
    "print_results(\"Least Unit Cost\", luc_setup, luc_lots, luc_cost)\n",
    "\n",
    "sm_setup, sm_lots = heuristic_schedule(sm_criterion)\n",
    "sm_cost = calculate_total_cost(sm_setup, sm_lots)\n",
    "print_results(\"Silver-Meal\", sm_setup, sm_lots, sm_cost)\n",
    "\n",
    "ww_setup, ww_lots, ww_cost = wagner_whitin(demands, setup_cost, holding_cost)\n",
    "print_results(\"Wagner-Whitin (Optimal)\", ww_setup, ww_lots, ww_cost)\n"
   ]
  },
  {
   "cell_type": "code",
   "execution_count": 16,
   "id": "35b6145c",
   "metadata": {},
   "outputs": [],
   "source": [
    "A = 180\n",
    "i = 0.1\n",
    "c = 35\n",
    "production_capacity = 25\n",
    "demand = [12, 12, 1, 8, 15, 2, 7]\n",
    "\n",
    "h = i * c"
   ]
  },
  {
   "cell_type": "code",
   "execution_count": 17,
   "id": "2344401d",
   "metadata": {},
   "outputs": [
    {
     "name": "stdout",
     "output_type": "stream",
     "text": [
      "Restricted license - for non-production use only - expires 2026-11-23\n",
      "Gurobi Optimizer version 12.0.2 build v12.0.2rc0 (mac64[arm] - Darwin 24.5.0 24F74)\n",
      "\n",
      "CPU model: Apple M1 Pro\n",
      "Thread count: 8 physical cores, 8 logical processors, using up to 8 threads\n",
      "\n",
      "Optimize a model with 21 rows, 21 columns and 41 nonzeros\n",
      "Model fingerprint: 0xb3be1e87\n",
      "Variable types: 7 continuous, 14 integer (7 binary)\n",
      "Coefficient statistics:\n",
      "  Matrix range     [1e+00, 6e+01]\n",
      "  Objective range  [4e+00, 2e+02]\n",
      "  Bounds range     [1e+00, 1e+00]\n",
      "  RHS range        [1e+00, 2e+01]\n",
      "Found heuristic solution: objective 1260.0000000\n",
      "Presolve removed 10 rows and 4 columns\n",
      "Presolve time: 0.00s\n",
      "Presolved: 11 rows, 17 columns, 27 nonzeros\n",
      "Variable types: 0 continuous, 17 integer (6 binary)\n",
      "\n",
      "Root relaxation: objective 5.154000e+02, 10 iterations, 0.00 seconds (0.00 work units)\n",
      "\n",
      "    Nodes    |    Current Node    |     Objective Bounds      |     Work\n",
      " Expl Unexpl |  Obj  Depth IntInf | Incumbent    BestBd   Gap | It/Node Time\n",
      "\n",
      "     0     0  515.40000    0    2 1260.00000  515.40000  59.1%     -    0s\n",
      "H    0     0                     645.0000000  515.40000  20.1%     -    0s\n",
      "     0     0  578.60000    0    8  645.00000  578.60000  10.3%     -    0s\n",
      "     0     0  645.00000    0    1  645.00000  645.00000  0.00%     -    0s\n",
      "\n",
      "Cutting planes:\n",
      "  Gomory: 1\n",
      "  Implied bound: 2\n",
      "  MIR: 1\n",
      "  StrongCG: 1\n",
      "  Flow cover: 1\n",
      "\n",
      "Explored 1 nodes (14 simplex iterations) in 0.01 seconds (0.00 work units)\n",
      "Thread count was 8 (of 8 available processors)\n",
      "\n",
      "Solution count 2: 645 1260 \n",
      "\n",
      "Optimal solution found (tolerance 1.00e-04)\n",
      "Best objective 6.450000000000e+02, best bound 6.450000000000e+02, gap 0.0000%\n",
      "\n",
      "Setup decision: {0: True, 1: False, 2: False, 3: True, 4: True, 5: False, 6: False}\n",
      "Lot-sizing decision: {0: 25.0, 1: 0.0, 2: 0.0, 3: 8.0, 4: 24.0, 5: 0.0, 6: 0.0}\n",
      "Objective: 645.0\n"
     ]
    }
   ],
   "source": [
    "# Exercise 7.\n",
    "\n",
    "import gurobipy as gp\n",
    "from gurobipy import GRB, quicksum\n",
    "\n",
    "# Parameters\n",
    "setup_cost = 180\n",
    "holding_cost = 0.1 * 35\n",
    "capacity = 25  # k\n",
    "\n",
    "demands = np.array([12, 12, 1, 8, 15, 2, 7])\n",
    "num_periods = len(demands)\n",
    "big_M = np.sum(demands)\n",
    "\n",
    "# Model\n",
    "model = gp.Model(\"Wagner-Whitin\")\n",
    "\n",
    "# Create variables\n",
    "lotsize = model.addVars(num_periods, vtype=GRB.INTEGER, name=\"lotsize\")\n",
    "setup = model.addVars(num_periods, vtype=GRB.BINARY, name=\"setup indicator\")\n",
    "inventories = model.addVars(num_periods, name=\"inventories\")\n",
    "\n",
    "# Set objective\n",
    "model.setObjective(\n",
    "    quicksum(\n",
    "        setup[period] * setup_cost + holding_cost * inventories[period]\n",
    "        for period in range(num_periods)\n",
    "    ),\n",
    "    GRB.MINIMIZE,\n",
    ")\n",
    "\n",
    "# Inventory balance constraints\n",
    "model.addConstr(inventories[0] == lotsize[0] - demands[0])\n",
    "model.addConstrs(\n",
    "    inventories[period] == lotsize[period] - demands[period] + inventories[period - 1]\n",
    "    for period in range(1, num_periods)\n",
    ")\n",
    "# Logic constraints\n",
    "model.addConstrs(\n",
    "    lotsize[period] <= big_M * setup[period] for period in range(num_periods)\n",
    ")\n",
    "# Capacity constraints\n",
    "model.addConstrs(lotsize[period] <= capacity for period in range(num_periods))\n",
    "\n",
    "# Run model\n",
    "model.optimize()\n",
    "# Print results\n",
    "index_opt = {k: bool(v.X) for k, v in setup.items()}\n",
    "lotsize_solution = {k: v.X for k, v in lotsize.items()}\n",
    "print(\"\\nSetup decision: \" + str(index_opt))\n",
    "print(\"Lot-sizing decision: \" + str(lotsize_solution))\n",
    "print(\"Objective: \" + str(model.objVal))"
   ]
  }
 ],
 "metadata": {
  "kernelspec": {
   "display_name": ".venv",
   "language": "python",
   "name": "python3"
  },
  "language_info": {
   "codemirror_mode": {
    "name": "ipython",
    "version": 3
   },
   "file_extension": ".py",
   "mimetype": "text/x-python",
   "name": "python",
   "nbconvert_exporter": "python",
   "pygments_lexer": "ipython3",
   "version": "3.13.5"
  }
 },
 "nbformat": 4,
 "nbformat_minor": 5
}
