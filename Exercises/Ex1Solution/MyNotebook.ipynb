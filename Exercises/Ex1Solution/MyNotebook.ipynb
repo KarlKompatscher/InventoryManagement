{
 "cells": [
  {
   "cell_type": "code",
   "execution_count": 13,
   "id": "9d053120",
   "metadata": {},
   "outputs": [
    {
     "data": {
      "text/plain": [
       "<module 'inventory_management_formulas' from '/Users/karlkompatscher/Dev/tum/ss25/InventoryManagement/inventory_management_formulas.py'>"
      ]
     },
     "execution_count": 13,
     "metadata": {},
     "output_type": "execute_result"
    }
   ],
   "source": [
    "import sys\n",
    "import os\n",
    "import importlib\n",
    "\n",
    "current_dir = os.getcwd()\n",
    "parent_dir = os.path.abspath(os.path.join(current_dir, '..', '..'))\n",
    "sys.path.append(parent_dir)\n",
    "\n",
    "import inventory_management_formulas as imf\n",
    "\n",
    "importlib.reload(imf)\n",
    "\n",
    "\n"
   ]
  },
  {
   "cell_type": "code",
   "execution_count": 14,
   "id": "52d82d79",
   "metadata": {},
   "outputs": [
    {
     "name": "stdout",
     "output_type": "stream",
     "text": [
      "[INFO] EOQ: 858.75 units\n",
      "optimal order quantity is 858.7517367985613 units. optimal order frequency is every 1.458776988792428 weeks\n"
     ]
    }
   ],
   "source": [
    "D = 600 * 52\n",
    "A = 26\n",
    "h = 2.2\n",
    "\n",
    "eoq = imf.eoq(D, A, h)\n",
    "period = eoq / D * 53\n",
    "\n",
    "print(f\"optimal order quantity is {eoq} units. optimal order frequency is every {period} weeks\")"
   ]
  },
  {
   "cell_type": "code",
   "execution_count": 15,
   "id": "8c3ebc7b",
   "metadata": {},
   "outputs": [
    {
     "name": "stdout",
     "output_type": "stream",
     "text": [
      "[INFO] EOQ: 858.75 units\n",
      "optimal order quantasity is 858.7517367985613 units. optimal order frequency is every 48.13964063015012 weeks\n"
     ]
    }
   ],
   "source": [
    "D = 600 * 52\n",
    "A = 26\n",
    "h = 2.2\n",
    "\n",
    "eoq = imf.eoq(D, A, h)\n",
    "period = eoq / D * 33 * 53\n",
    "\n",
    "print(f\"optimal order quantasity is {eoq} units. optimal order frequency is every {period} weeks\")"
   ]
  }
 ],
 "metadata": {
  "kernelspec": {
   "display_name": "base",
   "language": "python",
   "name": "python3"
  },
  "language_info": {
   "codemirror_mode": {
    "name": "ipython",
    "version": 3
   },
   "file_extension": ".py",
   "mimetype": "text/x-python",
   "name": "python",
   "nbconvert_exporter": "python",
   "pygments_lexer": "ipython3",
   "version": "3.12.4"
  }
 },
 "nbformat": 4,
 "nbformat_minor": 5
}
