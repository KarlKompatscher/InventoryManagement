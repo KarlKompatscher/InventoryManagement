{
 "cells": [
  {
   "cell_type": "code",
   "execution_count": 8,
   "id": "e7ad6c80",
   "metadata": {},
   "outputs": [
    {
     "name": "stdout",
     "output_type": "stream",
     "text": [
      "Q: [62.5, 29.649972666444047, 209.76176963403032, 180.39504672067892, 18.51640199545103, 247.0160908777855, 52.98129428260175, 189.73665961010275, 36.692525988471196, 174.31588972828814]\n",
      "T: [0.3125, 0.5929994533288809, 0.2622022120425379, 0.3607900934413578, 0.9258200997725515, 0.4116934847963092, 0.5298129428260175, 0.18973665961010275, 0.45865657485588995, 0.3873686438406403]\n",
      "Total Time: [0.013000000000000001, 0.015424986333222023, 0.05324044240850758, 0.028586726050106082, 0.06182133998483677, 0.007061558079938485, 0.026590647141300876, 0.032222776601683795, 0.04096947332052355, 0.02414357099700526]\n",
      "Cost: [480.0, 404.72212689696124, 839.0470785361213, 332.6033673912518, 432.04937989385735, 728.6974680894671, 301.99337741083, 3162.2776601683795, 501.4645218424397, 490.48884833890725]\n",
      "Total Cost: 7673.343828568215\n",
      "Required Manufacturing Time: 0.3030615209171244\n",
      "Minimum Cycle Time: 0.18973665961010275\n"
     ]
    }
   ],
   "source": [
    "import math\n",
    "\n",
    "d = [200, 50, 800, 500, 20, 600, 100, 1000, 80, 450]\n",
    "p = [5000, 2000, 4000, 6400, 300, 36000, 2000, 6000, 900, 7250]\n",
    "r = [0.0005, 0.0006, 0.0008, 0.0004, 0.0001, 0.0002, 0.0001, 0.0006, 0.0002, 0.0001]\n",
    "A = [75, 120, 110, 60, 200, 150, 80, 300, 115, 95]\n",
    "h = [8, 14, 5, 2, 25, 3, 6, 20, 15, 3]\n",
    "\n",
    "Q = []\n",
    "for i in range(len(d)):\n",
    "    numerator = 2 * d[i] * A[i]\n",
    "    denominator = h[i] * (1 - d[i] / p[i])\n",
    "    q_value = math.sqrt(numerator / denominator)\n",
    "    Q.append(q_value)\n",
    "\n",
    "D = [10, 20, 30, 40, 50, 60, 70, 80, 90, 100]  # Replace with your own list of D values\n",
    "\n",
    "T = [q_value / d_value for q_value, d_value in zip(Q, d)]\n",
    "\n",
    "total_time = [q_value / p_value + r_value for q_value, p_value, r_value in zip(Q, p, r)]\n",
    "\n",
    "cost = [(d_value / q_value) * A_value + (h_value / 2) * (p_value - d_value) * (q_value / p_value) for d_value, q_value, A_value, h_value, p_value in zip(d, Q, A, h, p)]\n",
    "\n",
    "print(\"Q:\", Q)\n",
    "print(\"T:\", T)\n",
    "print(\"Total Time:\", total_time)\n",
    "print(\"Cost:\", cost)\n",
    "print(\"Total Cost:\", sum(cost))\n",
    "print(\"Required Manufacturing Time:\", sum(total_time))\n",
    "print(\"Minimum Cycle Time:\", min(T))\n",
    "\n"
   ]
  },
  {
   "cell_type": "code",
   "execution_count": 9,
   "id": "4a6747c4",
   "metadata": {},
   "outputs": [
    {
     "name": "stdout",
     "output_type": "stream",
     "text": [
      "T_optimal: 0.3043699620917789\n",
      "Total Cost: 8575.090597189046\n"
     ]
    }
   ],
   "source": [
    "#1b\n",
    "numerator = 2 * sum(A)\n",
    "denominator = sum([h[i] * d[i] * (1 - d[i] / p[i]) for i in range(len(d))])\n",
    "T_unconstrained = math.sqrt(numerator / denominator)\n",
    "\n",
    "numerator = sum(r)\n",
    "denominator = 1 - sum([d[i] / p[i] for i in range(len(d))])\n",
    "T_constrained = numerator / denominator\n",
    "\n",
    "T_optimal = max(T_unconstrained, T_constrained)\n",
    "print(\"T_optimal:\", T_optimal)\n",
    "\n",
    "Q_optimal = [d_value * T_optimal for d_value in d]\n",
    "cost_optimal = [A_value / T_optimal + (h_value/2) * (p_value - d_value) * (d_value / p_value) * T_optimal for A_value, h_value, d_value, p_value in zip(A, h, d, p)]\n",
    "\n",
    "print(\"Total Cost:\", sum(cost_optimal))"
   ]
  },
  {
   "cell_type": "code",
   "execution_count": null,
   "id": "b79c5770",
   "metadata": {},
   "outputs": [],
   "source": [
    "w=0.19\n",
    "n = [1,1,1,1,1,1,1,1,1,1]\n",
    "while True:\n",
    "\n",
    "    for i in range(len(n)):\n",
    "        while True:\n",
    "            cost_n = A[i] / (n[i] * w) + (h[i] / 2) * (p[i] - d[i]) * (d[i] / p[i]) * n[i] * w\n",
    "            cost_n_plus_1 = A[i] / (n[i]*2 * w) + (h[i] / 2) * (p[i] - d[i]) * (d[i] / p[i]) * n[i]*2 * w\n",
    "            if cost_n <= cost_n_plus_1:\n",
    "               break\n",
    "            n[i]=n[i]*2\n",
    "    old_n=n \n",
    "    numerator = sum([2 * A_value / n_value for A_value, n_value in zip(A, n)])\n",
    "    denominator =sum([h_value * (p_value - d_value) * (d_value / p_value) * n_value for h_value, p_value, d_value, n_value in zip(h, p, d, n)])\n",
    "    w = math.sqrt(numerator / denominator)\n",
    "    for i in range(len(n)):\n",
    "        while True:\n",
    "            cost_n = A[i] / (n[i] * w) + (h[i] / 2) * (p[i] - d[i]) * (d[i] / p[i]) * n[i] * w\n",
    "            cost_n_plus_1 = A[i] / (n[i]*2 * w) + (h[i] / 2) * (p[i] - d[i]) * (d[i] / p[i]) * n[i]*2 * w\n",
    "            if cost_n <= cost_n_plus_1:\n",
    "               break\n",
    "            n[i]=n[i]*2\n",
    "    if(old_n==n):\n",
    "        break\n",
    "\n",
    "Q = [d_value * n_value * w for d_value, n_value in zip(d, n)]\n",
    "time = [r_value / n_value + Q_value / (n_value * p_value) for r_value, n_value, Q_value, p_value in zip(r, n, Q, p)]\n",
    "cost=sum([A_value / (n_value * w) + (h_value / 2) * (p_value - d_value) * (d_value / p_value) * n_value * w for A_value, h_value, d_value, p_value, n_value in zip(A, h, d, p, n)])\n",
    "\n"
   ]
  },
  {
   "cell_type": "code",
   "execution_count": 11,
   "id": "24dbcb8e",
   "metadata": {},
   "outputs": [
    {
     "name": "stdout",
     "output_type": "stream",
     "text": [
      "1.9997904832809204\n"
     ]
    }
   ],
   "source": [
    "#Question 2\n",
    "#a\n",
    "\n",
    "import math\n",
    "from scipy.optimize import root\n",
    "\n",
    "d = [200, 250]\n",
    "W = 300\n",
    "a = [3, 1]\n",
    "A = [150, 111]\n",
    "h = [1, 2]\n",
    "\n",
    "Q_unconstrained = [math.sqrt((2 * d_value * A_value) / h_value) for d_value, A_value, h_value in zip(d, A, h)]\n",
    "total_space = sum([Q_value * a_value for Q_value, a_value in zip(Q_unconstrained, a)])\n",
    "total_cost = sum([(d_value * A_value) / Q_value + (h_value * Q_value) / 2 for d_value, A_value, Q_value, h_value in zip(d, A, Q_unconstrained, h)])\n",
    "total_cost_unconstrained=total_cost\n",
    "\n",
    "total_space<W\n",
    "\n",
    "def equation(lambda_value):\n",
    "    return sum([a_value * math.sqrt(2 * d_value * A_value / (h_value + 2 * lambda_value * a_value)) for d_value, A_value, h_value, a_value in zip(d, A, h, a)]) - W\n",
    "\n",
    "result = root(equation, x0=0)\n",
    "lambda_value = result.x[0]\n",
    "\n",
    "\n",
    "Q_constrained = [math.sqrt((2 * d_value * A_value) / (h_value+2*lambda_value*a_value)) for d_value, A_value, h_value, a_value in zip(d, A, h, a)]\n",
    "total_space = sum([Q_value * a_value for Q_value, a_value in zip(Q_constrained, a)])\n",
    "total_cost = sum([(d_value * A_value) / Q_value + (h_value * Q_value) / 2 for d_value, A_value, Q_value, h_value in zip(d, A, Q_constrained, h)])\n",
    "\n",
    "print(lambda_value)"
   ]
  },
  {
   "cell_type": "code",
   "execution_count": 12,
   "id": "34fa893f",
   "metadata": {},
   "outputs": [
    {
     "data": {
      "text/plain": [
       "282.1220106097138"
      ]
     },
     "execution_count": 12,
     "metadata": {},
     "output_type": "execute_result"
    }
   ],
   "source": [
    "#b\n",
    "total_cost-total_cost_unconstrained"
   ]
  },
  {
   "cell_type": "code",
   "execution_count": 13,
   "id": "14f7fcd0",
   "metadata": {},
   "outputs": [
    {
     "name": "stdout",
     "output_type": "stream",
     "text": [
      "T_opt: 0.44541484716157204\n"
     ]
    },
    {
     "data": {
      "text/plain": [
       "741.8657847418443"
      ]
     },
     "execution_count": 13,
     "metadata": {},
     "output_type": "execute_result"
    }
   ],
   "source": [
    "#c\n",
    "\n",
    "def calculate_T_opt(A, h, d, w, a):\n",
    "    numerator_1 = 2 * sum(A)\n",
    "    denominator_1 = sum([h_value * d_value for h_value, d_value in zip(h, d)])\n",
    "    term_1 = math.sqrt(numerator_1 / denominator_1)\n",
    "\n",
    "    numerator_2 = w * sum([a[i] * d[i] for i in range(len(a))])\n",
    "    denominator_2 = sum([sum([a[i] * a[j] * d[i] * d[j] for j in range(i + 1)]) for i in range(len(a))])\n",
    "    term_2 = numerator_2 / denominator_2\n",
    "\n",
    "    T_opt = min(term_1, term_2)\n",
    "    return T_opt\n",
    "\n",
    "T_opt = calculate_T_opt(A, h, d, W, a)\n",
    "\n",
    "print(\"T_opt:\", T_opt)\n",
    "\n",
    "cost = [A_value / T_opt + h_value * d_value * T_opt / 2 for A_value, h_value, d_value in zip(A, h, d)]\n",
    "sum(cost)\n"
   ]
  },
  {
   "cell_type": "code",
   "execution_count": 14,
   "id": "b4615b21",
   "metadata": {},
   "outputs": [],
   "source": [
    "#d\n",
    "sum_denominator = sum([a_value * d_value for a_value, d_value in zip(a, d)])\n",
    "\n",
    "t_1=a[0]*d[0]*T_opt/sum_denominator\n",
    "t_2=(a[0]*d[0]+a[1]*d[1])*T_opt/sum_denominator\n",
    "\n",
    "t_gap=t_2-t_1\n",
    "Q_1=d[0]*T_opt\n",
    "Q_target=Q_1-d[0]*t_gap"
   ]
  },
  {
   "cell_type": "code",
   "execution_count": 16,
   "id": "8251edfa",
   "metadata": {},
   "outputs": [
    {
     "name": "stdout",
     "output_type": "stream",
     "text": [
      "[4, 2, 7, 1, 1, 2, 5, 2, 1, 1]\n"
     ]
    }
   ],
   "source": [
    "#3\n",
    "#a)\n",
    "A = [15, 15, 15, 15, 15, 15, 15, 15, 15, 15]\n",
    "h = [1, 2, 0.6, 5.2, 1.6, 0.4, 0.098, 12, 2, 1]\n",
    "d = [8, 25, 4, 63, 67, 46, 54, 2, 83, 82]\n",
    "A0 = 30\n",
    "\n",
    "T_i = [math.sqrt(2 * A_value / (h_value * d_value)) for A_value, h_value, d_value in zip(A, h, d)]\n",
    "min_index = T_i.index(min(T_i))\n",
    "n_i = [math.sqrt(A_value * h[min_index] * d[min_index] / (h_value * d_value * (A0 + A[min_index]))) for A_value, h_value, d_value in zip(A, h, d)]\n",
    "n_i = [round(value) for value in n_i]\n",
    "n=n_i\n",
    "\n",
    "\n",
    "while True:\n",
    "    sum_A_div_n = A0 + sum([A_value / n_value for A_value, n_value in zip(A, n)])\n",
    "    sum_h_d_n = sum([h_value * d_value * n_value for h_value, d_value, n_value in zip(h, d, n)])\n",
    "    T= math.sqrt(2 * sum_A_div_n / sum_h_d_n)\n",
    "    old_n=n\n",
    "    for i in range(len(n)):\n",
    "         while True:\n",
    "                if (n[i] * (n[i] + 1) >= 2 * A[i] / (h[i] * d[i] * T**2)):\n",
    "                   break\n",
    "                n[i]=n[i]+1\n",
    "    sum_A_div_n = A0 + sum([A_value / n_value for A_value, n_value in zip(A, n)])\n",
    "    sum_h_d_n = sum([h_value * d_value * n_value for h_value, d_value, n_value in zip(h, d, n)])\n",
    "    T = math.sqrt(2 * sum_A_div_n / sum_h_d_n)\n",
    "    if (old_n==n):\n",
    "        break\n",
    "\n",
    "print(n)"
   ]
  },
  {
   "cell_type": "code",
   "execution_count": null,
   "id": "9698d5d1",
   "metadata": {},
   "outputs": [],
   "source": []
  }
 ],
 "metadata": {
  "kernelspec": {
   "display_name": "Python 3 (ipykernel)",
   "language": "python",
   "name": "python3"
  },
  "language_info": {
   "codemirror_mode": {
    "name": "ipython",
    "version": 3
   },
   "file_extension": ".py",
   "mimetype": "text/x-python",
   "name": "python",
   "nbconvert_exporter": "python",
   "pygments_lexer": "ipython3",
   "version": "3.8.3"
  }
 },
 "nbformat": 4,
 "nbformat_minor": 5
}
