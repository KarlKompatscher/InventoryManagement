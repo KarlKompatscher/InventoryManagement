{
 "cells": [
  {
   "cell_type": "code",
   "execution_count": 1,
   "metadata": {},
   "outputs": [],
   "source": [
    "import numpy as np\n",
    "import math\n",
    "from scipy.stats import norm, poisson\n",
    "from scipy.optimize import fsolve\n",
    "from scipy import integrate"
   ]
  },
  {
   "attachments": {},
   "cell_type": "markdown",
   "metadata": {},
   "source": [
    "### 1.a) Guaranteed Service"
   ]
  },
  {
   "cell_type": "code",
   "execution_count": 2,
   "metadata": {},
   "outputs": [
    {
     "name": "stdout",
     "output_type": "stream",
     "text": [
      "Allocation cadidates: \n",
      "[[0 0 1]\n",
      " [0 1 1]\n",
      " [1 0 1]\n",
      " [1 1 1]]\n",
      "Coverage time: \n",
      "[[0 0 5]\n",
      " [0 3 2]\n",
      " [2 0 3]\n",
      " [2 1 2]]\n"
     ]
    }
   ],
   "source": [
    "# Parameters\n",
    "review_period = 1\n",
    "lead_time = [2, 1, 1]\n",
    "holding_cost = [1, 2, 5]\n",
    "mu = 50\n",
    "sigma = 20\n",
    "alpha = 0.9\n",
    "n_stage = len(holding_cost)\n",
    "\n",
    "# Possible allocation cadidates\n",
    "candidates = np.array([[0, 0, 1], [0, 1, 1], [1, 0, 1], [1, 1, 1]])\n",
    "\n",
    "\n",
    "def func_coverage_time(decision):\n",
    "    cover_time = np.zeros(n_stage)\n",
    "    cumulative_time = 0\n",
    "    for i in range(n_stage - 1):\n",
    "        if decision[i] == 1:\n",
    "            cover_time[i] = lead_time[i] + cumulative_time\n",
    "            cumulative_time = 0\n",
    "        else:\n",
    "            cover_time[i] = 0\n",
    "            cumulative_time += lead_time[i]\n",
    "    cover_time[n_stage - 1] = lead_time[i] + review_period + cumulative_time\n",
    "    return cover_time\n",
    "\n",
    "\n",
    "coverage_time = np.zeros_like(candidates)\n",
    "for i in range(len(candidates)):\n",
    "    coverage_time[i] = func_coverage_time(candidates[i])\n",
    "print(\"Allocation cadidates: \\n\" + str(candidates))\n",
    "print(\"Coverage time: \\n\" + str(coverage_time))"
   ]
  },
  {
   "attachments": {},
   "cell_type": "markdown",
   "metadata": {},
   "source": [
    "### 1.b)"
   ]
  },
  {
   "cell_type": "code",
   "execution_count": 3,
   "metadata": {},
   "outputs": [
    {
     "name": "stdout",
     "output_type": "stream",
     "text": [
      "1.2815515655446004\n"
     ]
    }
   ],
   "source": [
    "safety_factor = norm.ppf(alpha)\n",
    "print(safety_factor)"
   ]
  },
  {
   "cell_type": "code",
   "execution_count": 4,
   "metadata": {},
   "outputs": [
    {
     "name": "stdout",
     "output_type": "stream",
     "text": [
      "Safety stock: \n",
      "[[ 0.          0.         57.31272834]\n",
      " [ 0.         44.39424848 36.2477521 ]\n",
      " [36.2477521   0.         44.39424848]\n",
      " [36.2477521  25.63103131 36.2477521 ]]\n",
      "Total cost: \n",
      "[286.56364172 270.02725745 258.2189945  268.74857521]\n",
      "Optimal allocation: \n",
      "[1 0 1]\n"
     ]
    }
   ],
   "source": [
    "safety_stock = np.array([safety_factor * sigma * np.sqrt(t) for t in coverage_time])\n",
    "print(\"Safety stock: \\n\" + str(safety_stock))\n",
    "\n",
    "total_cost_candidates = np.sum(holding_cost * safety_stock, axis=1)\n",
    "print(\"Total cost: \\n\" + str(total_cost_candidates))\n",
    "\n",
    "opt_candidate = candidates[np.argmin(total_cost_candidates)]\n",
    "print(\"Optimal allocation: \\n\" + str(opt_candidate))"
   ]
  },
  {
   "attachments": {},
   "cell_type": "markdown",
   "metadata": {},
   "source": [
    "### 2.a) Clark-Scarf-model"
   ]
  },
  {
   "cell_type": "code",
   "execution_count": 5,
   "metadata": {},
   "outputs": [],
   "source": [
    "# Parameters\n",
    "lead_time = [1, 1]\n",
    "mu = 100\n",
    "sigma = 40\n",
    "holding_cost = [1, 3]\n",
    "penalty_cost = 20"
   ]
  },
  {
   "cell_type": "code",
   "execution_count": 6,
   "metadata": {},
   "outputs": [
    {
     "name": "stdout",
     "output_type": "stream",
     "text": [
      "Optimal Order-up-to Level (S2): 276.92\n",
      "Optimal Order-up-to Level (S1): 390.75\n"
     ]
    }
   ],
   "source": [
    "# Optimal Solutions Stage 2\n",
    "critical_ratio_s2 = (holding_cost[0] + penalty_cost) / (holding_cost[1] + penalty_cost)\n",
    "opt_s2 = norm.ppf(\n",
    "    critical_ratio_s2, mu * (lead_time[1] + 1), sigma * math.sqrt(lead_time[1] + 1)\n",
    ")\n",
    "\n",
    "print(\"Optimal Order-up-to Level (S2): \" + str(np.round(opt_s2, 2)))\n",
    "\n",
    "\n",
    "# Optimal Solutions Stage 1\n",
    "def func_s1(s1):\n",
    "    critical_ratio_s1 = penalty_cost / (holding_cost[1] + penalty_cost)\n",
    "    # Integrate func from 0 to opt_s2\n",
    "    integral = integrate.quad(\n",
    "        lambda d: norm.cdf(s1 - d, mu * lead_time[0], sigma * math.sqrt(lead_time[0]))\n",
    "        * norm.pdf(d, mu * (lead_time[1] + 1), sigma * math.sqrt(lead_time[1] + 1)),\n",
    "        0,\n",
    "        opt_s2,\n",
    "    )[0]\n",
    "    return integral - critical_ratio_s1\n",
    "\n",
    "\n",
    "opt_s1 = fsolve(func_s1, opt_s2)\n",
    "\n",
    "print(\"Optimal Order-up-to Level (S1): \" + str(np.round(opt_s1[0], 2)))"
   ]
  },
  {
   "attachments": {},
   "cell_type": "markdown",
   "metadata": {},
   "source": [
    "### 2.b)"
   ]
  },
  {
   "cell_type": "code",
   "execution_count": 7,
   "metadata": {},
   "outputs": [
    {
     "name": "stdout",
     "output_type": "stream",
     "text": [
      "57\n"
     ]
    }
   ],
   "source": [
    "# adjust penalty level\n",
    "critical_ratio_s1_new = 0.95\n",
    "penalty_cost_new = int(\n",
    "    np.floor(\n",
    "        (holding_cost[1] * critical_ratio_s1_new) / (1 - critical_ratio_s1_new) + 1\n",
    "    )\n",
    ")\n",
    "print(penalty_cost_new)"
   ]
  },
  {
   "cell_type": "code",
   "execution_count": 8,
   "metadata": {},
   "outputs": [
    {
     "name": "stdout",
     "output_type": "stream",
     "text": [
      "New Optimal Order-up-to Level (S2): 303.74\n",
      "New Optimal Order-up-to Level (S1): 428.12\n"
     ]
    }
   ],
   "source": [
    "# Optimal Solutions Stage 2\n",
    "critical_ratio_s2 = (holding_cost[0] + penalty_cost_new) / (\n",
    "    holding_cost[1] + penalty_cost_new\n",
    ")\n",
    "opt_s2_new = norm.ppf(\n",
    "    critical_ratio_s2, mu * (lead_time[1] + 1), sigma * math.sqrt(lead_time[1] + 1)\n",
    ")\n",
    "\n",
    "print(\"New Optimal Order-up-to Level (S2): \" + str(np.round(opt_s2_new, 2)))\n",
    "\n",
    "# Optimal Solutions Stage 1\n",
    "\n",
    "\n",
    "def func_s1_new(s1):\n",
    "\n",
    "    return integrate.quad(\n",
    "        lambda d: norm.cdf(s1 - d, mu * lead_time[0], sigma * math.sqrt(lead_time[0]))\n",
    "        * norm.pdf(d, mu * (lead_time[1] + 1), sigma * math.sqrt(lead_time[1] + 1)),\n",
    "        0,\n",
    "        opt_s2_new,\n",
    "    )[0] - penalty_cost_new / (holding_cost[1] + penalty_cost_new)\n",
    "\n",
    "\n",
    "opt_s1_new = fsolve(func_s1_new, opt_s2_new)\n",
    "\n",
    "print(\"New Optimal Order-up-to Level (S1): \" + str(np.round(opt_s1_new[0], 2)))"
   ]
  },
  {
   "attachments": {},
   "cell_type": "markdown",
   "metadata": {},
   "source": [
    "### 3. METRIC"
   ]
  },
  {
   "cell_type": "code",
   "execution_count": 24,
   "metadata": {},
   "outputs": [],
   "source": [
    "# Parameters\n",
    "_lambda = 5  # Poisson demand\n",
    "penalty_cost = 20\n",
    "# holding cost for warehouse and retailer\n",
    "holding_cost = [1, 3]\n",
    "# lead time for warehouse and retailer\n",
    "lead_time = [1, 2]"
   ]
  },
  {
   "cell_type": "code",
   "execution_count": 25,
   "metadata": {},
   "outputs": [
    {
     "name": "stdout",
     "output_type": "stream",
     "text": [
      "Lead time lower bound: 2\n",
      "Lead time upper bound: 3\n",
      "S_r lower bound: 14\n",
      "S_r upper bound: 19\n"
     ]
    }
   ],
   "source": [
    "# Step 1. Compute bounds of retailer lead time\n",
    "lt_r_min = lead_time[-1]  # minimum possible lead time = retailer lead time\n",
    "lt_r_max = np.sum(\n",
    "    lead_time\n",
    ")  # maximum possible lead time = retailer + warehouse lead time\n",
    "print(\"Lead time lower bound: \" + str(lt_r_min))\n",
    "print(\"Lead time upper bound: \" + str(lt_r_max))\n",
    "\n",
    "\n",
    "def func_exp_cost_r(base_stock_r, lt):\n",
    "    \"\"\"\n",
    "    Compute the retailer's expected inventory cost for a given base-stock level and lead time.\n",
    "\n",
    "    Parameters:\n",
    "    - base_stock_r: the reorder-up-to level S_r\n",
    "    - lt: lead time duration\n",
    "\n",
    "    Returns:\n",
    "    - exp_cost_r: expected total cost (holding + backorder)\n",
    "    \"\"\"\n",
    "    # 1. Determine range of possible demand values during lead time, up to the 99th percentile\n",
    "    max_demand = poisson.ppf(0.99, _lambda * lt)\n",
    "    x = np.arange(max_demand + 1)  # possible demand from 0 to max_demand\n",
    "\n",
    "    # 2. Compute probability mass function for Poisson(λ*lt)\n",
    "    prob = poisson.pmf(x, _lambda * lt)\n",
    "\n",
    "    # 3. Expected leftover inventory: E[max(S_r - X, 0)]\n",
    "    leftover = np.fmax(base_stock_r - x, 0)  # vector of leftover at each demand x\n",
    "    exp_leftover = np.sum(leftover * prob)\n",
    "\n",
    "    # 4. Expected backorders: E[max(X - S_r, 0)]\n",
    "    #    = E[X - S_r] + E[max(S_r - X, 0)]\n",
    "    #    = (λ*lt - S_r) + exp_leftover\n",
    "    exp_backorder = (_lambda * lt - base_stock_r) + exp_leftover\n",
    "\n",
    "    # 5. Total expected cost = holding cost × leftover + penalty cost × backorders\n",
    "    exp_cost_r = holding_cost[1] * exp_leftover + penalty_cost * exp_backorder\n",
    "    return exp_cost_r\n",
    "\n",
    "\n",
    "# Step 2. Evaluate expected cost for each candidate S_r = 0,1,...,22 under both lead-time bounds\n",
    "exp_cost_lt_min = np.array([func_exp_cost_r(s, lt_r_min) for s in range(23)])\n",
    "exp_cost_lt_max = np.array([func_exp_cost_r(s, lt_r_max) for s in range(23)])\n",
    "\n",
    "# Step 3. Find the S_r that minimizes cost in each case\n",
    "sr_min = np.argmin(exp_cost_lt_min)  # optimal S_r for minimum lead time\n",
    "sr_max = np.argmin(exp_cost_lt_max)  # optimal S_r for maximum lead time\n",
    "\n",
    "print(\"S_r lower bound: \" + str(sr_min))\n",
    "print(\"S_r upper bound: \" + str(sr_max))"
   ]
  },
  {
   "cell_type": "code",
   "execution_count": 26,
   "metadata": {},
   "outputs": [
    {
     "data": {
      "text/plain": [
       "<matplotlib.legend.Legend at 0x221f01ec510>"
      ]
     },
     "execution_count": 26,
     "metadata": {},
     "output_type": "execute_result"
    },
    {
     "data": {
      "image/png": "[encoded data removed]",
      "text/plain": [
       "<Figure size 1000x600 with 1 Axes>"
      ]
     },
     "metadata": {},
     "output_type": "display_data"
    }
   ],
   "source": [
    "import matplotlib.pyplot as plt\n",
    "\n",
    "plt.figure(figsize=(10, 6))\n",
    "plt.plot(range(23), exp_cost_lt_min, label=\"Expected Cost (LT Min)\", marker=\"o\")\n",
    "plt.plot(range(23), exp_cost_lt_max, label=\"Expected Cost (LT Max)\", marker=\"x\")\n",
    "plt.axvline(sr_min, color=\"blue\", linestyle=\"--\", label=\"Optimal S_r (LT Min)\")\n",
    "plt.axvline(sr_max, color=\"orange\", linestyle=\"--\", label=\"Optimal S_r (LT Max)\")\n",
    "plt.title(\"Expected Cost vs Base-Stock Level S_r\")\n",
    "plt.xlabel(\"Base-Stock Level S_r\")\n",
    "plt.ylabel(\"Expected Cost\")\n",
    "plt.legend()"
   ]
  },
  {
   "cell_type": "code",
   "execution_count": 27,
   "metadata": {},
   "outputs": [
    {
     "name": "stdout",
     "output_type": "stream",
     "text": [
      "S_w lower bound: 1\n",
      "S_w upper bound: 5\n"
     ]
    }
   ],
   "source": [
    "import numpy as np\n",
    "from scipy.stats import poisson\n",
    "\n",
    "# Step 2. Bounds of warehouse with given sr_min and sr_max\n",
    "\n",
    "\n",
    "def func_exp_inv_w(base_stock_w):\n",
    "    \"\"\"\n",
    "    Compute the warehouse's expected inventory outcomes for a given base-stock level.\n",
    "\n",
    "    Parameters:\n",
    "    - base_stock_w: warehouse reorder-up-to level S_w\n",
    "\n",
    "    Returns:\n",
    "    - exp_leftover: expected leftover inventory at the warehouse\n",
    "    - exp_backorder: expected backorders at the warehouse\n",
    "    \"\"\"\n",
    "    # 1. Compute mean demand over the warehouse lead time (fixed = lead_time[0])\n",
    "    mu = _lambda * lead_time[0]\n",
    "\n",
    "    # 2. Determine demand values up to the 99th percentile\n",
    "    max_demand = poisson.ppf(0.99, mu)\n",
    "    x = np.arange(max_demand + 1)  # possible demands 0,1,...,max_demand\n",
    "\n",
    "    # 3. Compute probability of each demand level\n",
    "    prob = poisson.pmf(x, mu)\n",
    "\n",
    "    # 4. Expected leftover: E[max(S_w - X, 0)]\n",
    "    leftover = np.fmax(base_stock_w - x, 0)  # leftover at each demand level\n",
    "    exp_leftover = np.sum(leftover * prob)\n",
    "\n",
    "    # 5. Expected backorder: E[max(X - S_w, 0)]\n",
    "    backorder = np.fmax(x - base_stock_w, 0)  # backorder at each demand level\n",
    "    exp_backorder = np.sum(backorder * prob)\n",
    "\n",
    "    return exp_leftover, exp_backorder\n",
    "\n",
    "\n",
    "def func_exp_total_cost(base_stock_w, base_stock_r):\n",
    "    \"\"\"\n",
    "    Compute total expected cost for given warehouse and retailer base-stock levels.\n",
    "\n",
    "    Parameters:\n",
    "    - base_stock_w: warehouse reorder-up-to level S_w\n",
    "    - base_stock_r: retailer reorder-up-to level S_r\n",
    "\n",
    "    Returns:\n",
    "    - exp_total_cost: expected total cost (warehouse holding + retailer cost)\n",
    "    \"\"\"\n",
    "    # 1. Get warehouse inventory metrics\n",
    "    exp_leftover_w, exp_backorder_w = func_exp_inv_w(base_stock_w)\n",
    "\n",
    "    # 2. Approximate retailer lead time: fixed upstream lead_time[1]\n",
    "    #    plus average delay from warehouse backorders\n",
    "    exp_lt_r = lead_time[1] + exp_backorder_w / _lambda\n",
    "\n",
    "    # 3. Compute total cost:\n",
    "    #    - holding_cost[0] * exp_leftover_w = warehouse holding cost\n",
    "    #    - func_exp_cost_r(...)           = retailer holding + penalty cost\n",
    "    exp_total_cost = holding_cost[0] * exp_leftover_w + func_exp_cost_r(\n",
    "        base_stock_r, exp_lt_r\n",
    "    )\n",
    "    return exp_total_cost\n",
    "\n",
    "\n",
    "# Enumerate S_w values to find bounds given the retailer levels\n",
    "exp_total_cost_sw_min = np.array(\n",
    "    [\n",
    "        func_exp_total_cost(s, sr_max)  # assume worst-case retailer S_r = sr_max\n",
    "        for s in range(10)\n",
    "    ]\n",
    ")\n",
    "exp_total_cost_sw_max = np.array(\n",
    "    [\n",
    "        func_exp_total_cost(s, sr_min)  # assume best-case retailer S_r = sr_min\n",
    "        for s in range(10)\n",
    "    ]\n",
    ")\n",
    "\n",
    "# Determine the warehouse base-stock that minimizes cost in each scenario\n",
    "sw_min = np.argmin(exp_total_cost_sw_min)  # optimal S_w under sr_max\n",
    "sw_max = np.argmin(exp_total_cost_sw_max)  # optimal S_w under sr_min\n",
    "\n",
    "print(\"S_w lower bound: \" + str(sw_min))\n",
    "print(\"S_w upper bound: \" + str(sw_max))"
   ]
  },
  {
   "cell_type": "code",
   "execution_count": 29,
   "metadata": {},
   "outputs": [
    {
     "data": {
      "image/png": "[encoded data removed]",
      "text/plain": [
       "<Figure size 1000x500 with 1 Axes>"
      ]
     },
     "metadata": {},
     "output_type": "display_data"
    }
   ],
   "source": [
    "plt.figure(figsize=(10, 5))\n",
    "plt.plot(range(10), exp_total_cost_sw_min, label=\"Total Cost (S_w Min)\", marker=\"o\")\n",
    "plt.plot(range(10), exp_total_cost_sw_max, label=\"Total Cost (S_w Max)\", marker=\"x\")\n",
    "plt.axvline(sw_min, color=\"blue\", linestyle=\"--\", label=\"Optimal S_w (Min)\")\n",
    "plt.axvline(sw_max, color=\"orange\", linestyle=\"--\", label=\"Optimal S_w (Max)\")\n",
    "plt.title(\"Total Cost vs Base-Stock Level S_w\")\n",
    "plt.xlabel(\"Base-Stock Level S_w\")\n",
    "plt.ylabel(\"Total Cost\")\n",
    "plt.legend()\n",
    "plt.show()"
   ]
  },
  {
   "cell_type": "code",
   "execution_count": 30,
   "metadata": {},
   "outputs": [
    {
     "name": "stdout",
     "output_type": "stream",
     "text": [
      "Evaluation for all possible S_w and S_r values:\n",
      " [[33.61466022 26.87190895 22.39498702 19.89269496 19.01003086 19.38201289]\n",
      " [26.02837323 21.58081849 19.16493289 18.3984573  18.89228576 20.29560532]\n",
      " [21.19500078 18.69999557 17.91929303 18.43714268 19.88076078 21.94771424]\n",
      " [18.73031745 17.68646736 18.04379961 19.39861427 21.42175268 23.86779818]\n",
      " [17.90843482 17.81948428 18.88470216 20.73158969 23.07672844 25.72181791]]\n",
      "Optimal cost: 17.68646735669163\n",
      "Optimal base-stock level of warehouse: S_w = 4\n",
      "Optimal base-stock level of retailer: S_r = 15\n"
     ]
    }
   ],
   "source": [
    "# Step 3. Enumerate all S_w and S_r within the previously found bounds\n",
    "n_sw = sw_max - sw_min + 1  # number of warehouse base-stock candidates\n",
    "n_sr = sr_max - sr_min + 1  # number of retailer base-stock candidates\n",
    "total_cost_candidates = np.zeros(\n",
    "    (n_sw, n_sr)\n",
    ")  # matrix to hold total cost for each (S_w, S_r)\n",
    "\n",
    "# 3a. Fill the cost matrix\n",
    "for i in range(n_sw):\n",
    "    for j in range(n_sr):\n",
    "        # Evaluate total expected cost at:\n",
    "        #   S_w = sw_min + i\n",
    "        #   S_r = sr_min + j\n",
    "        total_cost_candidates[i][j] = func_exp_total_cost(sw_min + i, sr_min + j)\n",
    "\n",
    "# 3b. Print the full evaluation matrix\n",
    "print(\"Evaluation for all possible S_w and S_r values:\\n\", total_cost_candidates)\n",
    "\n",
    "# Step 4. Find the overall optimum\n",
    "opt_cost = np.min(total_cost_candidates)  # the minimum total cost across all pairs\n",
    "\n",
    "# Locate the indices (i,j) where the cost equals opt_cost\n",
    "opt_indices = np.where(total_cost_candidates == opt_cost)\n",
    "opt_sw = sw_min + opt_indices[0][0]  # warehouse level corresponding to min cost\n",
    "opt_sr = sr_min + opt_indices[1][0]  # retailer level corresponding to min cost\n",
    "\n",
    "# 4b. Output the optimal results\n",
    "print(\"Optimal cost: \" + str(opt_cost))\n",
    "print(\"Optimal base-stock level of warehouse: S_w = \" + str(opt_sw))\n",
    "print(\"Optimal base-stock level of retailer: S_r = \" + str(opt_sr))"
   ]
  },
  {
   "cell_type": "code",
   "execution_count": 31,
   "metadata": {},
   "outputs": [
    {
     "data": {
      "application/vnd.plotly.v1+json": {
       "config": {
        "plotlyServerURL": "https://plot.ly"
       },
       "data": [
        {
         "colorscale": [
          [
           0,
           "#440154"
          ],
          [
           0.1111111111111111,
           "#482878"
          ],
          [
           0.2222222222222222,
           "#3e4989"
          ],
          [
           0.3333333333333333,
           "#31688e"
          ],
          [
           0.4444444444444444,
           "#26828e"
          ],
          [
           0.5555555555555556,
           "#1f9e89"
          ],
          [
           0.6666666666666666,
           "#35b779"
          ],
          [
           0.7777777777777778,
           "#6ece58"
          ],
          [
           0.8888888888888888,
           "#b5de2b"
          ],
          [
           1,
           "#fde725"
          ]
         ],
         "name": "Total Cost",
         "opacity": 0.7,
         "showscale": true,
         "type": "surface",
         "x": {
          "bdata": "AQIDBAUBAgMEBQECAwQFAQIDBAUBAgMEBQECAwQF",
          "dtype": "i1",
          "shape": "6, 5"
         },
         "y": {
          "bdata": "Dg4ODg4PDw8PDxAQEBAQERERERESEhISEhMTExMT",
          "dtype": "i1",
          "shape": "6, 5"
         },
         "z": {
          "bdata": "+lucL63OQEAxLNB3Qwc6QF+DJ5LrMTVA9syVFfa6MkAz0CUvj+gxQLJOxmw13zpAtUNDhbCUNUBJEO/oMrMyQBrDHlO8rzFAtnbIuMnRMUDzYI7eHWU2QEk+qwo5KjNAyqPMyVbrMUDBZX9zNgsyQOHzQdd74jJA90AbqIfkM0ATcCZMAWYyQAtnMpXobzJAjr+ylQtmM0ASvj52Sbs0QKoQ7mGRAjNAjdvl1mzkMkCpteSJeeEzQPQ71Pv3azVATfiXeaQTN0CWbtqYy2EzQPiIQcqsSzRAm9+KZp3yNUCEaH0FKN43QMGO/g7JuDlA",
          "dtype": "f8",
          "shape": "6, 5"
         }
        },
        {
         "line": {
          "color": "red",
          "width": 6
         },
         "mode": "lines",
         "name": "Optimum",
         "type": "scatter3d",
         "x": [
          4,
          4
         ],
         "y": [
          15,
          15
         ],
         "z": [
          16.890057713693075,
          17.68646735669163
         ]
        }
       ],
       "layout": {
        "height": 400,
        "margin": {
         "b": 0,
         "l": 0,
         "r": 0,
         "t": 40
        },
        "scene": {
         "aspectmode": "manual",
         "aspectratio": {
          "x": 1,
          "y": 1,
          "z": 2
         },
         "xaxis": {
          "title": {
           "text": "Warehouse S_w"
          }
         },
         "yaxis": {
          "title": {
           "text": "Retailer S_r"
          }
         },
         "zaxis": {
          "title": {
           "text": "Total Cost"
          }
         }
        },
        "template": {
         "data": {
          "bar": [
           {
            "error_x": {
             "color": "#2a3f5f"
            },
            "error_y": {
             "color": "#2a3f5f"
            },
            "marker": {
             "line": {
              "color": "#E5ECF6",
              "width": 0.5
             },
             "pattern": {
              "fillmode": "overlay",
              "size": 10,
              "solidity": 0.2
             }
            },
            "type": "bar"
           }
          ],
          "barpolar": [
           {
            "marker": {
             "line": {
              "color": "#E5ECF6",
              "width": 0.5
             },
             "pattern": {
              "fillmode": "overlay",
              "size": 10,
              "solidity": 0.2
             }
            },
            "type": "barpolar"
           }
          ],
          "carpet": [
           {
            "aaxis": {
             "endlinecolor": "#2a3f5f",
             "gridcolor": "white",
             "linecolor": "white",
             "minorgridcolor": "white",
             "startlinecolor": "#2a3f5f"
            },
            "baxis": {
             "endlinecolor": "#2a3f5f",
             "gridcolor": "white",
             "linecolor": "white",
             "minorgridcolor": "white",
             "startlinecolor": "#2a3f5f"
            },
            "type": "carpet"
           }
          ],
          "choropleth": [
           {
            "colorbar": {
             "outlinewidth": 0,
             "ticks": ""
            },
            "type": "choropleth"
           }
          ],
          "contour": [
           {
            "colorbar": {
             "outlinewidth": 0,
             "ticks": ""
            },
            "colorscale": [
             [
              0,
              "#0d0887"
             ],
             [
              0.1111111111111111,
              "#46039f"
             ],
             [
              0.2222222222222222,
              "#7201a8"
             ],
             [
              0.3333333333333333,
              "#9c179e"
             ],
             [
              0.4444444444444444,
              "#bd3786"
             ],
             [
              0.5555555555555556,
              "#d8576b"
             ],
             [
              0.6666666666666666,
              "#ed7953"
             ],
             [
              0.7777777777777778,
              "#fb9f3a"
             ],
             [
              0.8888888888888888,
              "#fdca26"
             ],
             [
              1,
              "#f0f921"
             ]
            ],
            "type": "contour"
           }
          ],
          "contourcarpet": [
           {
            "colorbar": {
             "outlinewidth": 0,
             "ticks": ""
            },
            "type": "contourcarpet"
           }
          ],
          "heatmap": [
           {
            "colorbar": {
             "outlinewidth": 0,
             "ticks": ""
            },
            "colorscale": [
             [
              0,
              "#0d0887"
             ],
             [
              0.1111111111111111,
              "#46039f"
             ],
             [
              0.2222222222222222,
              "#7201a8"
             ],
             [
              0.3333333333333333,
              "#9c179e"
             ],
             [
              0.4444444444444444,
              "#bd3786"
             ],
             [
              0.5555555555555556,
              "#d8576b"
             ],
             [
              0.6666666666666666,
              "#ed7953"
             ],
             [
              0.7777777777777778,
              "#fb9f3a"
             ],
             [
              0.8888888888888888,
              "#fdca26"
             ],
             [
              1,
              "#f0f921"
             ]
            ],
            "type": "heatmap"
           }
          ],
          "histogram": [
           {
            "marker": {
             "pattern": {
              "fillmode": "overlay",
              "size": 10,
              "solidity": 0.2
             }
            },
            "type": "histogram"
           }
          ],
          "histogram2d": [
           {
            "colorbar": {
             "outlinewidth": 0,
             "ticks": ""
            },
            "colorscale": [
             [
              0,
              "#0d0887"
             ],
             [
              0.1111111111111111,
              "#46039f"
             ],
             [
              0.2222222222222222,
              "#7201a8"
             ],
             [
              0.3333333333333333,
              "#9c179e"
             ],
             [
              0.4444444444444444,
              "#bd3786"
             ],
             [
              0.5555555555555556,
              "#d8576b"
             ],
             [
              0.6666666666666666,
              "#ed7953"
             ],
             [
              0.7777777777777778,
              "#fb9f3a"
             ],
             [
              0.8888888888888888,
              "#fdca26"
             ],
             [
              1,
              "#f0f921"
             ]
            ],
            "type": "histogram2d"
           }
          ],
          "histogram2dcontour": [
           {
            "colorbar": {
             "outlinewidth": 0,
             "ticks": ""
            },
            "colorscale": [
             [
              0,
              "#0d0887"
             ],
             [
              0.1111111111111111,
              "#46039f"
             ],
             [
              0.2222222222222222,
              "#7201a8"
             ],
             [
              0.3333333333333333,
              "#9c179e"
             ],
             [
              0.4444444444444444,
              "#bd3786"
             ],
             [
              0.5555555555555556,
              "#d8576b"
             ],
             [
              0.6666666666666666,
              "#ed7953"
             ],
             [
              0.7777777777777778,
              "#fb9f3a"
             ],
             [
              0.8888888888888888,
              "#fdca26"
             ],
             [
              1,
              "#f0f921"
             ]
            ],
            "type": "histogram2dcontour"
           }
          ],
          "mesh3d": [
           {
            "colorbar": {
             "outlinewidth": 0,
             "ticks": ""
            },
            "type": "mesh3d"
           }
          ],
          "parcoords": [
           {
            "line": {
             "colorbar": {
              "outlinewidth": 0,
              "ticks": ""
             }
            },
            "type": "parcoords"
           }
          ],
          "pie": [
           {
            "automargin": true,
            "type": "pie"
           }
          ],
          "scatter": [
           {
            "fillpattern": {
             "fillmode": "overlay",
             "size": 10,
             "solidity": 0.2
            },
            "type": "scatter"
           }
          ],
          "scatter3d": [
           {
            "line": {
             "colorbar": {
              "outlinewidth": 0,
              "ticks": ""
             }
            },
            "marker": {
             "colorbar": {
              "outlinewidth": 0,
              "ticks": ""
             }
            },
            "type": "scatter3d"
           }
          ],
          "scattercarpet": [
           {
            "marker": {
             "colorbar": {
              "outlinewidth": 0,
              "ticks": ""
             }
            },
            "type": "scattercarpet"
           }
          ],
          "scattergeo": [
           {
            "marker": {
             "colorbar": {
              "outlinewidth": 0,
              "ticks": ""
             }
            },
            "type": "scattergeo"
           }
          ],
          "scattergl": [
           {
            "marker": {
             "colorbar": {
              "outlinewidth": 0,
              "ticks": ""
             }
            },
            "type": "scattergl"
           }
          ],
          "scattermap": [
           {
            "marker": {
             "colorbar": {
              "outlinewidth": 0,
              "ticks": ""
             }
            },
            "type": "scattermap"
           }
          ],
          "scattermapbox": [
           {
            "marker": {
             "colorbar": {
              "outlinewidth": 0,
              "ticks": ""
             }
            },
            "type": "scattermapbox"
           }
          ],
          "scatterpolar": [
           {
            "marker": {
             "colorbar": {
              "outlinewidth": 0,
              "ticks": ""
             }
            },
            "type": "scatterpolar"
           }
          ],
          "scatterpolargl": [
           {
            "marker": {
             "colorbar": {
              "outlinewidth": 0,
              "ticks": ""
             }
            },
            "type": "scatterpolargl"
           }
          ],
          "scatterternary": [
           {
            "marker": {
             "colorbar": {
              "outlinewidth": 0,
              "ticks": ""
             }
            },
            "type": "scatterternary"
           }
          ],
          "surface": [
           {
            "colorbar": {
             "outlinewidth": 0,
             "ticks": ""
            },
            "colorscale": [
             [
              0,
              "#0d0887"
             ],
             [
              0.1111111111111111,
              "#46039f"
             ],
             [
              0.2222222222222222,
              "#7201a8"
             ],
             [
              0.3333333333333333,
              "#9c179e"
             ],
             [
              0.4444444444444444,
              "#bd3786"
             ],
             [
              0.5555555555555556,
              "#d8576b"
             ],
             [
              0.6666666666666666,
              "#ed7953"
             ],
             [
              0.7777777777777778,
              "#fb9f3a"
             ],
             [
              0.8888888888888888,
              "#fdca26"
             ],
             [
              1,
              "#f0f921"
             ]
            ],
            "type": "surface"
           }
          ],
          "table": [
           {
            "cells": {
             "fill": {
              "color": "#EBF0F8"
             },
             "line": {
              "color": "white"
             }
            },
            "header": {
             "fill": {
              "color": "#C8D4E3"
             },
             "line": {
              "color": "white"
             }
            },
            "type": "table"
           }
          ]
         },
         "layout": {
          "annotationdefaults": {
           "arrowcolor": "#2a3f5f",
           "arrowhead": 0,
           "arrowwidth": 1
          },
          "autotypenumbers": "strict",
          "coloraxis": {
           "colorbar": {
            "outlinewidth": 0,
            "ticks": ""
           }
          },
          "colorscale": {
           "diverging": [
            [
             0,
             "#8e0152"
            ],
            [
             0.1,
             "#c51b7d"
            ],
            [
             0.2,
             "#de77ae"
            ],
            [
             0.3,
             "#f1b6da"
            ],
            [
             0.4,
             "#fde0ef"
            ],
            [
             0.5,
             "#f7f7f7"
            ],
            [
             0.6,
             "#e6f5d0"
            ],
            [
             0.7,
             "#b8e186"
            ],
            [
             0.8,
             "#7fbc41"
            ],
            [
             0.9,
             "#4d9221"
            ],
            [
             1,
             "#276419"
            ]
           ],
           "sequential": [
            [
             0,
             "#0d0887"
            ],
            [
             0.1111111111111111,
             "#46039f"
            ],
            [
             0.2222222222222222,
             "#7201a8"
            ],
            [
             0.3333333333333333,
             "#9c179e"
            ],
            [
             0.4444444444444444,
             "#bd3786"
            ],
            [
             0.5555555555555556,
             "#d8576b"
            ],
            [
             0.6666666666666666,
             "#ed7953"
            ],
            [
             0.7777777777777778,
             "#fb9f3a"
            ],
            [
             0.8888888888888888,
             "#fdca26"
            ],
            [
             1,
             "#f0f921"
            ]
           ],
           "sequentialminus": [
            [
             0,
             "#0d0887"
            ],
            [
             0.1111111111111111,
             "#46039f"
            ],
            [
             0.2222222222222222,
             "#7201a8"
            ],
            [
             0.3333333333333333,
             "#9c179e"
            ],
            [
             0.4444444444444444,
             "#bd3786"
            ],
            [
             0.5555555555555556,
             "#d8576b"
            ],
            [
             0.6666666666666666,
             "#ed7953"
            ],
            [
             0.7777777777777778,
             "#fb9f3a"
            ],
            [
             0.8888888888888888,
             "#fdca26"
            ],
            [
             1,
             "#f0f921"
            ]
           ]
          },
          "colorway": [
           "#636efa",
           "#EF553B",
           "#00cc96",
           "#ab63fa",
           "#FFA15A",
           "#19d3f3",
           "#FF6692",
           "#B6E880",
           "#FF97FF",
           "#FECB52"
          ],
          "font": {
           "color": "#2a3f5f"
          },
          "geo": {
           "bgcolor": "white",
           "lakecolor": "white",
           "landcolor": "#E5ECF6",
           "showlakes": true,
           "showland": true,
           "subunitcolor": "white"
          },
          "hoverlabel": {
           "align": "left"
          },
          "hovermode": "closest",
          "mapbox": {
           "style": "light"
          },
          "paper_bgcolor": "white",
          "plot_bgcolor": "#E5ECF6",
          "polar": {
           "angularaxis": {
            "gridcolor": "white",
            "linecolor": "white",
            "ticks": ""
           },
           "bgcolor": "#E5ECF6",
           "radialaxis": {
            "gridcolor": "white",
            "linecolor": "white",
            "ticks": ""
           }
          },
          "scene": {
           "xaxis": {
            "backgroundcolor": "#E5ECF6",
            "gridcolor": "white",
            "gridwidth": 2,
            "linecolor": "white",
            "showbackground": true,
            "ticks": "",
            "zerolinecolor": "white"
           },
           "yaxis": {
            "backgroundcolor": "#E5ECF6",
            "gridcolor": "white",
            "gridwidth": 2,
            "linecolor": "white",
            "showbackground": true,
            "ticks": "",
            "zerolinecolor": "white"
           },
           "zaxis": {
            "backgroundcolor": "#E5ECF6",
            "gridcolor": "white",
            "gridwidth": 2,
            "linecolor": "white",
            "showbackground": true,
            "ticks": "",
            "zerolinecolor": "white"
           }
          },
          "shapedefaults": {
           "line": {
            "color": "#2a3f5f"
           }
          },
          "ternary": {
           "aaxis": {
            "gridcolor": "white",
            "linecolor": "white",
            "ticks": ""
           },
           "baxis": {
            "gridcolor": "white",
            "linecolor": "white",
            "ticks": ""
           },
           "bgcolor": "#E5ECF6",
           "caxis": {
            "gridcolor": "white",
            "linecolor": "white",
            "ticks": ""
           }
          },
          "title": {
           "x": 0.05
          },
          "xaxis": {
           "automargin": true,
           "gridcolor": "white",
           "linecolor": "white",
           "ticks": "",
           "title": {
            "standoff": 15
           },
           "zerolinecolor": "white",
           "zerolinewidth": 2
          },
          "yaxis": {
           "automargin": true,
           "gridcolor": "white",
           "linecolor": "white",
           "ticks": "",
           "title": {
            "standoff": 15
           },
           "zerolinecolor": "white",
           "zerolinewidth": 2
          }
         }
        },
        "title": {
         "text": "Total Expected Cost Surface with Optimum"
        },
        "width": 800
       }
      }
     },
     "metadata": {},
     "output_type": "display_data"
    }
   ],
   "source": [
    "import plotly.graph_objects as go\n",
    "\n",
    "# Define the range of base-stock levels for warehouse (S_w) and retailer (S_r)\n",
    "sw_vals = np.arange(sw_min, sw_max + 1)\n",
    "sr_vals = np.arange(sr_min, sr_max + 1)\n",
    "\n",
    "# Create a meshgrid for plotting\n",
    "SW, SR = np.meshgrid(sw_vals, sr_vals)\n",
    "Z = np.zeros_like(SW, dtype=float)\n",
    "\n",
    "# Compute total cost for each (S_w, S_r) pair\n",
    "for i, sw in enumerate(sw_vals):\n",
    "    for j, sr in enumerate(sr_vals):\n",
    "        Z[j, i] = func_exp_total_cost(sw, sr)\n",
    "# Compute overall min/max of Z so we can choose a bottom for the line\n",
    "min_z, max_z = Z.min(), Z.max()\n",
    "bottom_z = min_z - 0.05 * (max_z - min_z)  # a little bit below the lowest surface point\n",
    "\n",
    "# 1) Surface, with opacity so lines show through\n",
    "surface = go.Surface(\n",
    "    x=SW,\n",
    "    y=SR,\n",
    "    z=Z,\n",
    "    colorscale=\"Viridis\",\n",
    "    opacity=0.7,\n",
    "    showscale=True,\n",
    "    name=\"Total Cost\",\n",
    ")\n",
    "\n",
    "# 2) Vertical line at the optimum, from bottom_z up to the true optimum cost\n",
    "opt_line = go.Scatter3d(\n",
    "    x=[opt_sw, opt_sw],\n",
    "    y=[opt_sr, opt_sr],\n",
    "    z=[bottom_z, opt_cost],\n",
    "    mode=\"lines\",\n",
    "    line=dict(color=\"red\", width=6),\n",
    "    name=\"Optimum\",\n",
    ")\n",
    "\n",
    "fig = go.Figure(data=[surface, opt_line])\n",
    "\n",
    "fig.update_layout(\n",
    "    title=\"Total Expected Cost Surface with Optimum\",\n",
    "    width=800,  # narrower\n",
    "    height=400,  # taller\n",
    "    margin=dict(l=0, r=0, b=0, t=40),\n",
    "    scene=dict(\n",
    "        xaxis_title=\"Warehouse S_w\",\n",
    "        yaxis_title=\"Retailer S_r\",\n",
    "        zaxis_title=\"Total Cost\",\n",
    "        aspectmode=\"manual\",\n",
    "        aspectratio=dict(x=1, y=1, z=2),\n",
    "    ),\n",
    ")\n",
    "\n",
    "fig.show()"
   ]
  },
  {
   "cell_type": "code",
   "execution_count": null,
   "metadata": {},
   "outputs": [],
   "source": []
  }
 ],
 "metadata": {
  "kernelspec": {
   "display_name": "Python 3",
   "language": "python",
   "name": "python3"
  },
  "language_info": {
   "codemirror_mode": {
    "name": "ipython",
    "version": 3
   },
   "file_extension": ".py",
   "mimetype": "text/x-python",
   "name": "python",
   "nbconvert_exporter": "python",
   "pygments_lexer": "ipython3",
   "version": "3.11.7"
  }
 },
 "nbformat": 4,
 "nbformat_minor": 4
}
