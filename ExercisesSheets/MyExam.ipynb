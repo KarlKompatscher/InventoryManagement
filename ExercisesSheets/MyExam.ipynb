{
 "cells": [
  {
   "cell_type": "code",
   "execution_count": 2,
   "id": "c3e74034",
   "metadata": {},
   "outputs": [
    {
     "data": {
      "text/plain": [
       "<module 'imf_main' from '/Users/karlkompatscher/Dev/InventoryManagement/imf_main.py'>"
      ]
     },
     "execution_count": 2,
     "metadata": {},
     "output_type": "execute_result"
    }
   ],
   "source": [
    "import sys\n",
    "import os\n",
    "import importlib\n",
    "\n",
    "current_dir = os.getcwd()\n",
    "parent_dir = os.path.abspath(os.path.join(current_dir, \"..\"))\n",
    "sys.path.append(parent_dir)\n",
    "\n",
    "import imf_utils\n",
    "import imf_eoq\n",
    "import imf_newsvendor\n",
    "import imf_inventory\n",
    "import imf_main as imf\n",
    "\n",
    "importlib.reload(imf_utils)\n",
    "importlib.reload(imf_eoq)\n",
    "importlib.reload(imf_newsvendor)\n",
    "importlib.reload(imf_inventory)\n",
    "importlib.reload(imf)\n",
    "\n"
   ]
  },
  {
   "cell_type": "code",
   "execution_count": 7,
   "id": "9b29686e",
   "metadata": {},
   "outputs": [
    {
     "name": "stdout",
     "output_type": "stream",
     "text": [
      "[INFO] Annual demand: 600\n",
      "[INFO] Setup cost: 8\n",
      "[INFO] Unit costs: [0.3, 0.29]\n",
      "[INFO] Holding rate: 0.20\n",
      "[INFO] Quantity breaks: [500]\n",
      "[INFO] Incremental quantity discount (q_1 unconstrained): 400.00 units\n",
      "[INFO] Incremental quantity discount (q_2 unconstrained): 518.62 units\n",
      "[INFO] Incremental quantity discount (q=400.00, j=1, total cost): 204.00\n",
      "[INFO] Incremental quantity discount (q=518.62, j=2, total cost): 204.58\n",
      "[INFO] Incremental quantity discount (optimal quantity): 400.00 units\n",
      "[INFO] Incremental quantity discount (optimal price range): 1\n",
      "[INFO] Incremental quantity discount (optimal total cost): 204.00 currency\n"
     ]
    },
    {
     "data": {
      "text/plain": [
       "{'order_quantity': 400.0,\n",
       " 'price_range': 1,\n",
       " 'total_cost': 204.0,\n",
       " 'ordering_cost': 12.0,\n",
       " 'holding_cost': 12.0,\n",
       " 'purchase_cost': 180.0}"
      ]
     },
     "execution_count": 7,
     "metadata": {},
     "output_type": "execute_result"
    }
   ],
   "source": [
    "# 1.c)\n",
    "\n",
    "D = 600\n",
    "A = 8\n",
    "i = 0.2\n",
    "p1 = 0.3\n",
    "p2 = 0.29\n",
    "\n",
    "imf_eoq.eoq_incremental_quantity_discount(D, A, [p1, p2], i, [500])"
   ]
  }
 ],
 "metadata": {
  "kernelspec": {
   "display_name": ".venv",
   "language": "python",
   "name": "python3"
  },
  "language_info": {
   "codemirror_mode": {
    "name": "ipython",
    "version": 3
   },
   "file_extension": ".py",
   "mimetype": "text/x-python",
   "name": "python",
   "nbconvert_exporter": "python",
   "pygments_lexer": "ipython3",
   "version": "3.13.5"
  }
 },
 "nbformat": 4,
 "nbformat_minor": 5
}
