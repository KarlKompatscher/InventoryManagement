{
 "cells": [
  {
   "cell_type": "markdown",
   "metadata": {},
   "source": [
    "# Solution for Assignment 1: EOQ Models and Sensitivity Analysis\n",
    "\n",
    "This notebook solves the problems from Assignment 1 using the `imf_*` formula library."
   ]
  },
  {
   "cell_type": "code",
   "execution_count": 1,
   "metadata": {},
   "outputs": [
    {
     "ename": "ModuleNotFoundError",
     "evalue": "No module named 'imf_main'",
     "output_type": "error",
     "traceback": [
      "\u001b[31m---------------------------------------------------------------------------\u001b[39m",
      "\u001b[31mModuleNotFoundError\u001b[39m                       Traceback (most recent call last)",
      "\u001b[36mCell\u001b[39m\u001b[36m \u001b[39m\u001b[32mIn[1]\u001b[39m\u001b[32m, line 4\u001b[39m\n\u001b[32m      2\u001b[39m \u001b[38;5;28;01mimport\u001b[39;00m\u001b[38;5;250m \u001b[39m\u001b[34;01mmatplotlib\u001b[39;00m\u001b[34;01m.\u001b[39;00m\u001b[34;01mpyplot\u001b[39;00m\u001b[38;5;250m \u001b[39m\u001b[38;5;28;01mas\u001b[39;00m\u001b[38;5;250m \u001b[39m\u001b[34;01mplt\u001b[39;00m\n\u001b[32m      3\u001b[39m \u001b[38;5;28;01mimport\u001b[39;00m\u001b[38;5;250m \u001b[39m\u001b[34;01mnumpy\u001b[39;00m\u001b[38;5;250m \u001b[39m\u001b[38;5;28;01mas\u001b[39;00m\u001b[38;5;250m \u001b[39m\u001b[34;01mnp\u001b[39;00m\n\u001b[32m----> \u001b[39m\u001b[32m4\u001b[39m \u001b[38;5;28;01mfrom\u001b[39;00m\u001b[38;5;250m \u001b[39m\u001b[34;01mimf_main\u001b[39;00m\u001b[38;5;250m \u001b[39m\u001b[38;5;28;01mimport\u001b[39;00m EOQ, eoq, cost_penalty\n",
      "\u001b[31mModuleNotFoundError\u001b[39m: No module named 'imf_main'"
     ]
    }
   ],
   "source": [
    "import math\n",
    "import matplotlib.pyplot as plt\n",
    "import numpy as np\n",
    "from imf_main import EOQ, eoq, cost_penalty"
   ]
  },
  {
   "cell_type": "markdown",
   "metadata": {},
   "source": [
    "## Exercise 1(a): Basic EOQ calculation"
   ]
  },
  {
   "cell_type": "code",
   "execution_count": null,
   "metadata": {},
   "outputs": [],
   "source": [
    "# Given data\n",
    "demand = 600  # kg/week\n",
    "setup_cost = 26  # euro\n",
    "unit_cost = 1.35  # euro/kg\n",
    "annual_holding_cost = 2.2  # euro/kg/year\n",
    "holding_cost = annual_holding_cost / 52  # euro/kg/week (convert to weekly)\n",
    "\n",
    "# Calculate EOQ using the library function\n",
    "optimal_lot_size = eoq(demand, setup_cost, holding_cost)\n",
    "\n",
    "# Calculate total relevant cost\n",
    "total_cost = math.sqrt(2 * demand * setup_cost * holding_cost)\n",
    "\n",
    "# Calculate cycle time\n",
    "cycle_time = optimal_lot_size / demand\n",
    "\n",
    "print(f\"Optimal lot size: {optimal_lot_size:.2f} kg\")\n",
    "print(f\"Total relevant cost: {total_cost:.2f} euros\")\n",
    "print(f\"Cycle length: {cycle_time:.2f} weeks\")"
   ]
  },
  {
   "cell_type": "markdown",
   "metadata": {},
   "source": [
    "## Exercise 1(b): Sensitivity Analysis"
   ]
  },
  {
   "cell_type": "code",
   "execution_count": null,
   "metadata": {},
   "outputs": [],
   "source": [
    "actual_quantity = 500  # Given non-optimal order quantity\n",
    "\n",
    "# Calculate percentage deviation\n",
    "percentage_deviation = (actual_quantity - optimal_lot_size) / optimal_lot_size * 100\n",
    "\n",
    "# Calculate cost penalty using the library function\n",
    "penalty = cost_penalty(actual_quantity, optimal_lot_size)\n",
    "\n",
    "print(f\"Percentage deviation: {percentage_deviation:.2f}%\")\n",
    "print(f\"Percentage cost penalty: {penalty:.2f}%\")\n",
    "\n",
    "# Alternatively, calculate directly\n",
    "p = (actual_quantity - optimal_lot_size) / optimal_lot_size\n",
    "pcp = 50 * (p**2 / (1 + p))\n",
    "print(f\"Direct calculation of cost penalty: {pcp:.2f}%\")\n",
    "\n",
    "# Define function to calculate lot cost\n",
    "def lot_cost(q):\n",
    "    return demand / q * setup_cost + 0.5 * holding_cost * q"
   ]
  },
  {
   "cell_type": "markdown",
   "metadata": {},
   "source": [
    "## Exercise 1(c): Power of two policy"
   ]
  },
  {
   "cell_type": "code",
   "execution_count": null,
   "metadata": {},
   "outputs": [],
   "source": [
    "t = 1\n",
    "while lot_cost(2 * demand * t) < lot_cost(demand * t):\n",
    "    t = t * 2\n",
    "\n",
    "optimal_integer_cycle = t\n",
    "cost_error = 100 * (lot_cost(demand * t) / total_cost - 1)\n",
    "\n",
    "print(f\"Optimal integer cycle: {optimal_integer_cycle}\")\n",
    "print(f\"Cost error: {cost_error:.2f}%\")"
   ]
  },
  {
   "cell_type": "markdown",
   "metadata": {},
   "source": [
    "## Visualization of EOQ Model Cost Analysis"
   ]
  },
  {
   "cell_type": "code",
   "execution_count": null,
   "metadata": {},
   "outputs": [],
   "source": [
    "# Define cost functions\n",
    "def ordering_cost(q):\n",
    "    return setup_cost * demand / q\n",
    "\n",
    "def holding_cost_func(q):\n",
    "    return 0.5 * holding_cost * q\n",
    "\n",
    "def total_cost_func(q):\n",
    "    return ordering_cost(q) + holding_cost_func(q)\n",
    "\n",
    "# Create data for plotting\n",
    "q_values = np.linspace(100, 2000, 1000)\n",
    "ordering_costs = [ordering_cost(q) for q in q_values]\n",
    "holding_costs = [holding_cost_func(q) for q in q_values]\n",
    "total_costs = [total_cost_func(q) for q in q_values]\n",
    "\n",
    "# Create plot\n",
    "plt.figure(figsize=(10, 6))\n",
    "plt.plot(q_values, ordering_costs, label='Ordering Cost')\n",
    "plt.plot(q_values, holding_costs, label='Holding Cost')\n",
    "plt.plot(q_values, total_costs, label='Total Cost')\n",
    "\n",
    "# Mark the optimal and actual quantities\n",
    "plt.axvline(x=optimal_lot_size, color='g', linestyle='--', label=f'Optimal Q = {optimal_lot_size:.2f}')\n",
    "plt.axvline(x=actual_quantity, color='r', linestyle='--', label=f'Actual Q = {actual_quantity}')\n",
    "\n",
    "# Add labels and legend\n",
    "plt.xlabel('Order Quantity')\n",
    "plt.ylabel('Cost')\n",
    "plt.title('EOQ Model Cost Analysis')\n",
    "plt.grid(True, alpha=0.3)\n",
    "plt.legend()\n",
    "plt.show()"
   ]
  },
  {
   "cell_type": "markdown",
   "metadata": {},
   "source": [
    "## Analysis of Cost Penalty for Different Order Quantities"
   ]
  },
  {
   "cell_type": "code",
   "execution_count": null,
   "metadata": {},
   "outputs": [],
   "source": [
    "# Calculate cost penalties for different deviations from optimal EOQ\n",
    "deviations = np.linspace(-0.8, 2, 50)  # From -80% to +200% deviation\n",
    "quantities = optimal_lot_size * (1 + deviations)\n",
    "penalties = [cost_penalty(q, optimal_lot_size) for q in quantities]\n",
    "\n",
    "# Plot the cost penalty curve\n",
    "plt.figure(figsize=(10, 6))\n",
    "plt.plot(deviations * 100, penalties, 'b-')\n",
    "plt.axhline(y=10, color='r', linestyle='--', label='10% penalty threshold')\n",
    "\n",
    "# Mark the actual deviation from the problem\n",
    "actual_dev = (actual_quantity - optimal_lot_size) / optimal_lot_size\n",
    "actual_pen = cost_penalty(actual_quantity, optimal_lot_size)\n",
    "plt.plot(actual_dev * 100, actual_pen, 'ro', markersize=8, label=f'Actual deviation ({actual_dev*100:.1f}%)')\n",
    "\n",
    "# Add labels and legend\n",
    "plt.xlabel('Percentage Deviation from EOQ (%)')\n",
    "plt.ylabel('Percentage Cost Penalty (%)')\n",
    "plt.title('Cost Penalty vs. Deviation from Optimal Order Quantity')\n",
    "plt.grid(True, alpha=0.3)\n",
    "plt.legend()\n",
    "plt.show()"
   ]
  }
 ],
 "metadata": {
  "kernelspec": {
   "display_name": ".venv",
   "language": "python",
   "name": "python3"
  },
  "language_info": {
   "codemirror_mode": {
    "name": "ipython",
    "version": 3
   },
   "file_extension": ".py",
   "mimetype": "text/x-python",
   "name": "python",
   "nbconvert_exporter": "python",
   "pygments_lexer": "ipython3",
   "version": "3.13.5"
  }
 },
 "nbformat": 4,
 "nbformat_minor": 4
}
