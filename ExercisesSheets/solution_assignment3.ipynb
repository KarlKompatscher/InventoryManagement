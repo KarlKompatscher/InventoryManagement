{
 "cells": [
  {
   "cell_type": "markdown",
   "metadata": {},
   "source": [
    "# Solution for Assignment 3: Newsvendor Model\n",
    "\n",
    "This notebook solves the problems from Assignment 3 using the `imf_*` formula library."
   ]
  },
  {
   "cell_type": "code",
   "metadata": {},
   "source": "import numpy as np\nimport matplotlib.pyplot as plt\nimport os\nimport sys\nfrom scipy.stats import norm\n\n# Get the absolute path of the current file and add parent directory to path\ncurrent_dir = os.path.dirname(os.path.abspath('__file__'))\nparent_dir = os.path.dirname(current_dir)\nif parent_dir not in sys.path:\n    sys.path.insert(0, parent_dir)\n\n# Now we can import from imf_main\ntry:\n    from imf_main import (\n        newsvendor_critical_ratio,\n        newsvendor_normal,\n        NormalDistribution,\n        expected_shortage\n    )\nexcept ImportError:\n    print(\"Could not import from imf_main. Using direct implementation...\")\n    \n    # Direct implementation of newsvendor functions if import fails\n    def newsvendor_critical_ratio(price, cost, salvage=0):\n        \"\"\"Calculate newsvendor critical ratio\"\"\"\n        return (price - cost) / (price - salvage)\n    \n    def newsvendor_normal(mean, std, critical_ratio):\n        \"\"\"Calculate newsvendor order quantity for normally distributed demand\"\"\"\n        z = norm.ppf(critical_ratio)\n        return mean + z * std\n    \n    class NormalDistribution:\n        @staticmethod\n        def pdf(z, label=\"\", suffix=\"\"):\n            return norm.pdf(z)\n        \n        @staticmethod\n        def cdf(z, label=\"\", suffix=\"\"):\n            return norm.cdf(z)\n        \n        @staticmethod\n        def loss_function(z, label=\"\", suffix=\"\"):\n            return norm.pdf(z) - z * (1 - norm.cdf(z))\n        \n    def expected_shortage(sigma, z, label=\"\", suffix=\"\"):\n        \"\"\"Calculate expected shortage\"\"\"\n        return sigma * (norm.pdf(z) - z * (1 - norm.cdf(z)))",
   "outputs": []
  },
  {
   "cell_type": "markdown",
   "metadata": {},
   "source": [
    "## Exercise 3(a): Basic Newsvendor Model"
   ]
  },
  {
   "cell_type": "code",
   "execution_count": null,
   "metadata": {},
   "source": [
    "# Given data\n",
    "mean_demand = 2000  # units\n",
    "std_demand = 250  # units\n",
    "price = 6  # euro\n",
    "cost = 3  # euro\n",
    "salvage = 2.5  # euro\n",
    "\n",
    "# Calculate critical ratio using the library function\n",
    "critical_ratio = newsvendor_critical_ratio(price, cost, salvage)\n",
    "print(f\"Critical ratio: {critical_ratio:.4f}\")\n",
    "\n",
    "# Calculate optimal order quantity using the library function\n",
    "optimal_q = newsvendor_normal(mean_demand, std_demand, critical_ratio)\n",
    "print(f\"Newsvendor quantity: {optimal_q:.2f} units\")"
   ]
  },
  {
   "cell_type": "markdown",
   "metadata": {},
   "source": [
    "## Exercise 3(b): KPI calculations"
   ]
  },
  {
   "cell_type": "code",
   "execution_count": null,
   "metadata": {},
   "source": [
    "# Calculate z-value\n",
    "z = (optimal_q - mean_demand) / std_demand\n",
    "print(f\"Safety factor z: {z:.4f}\")\n",
    "\n",
    "# Calculate expected lost sales\n",
    "els = expected_shortage(std_demand, z)\n",
    "print(f\"Expected lost sales: {els:.2f} units\")\n",
    "\n",
    "# Calculate expected sales\n",
    "expected_sales = mean_demand - els\n",
    "print(f\"Expected sales: {expected_sales:.2f} units\")\n",
    "\n",
    "# Calculate expected leftover\n",
    "expected_leftover = optimal_q - expected_sales\n",
    "print(f\"Expected leftover: {expected_leftover:.2f} units\")\n",
    "\n",
    "# Calculate expected profit\n",
    "expected_profit = -cost * optimal_q + price * expected_sales + salvage * expected_leftover\n",
    "print(f\"Expected profit: {expected_profit:.2f} euro\")\n",
    "\n",
    "# Calculate service level metrics\n",
    "service_level_availability = critical_ratio  # alpha = beta\n",
    "print(f\"Service level (Availability): {service_level_availability:.4f}\")\n",
    "\n",
    "fill_rate = expected_sales / mean_demand\n",
    "print(f\"Service level (Fill-rate): {fill_rate:.4f}\")"
   ]
  },
  {
   "cell_type": "markdown",
   "metadata": {},
   "source": [
    "## Alternative Method Using Direct Calculations"
   ]
  },
  {
   "cell_type": "code",
   "execution_count": null,
   "metadata": {},
   "source": [
    "# Calculate critical ratio directly\n",
    "beta = (price - cost) / (price - salvage)\n",
    "print(f\"Critical ratio (direct calculation): {beta:.4f}\")\n",
    "\n",
    "# Calculate optimal order quantity\n",
    "z_value = norm.ppf(beta)  # Inverse CDF (percentile) of the standard normal\n",
    "qt = mean_demand + std_demand * z_value\n",
    "print(f\"Newsvendor quantity (direct calculation): {qt:.2f} units\")\n",
    "\n",
    "# Calculate expected lost sales using normal loss function\n",
    "def normal_loss_function(z):\n",
    "    return norm.pdf(z) - z * (1 - norm.cdf(z))\n",
    "\n",
    "ELS = std_demand * normal_loss_function(z_value)\n",
    "print(f\"Expected lost sales (direct calculation): {ELS:.2f} units\")\n",
    "\n",
    "# Calculate other KPIs\n",
    "ES = mean_demand - ELS\n",
    "print(f\"Expected sales (direct calculation): {ES:.2f} units\")\n",
    "\n",
    "ELO = qt - ES\n",
    "print(f\"Expected leftover (direct calculation): {ELO:.2f} units\")\n",
    "\n",
    "EP = -cost * qt + price * ES + salvage * ELO\n",
    "print(f\"Expected profit (direct calculation): {EP:.2f} euro\")\n",
    "\n",
    "alpha = beta\n",
    "print(f\"Service level availability (direct calculation): {alpha:.4f}\")\n",
    "\n",
    "fill_rate = ES / mean_demand\n",
    "print(f\"Service level fill-rate (direct calculation): {fill_rate:.4f}\")"
   ]
  },
  {
   "cell_type": "markdown",
   "metadata": {},
   "source": [
    "## Visualization of Newsvendor Model Solution"
   ]
  },
  {
   "cell_type": "code",
   "execution_count": null,
   "metadata": {},
   "source": [
    "# Create range of demand values for plotting\n",
    "demand_values = np.linspace(mean_demand - 4 * std_demand, mean_demand + 4 * std_demand, 1000)\n",
    "\n",
    "# Calculate normal PDF values using scipy\n",
    "pdf_values = norm.pdf(demand_values, loc=mean_demand, scale=std_demand)\n",
    "\n",
    "# Create plot\n",
    "plt.figure(figsize=(12, 6))\n",
    "\n",
    "# Plot demand distribution\n",
    "plt.subplot(1, 2, 1)\n",
    "plt.plot(demand_values, pdf_values)\n",
    "plt.fill_between(demand_values[demand_values <= optimal_q], pdf_values[demand_values <= optimal_q], \n",
    "                alpha=0.3, color='green', label='No stockout')\n",
    "plt.fill_between(demand_values[demand_values > optimal_q], pdf_values[demand_values > optimal_q], \n",
    "                alpha=0.3, color='red', label='Stockout')\n",
    "\n",
    "# Mark key points\n",
    "plt.axvline(x=mean_demand, color='blue', linestyle='--', label='Mean demand')\n",
    "plt.axvline(x=optimal_q, color='green', linestyle='-', label='Optimal order quantity')\n",
    "\n",
    "# Add labels and legend\n",
    "plt.xlabel('Demand')\n",
    "plt.ylabel('Probability Density')\n",
    "plt.title(f'Newsvendor Solution (CR = {critical_ratio:.4f})')\n",
    "plt.grid(True, alpha=0.3)\n",
    "plt.legend()\n",
    "\n",
    "# Create a cost/profit plot\n",
    "plt.subplot(1, 2, 2)\n",
    "\n",
    "# Define range of order quantities\n",
    "q_values = np.linspace(mean_demand - 2 * std_demand, mean_demand + 2 * std_demand, 100)\n",
    "\n",
    "# Calculate expected profit for different order quantities\n",
    "profits = []\n",
    "for q in q_values:\n",
    "    z = (q - mean_demand) / std_demand\n",
    "    els = std_demand * normal_loss_function(z)\n",
    "    exp_sales = mean_demand - els\n",
    "    exp_leftover = q - exp_sales\n",
    "    profit = -cost * q + price * exp_sales + salvage * exp_leftover\n",
    "    profits.append(profit)\n",
    "\n",
    "plt.plot(q_values, profits)\n",
    "plt.axvline(x=optimal_q, color='green', linestyle='-', label='Optimal order quantity')\n",
    "plt.axhline(y=max(profits), color='red', linestyle='--', label='Maximum expected profit')\n",
    "\n",
    "# Add labels and legend\n",
    "plt.xlabel('Order Quantity')\n",
    "plt.ylabel('Expected Profit')\n",
    "plt.title('Expected Profit vs Order Quantity')\n",
    "plt.grid(True, alpha=0.3)\n",
    "plt.legend()\n",
    "\n",
    "plt.tight_layout()\n",
    "plt.show()"
   ]
  },
  {
   "cell_type": "markdown",
   "metadata": {},
   "source": [
    "## Critical Ratio Analysis\n",
    "\n",
    "Let's explore how the critical ratio and optimal order quantity change as we vary the price, cost, and salvage value."
   ]
  },
  {
   "cell_type": "code",
   "execution_count": null,
   "metadata": {},
   "source": [
    "# Define ranges for parameters\n",
    "prices = np.linspace(4, 10, 20)  # Varying selling price\n",
    "costs = [cost]  # Fixed cost\n",
    "salvages = [salvage]  # Fixed salvage value\n",
    "\n",
    "# Calculate critical ratios and optimal quantities for different prices\n",
    "cr_values = []\n",
    "q_values = []\n",
    "\n",
    "for p in prices:\n",
    "    cr = newsvendor_critical_ratio(p, cost, salvage)\n",
    "    cr_values.append(cr)\n",
    "    q_values.append(newsvendor_normal(mean_demand, std_demand, cr))\n",
    "\n",
    "# Plot results\n",
    "plt.figure(figsize=(12, 5))\n",
    "\n",
    "# Plot critical ratio vs price\n",
    "plt.subplot(1, 2, 1)\n",
    "plt.plot(prices, cr_values)\n",
    "plt.axhline(y=0.5, color='r', linestyle='--')\n",
    "plt.axhline(y=0.95, color='r', linestyle=':')\n",
    "plt.axhline(y=0.05, color='r', linestyle=':')\n",
    "plt.xlabel('Selling Price')\n",
    "plt.ylabel('Critical Ratio')\n",
    "plt.title('Critical Ratio vs Selling Price')\n",
    "plt.grid(True, alpha=0.3)\n",
    "\n",
    "# Plot optimal quantity vs price\n",
    "plt.subplot(1, 2, 2)\n",
    "plt.plot(prices, q_values)\n",
    "plt.axhline(y=mean_demand, color='b', linestyle='--', label='Mean Demand')\n",
    "plt.xlabel('Selling Price')\n",
    "plt.ylabel('Optimal Order Quantity')\n",
    "plt.title('Optimal Order Quantity vs Selling Price')\n",
    "plt.grid(True, alpha=0.3)\n",
    "plt.legend()\n",
    "\n",
    "plt.tight_layout()\n",
    "plt.show()"
   ]
  },
  {
   "cell_type": "markdown",
   "metadata": {},
   "source": [
    "## Sensitivity Analysis of Optimal Order Quantity to Demand Uncertainty"
   ]
  },
  {
   "cell_type": "code",
   "execution_count": null,
   "metadata": {},
   "source": [
    "# Define range of standard deviations\n",
    "std_values = np.linspace(50, 500, 20)\n",
    "\n",
    "# Calculate optimal quantities for different standard deviations\n",
    "q_values = []\n",
    "for std in std_values:\n",
    "    q_values.append(newsvendor_normal(mean_demand, std, critical_ratio))\n",
    "\n",
    "# Plot results\n",
    "plt.figure(figsize=(10, 6))\n",
    "plt.plot(std_values, q_values, 'b-')\n",
    "plt.axhline(y=mean_demand, color='r', linestyle='--', label='Mean Demand')\n",
    "plt.xlabel('Demand Standard Deviation')\n",
    "plt.ylabel('Optimal Order Quantity')\n",
    "plt.title('Sensitivity of Optimal Order Quantity to Demand Uncertainty')\n",
    "plt.grid(True, alpha=0.3)\n",
    "plt.legend()\n",
    "plt.show()"
   ]
  }
 ],
 "metadata": {
  "kernelspec": {
   "display_name": "Python 3",
   "language": "python",
   "name": "python3"
  },
  "language_info": {
   "codemirror_mode": {
    "name": "ipython",
    "version": 3
   },
   "file_extension": ".py",
   "mimetype": "text/x-python",
   "name": "python",
   "nbconvert_exporter": "python",
   "pygments_lexer": "ipython3",
   "version": "3.8.10"
  }
 },
 "nbformat": 4,
 "nbformat_minor": 4
}