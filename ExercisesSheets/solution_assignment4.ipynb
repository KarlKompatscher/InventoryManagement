{
 "cells": [
  {
   "cell_type": "markdown",
   "metadata": {},
   "source": [
    "# Solution for Assignment 4: Effect of Demand Distribution on Order Quantity\n",
    "\n",
    "This notebook solves the problems from Assignment 4 using the `imf_*` formula library to explore how different demand distributions affect the optimal order quantity in the newsvendor model."
   ]
  },
  {
   "cell_type": "code",
   "metadata": {},
   "source": "import numpy as np\nimport matplotlib.pyplot as plt\nimport os\nimport sys\nfrom scipy.stats import uniform, poisson, gamma\n\n# Get the absolute path of the current file and add parent directory to path\ncurrent_dir = os.path.dirname(os.path.abspath('__file__'))\nparent_dir = os.path.dirname(current_dir)\nif parent_dir not in sys.path:\n    sys.path.insert(0, parent_dir)\n\n# Now we can import from imf_main\ntry:\n    from imf_main import (\n        newsvendor_critical_ratio,\n        newsvendor_uniform,\n        newsvendor_poisson,\n        newsvendor_gamma\n    )\nexcept ImportError:\n    print(\"Could not import from imf_main. Using direct implementation...\")\n    \n    # Direct implementation of newsvendor functions if import fails\n    def newsvendor_critical_ratio(price, cost, salvage=0):\n        \"\"\"Calculate newsvendor critical ratio\"\"\"\n        return (price - cost) / (price - salvage)\n    \n    def newsvendor_uniform(lower_bound, upper_bound, critical_ratio):\n        \"\"\"Calculate newsvendor order quantity for uniformly distributed demand\"\"\"\n        return lower_bound + critical_ratio * (upper_bound - lower_bound)\n    \n    def newsvendor_poisson(lambda_param, critical_ratio):\n        \"\"\"Calculate newsvendor order quantity for Poisson distributed demand\"\"\"\n        return poisson.ppf(critical_ratio, lambda_param)\n    \n    def newsvendor_gamma(mean, std, critical_ratio):\n        \"\"\"Calculate newsvendor order quantity for gamma distributed demand\"\"\"\n        var = std**2\n        alpha = mean**2 / var  # shape parameter\n        beta = var / mean      # scale parameter\n        return gamma.ppf(critical_ratio, a=alpha, scale=beta)",
   "outputs": []
  },
  {
   "cell_type": "markdown",
   "metadata": {},
   "source": [
    "## Critical Ratio\n",
    "\n",
    "We'll use the same critical ratio for all distributions to facilitate comparison."
   ]
  },
  {
   "cell_type": "code",
   "execution_count": null,
   "metadata": {},
   "source": [
    "# Critical ratio for all distributions\n",
    "critical_ratio = 0.75\n",
    "print(f\"Critical ratio: {critical_ratio}\")"
   ]
  },
  {
   "cell_type": "markdown",
   "metadata": {},
   "source": [
    "## Exercise 4(a): Uniform Distribution"
   ]
  },
  {
   "cell_type": "code",
   "execution_count": null,
   "metadata": {},
   "source": [
    "# Uniform distribution parameters\n",
    "lower_bound = 4000\n",
    "upper_bound = 8000\n",
    "\n",
    "# Calculate optimal order quantity using the library function\n",
    "optimal_q_uniform = newsvendor_uniform(lower_bound, upper_bound, critical_ratio)\n",
    "print(f\"Order quantity with uniformly distributed demand: {optimal_q_uniform:.0f} units\")\n",
    "\n",
    "# Calculate mean and variance for uniform distribution\n",
    "uniform_mean = (lower_bound + upper_bound) / 2\n",
    "uniform_std = (upper_bound - lower_bound) / np.sqrt(12)\n",
    "print(f\"Uniform mean: {uniform_mean:.0f}\")\n",
    "print(f\"Uniform standard deviation: {uniform_std:.2f}\")\n",
    "\n",
    "# Plot the uniform PDF\n",
    "x = np.linspace(lower_bound - 500, upper_bound + 500, 1000)\n",
    "y = uniform.pdf(x, loc=lower_bound, scale=upper_bound-lower_bound)\n",
    "\n",
    "plt.figure(figsize=(10, 6))\n",
    "plt.plot(x, y, 'g-', linewidth=2)\n",
    "plt.axvline(x=optimal_q_uniform, color='r', linestyle='--', label=f'Optimal order quantity: {optimal_q_uniform:.0f}')\n",
    "plt.axvline(x=uniform_mean, color='b', linestyle=':', label=f'Mean demand: {uniform_mean:.0f}')\n",
    "\n",
    "# Fill areas to show overage and underage regions\n",
    "plt.fill_between(x, y, where=(x <= optimal_q_uniform), alpha=0.3, color='green', label='No stockout')\n",
    "plt.fill_between(x, y, where=(x > optimal_q_uniform), alpha=0.3, color='red', label='Stockout')\n",
    "\n",
    "plt.xlabel('Demand')\n",
    "plt.ylabel('Probability Density')\n",
    "plt.title('Uniform Demand Distribution')\n",
    "plt.grid(True, alpha=0.3)\n",
    "plt.legend()\n",
    "plt.show()"
   ]
  },
  {
   "cell_type": "markdown",
   "metadata": {},
   "source": [
    "## Exercise 4(b): Poisson Distribution"
   ]
  },
  {
   "cell_type": "code",
   "execution_count": null,
   "metadata": {},
   "source": [
    "# Poisson distribution parameter\n",
    "lambda_param = 6000\n",
    "\n",
    "# Calculate optimal order quantity using the library function\n",
    "optimal_q_poisson = newsvendor_poisson(lambda_param, critical_ratio)\n",
    "print(f\"Order quantity with Poisson demand: {optimal_q_poisson:.0f} units\")\n",
    "\n",
    "# Calculate mean and variance for Poisson distribution\n",
    "poisson_mean = lambda_param\n",
    "poisson_std = np.sqrt(lambda_param)\n",
    "print(f\"Poisson mean: {poisson_mean:.0f}\")\n",
    "print(f\"Poisson standard deviation: {poisson_std:.2f}\")\n",
    "\n",
    "# Plot the Poisson PMF\n",
    "# For Poisson with large lambda, we can approximate the range\n",
    "x_range = np.arange(lambda_param - 4*poisson_std, lambda_param + 4*poisson_std, 10)\n",
    "pmf_values = poisson.pmf(x_range, lambda_param)\n",
    "\n",
    "plt.figure(figsize=(10, 6))\n",
    "plt.vlines(x_range, 0, pmf_values, colors='b', lw=2, alpha=0.7)\n",
    "plt.axvline(x=optimal_q_poisson, color='r', linestyle='--', label=f'Optimal order quantity: {optimal_q_poisson:.0f}')\n",
    "plt.axvline(x=poisson_mean, color='b', linestyle=':', label=f'Mean demand: {poisson_mean:.0f}')\n",
    "\n",
    "# Mark stockout and no stockout regions\n",
    "for i, x in enumerate(x_range):\n",
    "    if x <= optimal_q_poisson:\n",
    "        plt.vlines(x, 0, pmf_values[i], colors='g', lw=2, alpha=0.5)\n",
    "    else:\n",
    "        plt.vlines(x, 0, pmf_values[i], colors='r', lw=2, alpha=0.5)\n",
    "\n",
    "plt.xlabel('Demand')\n",
    "plt.ylabel('Probability Mass')\n",
    "plt.title('Poisson Demand Distribution')\n",
    "plt.grid(True, alpha=0.3)\n",
    "plt.legend()\n",
    "plt.show()"
   ]
  },
  {
   "cell_type": "markdown",
   "metadata": {},
   "source": [
    "## Exercise 4(c): Gamma Distribution"
   ]
  },
  {
   "cell_type": "code",
   "execution_count": null,
   "metadata": {},
   "source": [
    "# Gamma distribution parameters\n",
    "gamma_mean = 6000\n",
    "gamma_std = uniform_std  # Using same std as uniform for comparison\n",
    "\n",
    "# Calculate optimal order quantity using the library function\n",
    "optimal_q_gamma = newsvendor_gamma(gamma_mean, gamma_std, critical_ratio)\n",
    "print(f\"Order quantity with Gamma demand: {optimal_q_gamma:.0f} units\")\n",
    "\n",
    "# Calculate shape and scale parameters for gamma distribution\n",
    "gamma_var = gamma_std**2\n",
    "gamma_shape = gamma_mean**2 / gamma_var\n",
    "gamma_scale = gamma_var / gamma_mean\n",
    "print(f\"Gamma shape parameter (α): {gamma_shape:.2f}\")\n",
    "print(f\"Gamma scale parameter (β): {gamma_scale:.2f}\")\n",
    "\n",
    "# Plot the gamma PDF\n",
    "x = np.linspace(gamma.ppf(0.001, gamma_shape, scale=gamma_scale),\n",
    "                gamma.ppf(0.999, gamma_shape, scale=gamma_scale), 1000)\n",
    "y = gamma.pdf(x, gamma_shape, scale=gamma_scale)\n",
    "\n",
    "plt.figure(figsize=(10, 6))\n",
    "plt.plot(x, y, 'r-', linewidth=2)\n",
    "plt.axvline(x=optimal_q_gamma, color='r', linestyle='--', label=f'Optimal order quantity: {optimal_q_gamma:.0f}')\n",
    "plt.axvline(x=gamma_mean, color='b', linestyle=':', label=f'Mean demand: {gamma_mean:.0f}')\n",
    "\n",
    "# Fill areas to show overage and underage regions\n",
    "plt.fill_between(x, y, where=(x <= optimal_q_gamma), alpha=0.3, color='green', label='No stockout')\n",
    "plt.fill_between(x, y, where=(x > optimal_q_gamma), alpha=0.3, color='red', label='Stockout')\n",
    "\n",
    "plt.xlabel('Demand')\n",
    "plt.ylabel('Probability Density')\n",
    "plt.title('Gamma Demand Distribution')\n",
    "plt.grid(True, alpha=0.3)\n",
    "plt.legend()\n",
    "plt.show()"
   ]
  },
  {
   "cell_type": "markdown",
   "metadata": {},
   "source": [
    "## Comparing Distributions"
   ]
  },
  {
   "cell_type": "code",
   "execution_count": null,
   "metadata": {},
   "source": [
    "# Create plot for all three distributions\n",
    "fig, axs = plt.subplots(3, 1, figsize=(10, 12))\n",
    "\n",
    "# (a) Uniform distribution\n",
    "x_uni = np.linspace(lower_bound - 500, upper_bound + 500, 1000)\n",
    "pdf_uni = uniform.pdf(x_uni, loc=lower_bound, scale=upper_bound-lower_bound)\n",
    "axs[0].plot(x_uni, pdf_uni, 'g-', label='Uniform PDF')\n",
    "axs[0].axvline(x=optimal_q_uniform, color='r', linestyle='--', label=f'Order quantity: {optimal_q_uniform:.0f}')\n",
    "axs[0].axvline(x=uniform_mean, color='b', linestyle=':', label='Mean demand')\n",
    "axs[0].set_title(f'Uniform Distribution ({lower_bound}-{upper_bound})')\n",
    "axs[0].set_xlabel('Demand')\n",
    "axs[0].set_ylabel('Probability Density')\n",
    "axs[0].legend()\n",
    "axs[0].grid(True, alpha=0.3)\n",
    "\n",
    "# (b) Poisson distribution\n",
    "x_poisson = np.arange(poisson.ppf(0.001, lambda_param), poisson.ppf(0.999, lambda_param), 10)\n",
    "poisson_pmf = poisson.pmf(x_poisson, lambda_param)\n",
    "axs[1].vlines(x_poisson, 0, poisson_pmf, colors='b', lw=2, alpha=0.7, label='Poisson PMF')\n",
    "axs[1].axvline(x=optimal_q_poisson, color='r', linestyle='--', label=f'Order quantity: {optimal_q_poisson:.0f}')\n",
    "axs[1].axvline(x=poisson_mean, color='b', linestyle=':', label='Mean demand')\n",
    "axs[1].set_title(f'Poisson Distribution (λ = {lambda_param})')\n",
    "axs[1].set_xlabel('Demand')\n",
    "axs[1].set_ylabel('Probability Mass')\n",
    "axs[1].legend()\n",
    "axs[1].grid(True, alpha=0.3)\n",
    "\n",
    "# (c) Gamma distribution\n",
    "x_gamma = np.linspace(gamma.ppf(0.001, gamma_shape, scale=gamma_scale),\n",
    "                      gamma.ppf(0.999, gamma_shape, scale=gamma_scale), 1000)\n",
    "gamma_pdf = gamma.pdf(x_gamma, gamma_shape, scale=gamma_scale)\n",
    "axs[2].plot(x_gamma, gamma_pdf, 'r-', label='Gamma PDF')\n",
    "axs[2].axvline(x=optimal_q_gamma, color='r', linestyle='--', label=f'Order quantity: {optimal_q_gamma:.0f}')\n",
    "axs[2].axvline(x=gamma_mean, color='b', linestyle=':', label='Mean demand')\n",
    "axs[2].set_title(f'Gamma Distribution (α = {gamma_shape:.2f}, β = {gamma_scale:.2f})')\n",
    "axs[2].set_xlabel('Demand')\n",
    "axs[2].set_ylabel('Probability Density')\n",
    "axs[2].legend()\n",
    "axs[2].grid(True, alpha=0.3)\n",
    "\n",
    "plt.tight_layout()\n",
    "plt.suptitle(f'Effect of Demand Distribution on Order Quantity (CR = {critical_ratio})', fontsize=16, y=1.02)\n",
    "plt.show()"
   ]
  },
  {
   "cell_type": "markdown",
   "metadata": {},
   "source": [
    "## Comparison of Mean Demand and Optimal Order Quantity"
   ]
  },
  {
   "cell_type": "code",
   "execution_count": null,
   "metadata": {},
   "source": [
    "# Calculate means and order quantities for comparison\n",
    "means = [uniform_mean, poisson_mean, gamma_mean]\n",
    "order_quantities = [optimal_q_uniform, optimal_q_poisson, optimal_q_gamma]\n",
    "\n",
    "# Calculate differences between order quantity and mean\n",
    "differences = [order_quantities[i] - means[i] for i in range(3)]\n",
    "\n",
    "# Create grouped bar chart\n",
    "bar_width = 0.35\n",
    "index = np.arange(3)\n",
    "\n",
    "plt.figure(figsize=(12, 7))\n",
    "plt.bar(index - bar_width/2, means, bar_width, label='Mean Demand', color='blue', alpha=0.6)\n",
    "plt.bar(index + bar_width/2, order_quantities, bar_width, label='Optimal Order Quantity', color='red', alpha=0.6)\n",
    "\n",
    "# Add labels\n",
    "plt.xlabel('Demand Distribution', fontsize=12)\n",
    "plt.ylabel('Units', fontsize=12)\n",
    "plt.title('Comparison of Mean Demand and Optimal Order Quantity Across Distributions', fontsize=14)\n",
    "plt.xticks(index, ('Uniform', 'Poisson', 'Gamma'), fontsize=12)\n",
    "plt.yticks(fontsize=10)\n",
    "\n",
    "# Add text labels for differences\n",
    "for i, diff in enumerate(differences):\n",
    "    plt.text(index[i] + bar_width/2, order_quantities[i] + 100, \n",
    "             f\"+{diff:.0f}\", \n",
    "             ha='center', va='bottom',\n",
    "             color='black', fontsize=10, fontweight='bold')\n",
    "\n",
    "# Add exact values on top of bars\n",
    "for i, v in enumerate(means):\n",
    "    plt.text(index[i] - bar_width/2, v + 100, f\"{v:.0f}\", ha='center', va='bottom', fontsize=10)\n",
    "for i, v in enumerate(order_quantities):\n",
    "    plt.text(index[i] + bar_width/2, v + 100, f\"{v:.0f}\", ha='center', va='bottom', fontsize=10)\n",
    "\n",
    "plt.legend(fontsize=12)\n",
    "plt.grid(True, alpha=0.3)\n",
    "plt.tight_layout()\n",
    "plt.show()"
   ]
  },
  {
   "cell_type": "markdown",
   "metadata": {},
   "source": [
    "## Analysis of Results\n",
    "\n",
    "We can see that different demand distributions lead to different optimal order quantities, even when they have similar means and the critical ratio is the same:\n",
    "\n",
    "1. **Uniform Distribution**: The optimal order quantity is exactly at the critical ratio point in the distribution, which is expected due to the uniform nature of the distribution.\n",
    "\n",
    "2. **Poisson Distribution**: The optimal order quantity is above the mean, accounting for the discrete nature of the Poisson distribution and its skewness.\n",
    "\n",
    "3. **Gamma Distribution**: The optimal order quantity is also above the mean, reflecting the right-skewed nature of the gamma distribution.\n",
    "\n",
    "This demonstrates that the shape of the demand distribution has a significant effect on the optimal inventory policy, and simply using the mean demand without considering the distribution can lead to suboptimal decisions."
   ]
  }
 ],
 "metadata": {
  "kernelspec": {
   "display_name": "Python 3",
   "language": "python",
   "name": "python3"
  },
  "language_info": {
   "codemirror_mode": {
    "name": "ipython",
    "version": 3
   },
   "file_extension": ".py",
   "mimetype": "text/x-python",
   "name": "python",
   "nbconvert_exporter": "python",
   "pygments_lexer": "ipython3",
   "version": "3.8.10"
  }
 },
 "nbformat": 4,
 "nbformat_minor": 4
}