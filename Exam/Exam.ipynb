{
 "cells": [
  {
   "cell_type": "markdown",
   "metadata": {},
   "source": [
    "# Inventory Management\n",
    "## Question 1"
   ]
  },
  {
   "cell_type": "markdown",
   "metadata": {},
   "source": [
    "**a)** Explain the cost trade-off that is solved by lot-sizing models. (3 points)"
   ]
  },
  {
   "cell_type": "markdown",
   "metadata": {},
   "source": []
  },
  {
   "cell_type": "markdown",
   "metadata": {},
   "source": [
    "**b)** Consider the general newsvendor problem. How does a change in variance affect the optimal order quantity? (4 points)"
   ]
  },
  {
   "cell_type": "markdown",
   "metadata": {},
   "source": []
  },
  {
   "cell_type": "markdown",
   "metadata": {},
   "source": [
    "The Weighty trash Bag Company has fairly constant demand level of 600 units per year. The accounting department estimates that the fixed cost of placing an order is €8. Holding costs are based on a 20 percent annual interest rate. The supplier charges €0.30 per bag for orders of less than 500 bags and €0.29 per bag for orders of 500 bags or more."
   ]
  },
  {
   "cell_type": "markdown",
   "metadata": {},
   "source": [
    "**c)** Determine the optimal order quantity for the company under this price schedule. (5 points)"
   ]
  },
  {
   "cell_type": "code",
   "execution_count": 37,
   "metadata": {},
   "outputs": [
    {
     "name": "stdout",
     "output_type": "stream",
     "text": [
      "Unit price: €0.30, Order quantity: 400.00, Total cost: €204.00\n",
      "Unit price: €0.29, Order quantity: 500.00, Total cost: €198.10\n",
      "\n",
      "✅ Optimal solution:\n",
      "Order 500.00 units per order at €0.29 per unit.\n"
     ]
    }
   ],
   "source": [
    "import math\n",
    "\n",
    "# Given data\n",
    "D = 600  # annual demand\n",
    "S = 8  # fixed ordering cost\n",
    "i = 0.20  # holding cost rate\n",
    "price_levels = [(0.30, 0, 499), (0.29, 500, float(\"inf\"))]  # (unit cost, min Q, max Q)\n",
    "\n",
    "# Store results\n",
    "results = []\n",
    "\n",
    "for price, q_min, q_max in price_levels:\n",
    "    h = i * price\n",
    "    Q = math.sqrt((2 * D * S) / h)\n",
    "\n",
    "    # Adjust EOQ to meet min quantity condition for price break\n",
    "    if Q < q_min:\n",
    "        Q = q_min\n",
    "    elif Q > q_max:\n",
    "        Q = q_max\n",
    "\n",
    "    # Calculate total annual cost\n",
    "    purchase_cost = D * price\n",
    "    ordering_cost = S * (D / Q)\n",
    "    holding_cost = h * (Q / 2)\n",
    "    total_cost = purchase_cost + ordering_cost + holding_cost\n",
    "\n",
    "    results.append({\"unit_price\": price, \"order_quantity\": Q, \"total_cost\": total_cost})\n",
    "\n",
    "# Find optimal solution\n",
    "optimal = min(results, key=lambda x: x[\"total_cost\"])\n",
    "\n",
    "# Display results\n",
    "for r in results:\n",
    "    print(\n",
    "        f\"Unit price: €{r['unit_price']:.2f}, Order quantity: {r['order_quantity']:.2f}, Total cost: €{r['total_cost']:.2f}\"\n",
    "    )\n",
    "\n",
    "print(\"\\n✅ Optimal solution:\")\n",
    "print(\n",
    "    f\"Order {optimal['order_quantity']:.2f} units per order at €{optimal['unit_price']:.2f} per unit.\"\n",
    ")"
   ]
  },
  {
   "cell_type": "markdown",
   "metadata": {},
   "source": [
    "The Weighty trash Bag Company has fairly constant demand level of 600 units per year.\n",
    "The accounting department estimates that the fixed cost of placing an order is €8. Holding\n",
    "costs are based on a 20 percent annual interest rate. The supplier charges €0.30 per bag\n",
    "for orders of less than 500 bags and €0.29 per bag for orders of 500 bags or more."
   ]
  },
  {
   "cell_type": "markdown",
   "metadata": {},
   "source": [
    "**d)** Using the convexity of the cost function in Q, compute the optimal order quantity. (4 points)"
   ]
  },
  {
   "cell_type": "code",
   "execution_count": 38,
   "metadata": {},
   "outputs": [
    {
     "name": "stdout",
     "output_type": "stream",
     "text": [
      "EOQ without constraints: 400.00 units\n",
      "Candidate multiples of 250: [(250, 206.7), (500, 204.6)]\n",
      "\n",
      "✅ Optimal order quantity: 500 units with total cost €204.60\n"
     ]
    }
   ],
   "source": [
    "import math\n",
    "\n",
    "# Given data\n",
    "D = 600\n",
    "S = 8\n",
    "i = 0.20\n",
    "c = 0.30\n",
    "h = i * c\n",
    "box_size = 250\n",
    "\n",
    "# Step 1: Compute EOQ without constraints\n",
    "Q_eoq = math.sqrt((2 * D * S) / h)\n",
    "\n",
    "# Step 2: Find multiples of 250 around EOQ\n",
    "lower_multiple = box_size * math.floor(Q_eoq / box_size)\n",
    "upper_multiple = box_size * math.ceil(Q_eoq / box_size)\n",
    "\n",
    "\n",
    "# Function to calculate total cost\n",
    "def total_cost(Q):\n",
    "    purchase = D * c\n",
    "    ordering = S * (D / Q)\n",
    "    holding = h * (Q / 2)\n",
    "    return purchase + ordering + holding\n",
    "\n",
    "\n",
    "# Step 3: Evaluate total cost for both multiples\n",
    "candidates = [lower_multiple, upper_multiple]\n",
    "results = []\n",
    "\n",
    "for Q in candidates:\n",
    "    cost = total_cost(Q)\n",
    "    results.append((Q, cost))\n",
    "\n",
    "# Step 4: Choose optimal order quantity\n",
    "optimal_order = min(results, key=lambda x: x[1])\n",
    "\n",
    "print(f\"EOQ without constraints: {Q_eoq:.2f} units\")\n",
    "print(f\"Candidate multiples of {box_size}: {results}\")\n",
    "print(\n",
    "    f\"\\n✅ Optimal order quantity: {optimal_order[0]} units with total cost €{optimal_order[1]:.2f}\"\n",
    ")"
   ]
  },
  {
   "cell_type": "markdown",
   "metadata": {},
   "source": [
    "**e)** Assume that we use the order quantity calculated in part d) and there is a lead time of 2 months. What should be the reorder point to ensure that there are no stockouts? (4 points)"
   ]
  },
  {
   "cell_type": "code",
   "execution_count": 39,
   "metadata": {},
   "outputs": [
    {
     "name": "stdout",
     "output_type": "stream",
     "text": [
      "Reorder Point (ROP) to avoid stockouts: 100.00 units\n"
     ]
    }
   ],
   "source": [
    "# Given data\n",
    "D = 600  # annual demand units\n",
    "lead_time_months = 2\n",
    "\n",
    "# Calculate monthly demand\n",
    "monthly_demand = D / 12\n",
    "\n",
    "# Calculate reorder point\n",
    "ROP = monthly_demand * lead_time_months\n",
    "\n",
    "print(f\"Reorder Point (ROP) to avoid stockouts: {ROP:.2f} units\")"
   ]
  },
  {
   "cell_type": "markdown",
   "metadata": {},
   "source": [
    "Consider two newsvendors A and B. Their demands are assumed to be normally\n",
    "distributed. The two newsvendors calculated the respective means as 𝜇A= 80, 𝜇B= 60\n",
    "and standard deviations 𝜎A = 𝜎B = 20. The demand of newsvendors A and B is negatively\n",
    "correlated with coefficient -0.5. The sales price is 100 €, the procurement price is 30 €\n",
    "and leftover inventory is discarded at no cost."
   ]
  },
  {
   "cell_type": "markdown",
   "metadata": {},
   "source": [
    "**f)** Determine the individual optimal order quantities and the related profits if newsvendors procure independently. (6 points)"
   ]
  },
  {
   "cell_type": "code",
   "execution_count": 40,
   "metadata": {},
   "outputs": [
    {
     "name": "stdout",
     "output_type": "stream",
     "text": [
      "Normal distribution example:\n",
      "Label                         : ExA\n",
      "Distribution                  : Normal\n",
      "Critical ratio (CR)                               : 0.70\n",
      "z                                                 : 0.52\n",
      "phi(z)                                            : 0.35\n",
      "Phi(z)                                            : 0.70\n",
      "G(z)                                              : 0.19\n",
      "Order Quantity                                    : 90.49\n",
      "Expected Lost Sales                               : 3.81\n",
      "Expected Sales                                    : 76.19\n",
      "Expected Leftover Inventory                       : 14.30\n",
      "Expected Profit                                   : 4904.61\n",
      "Non-stockout Probability (alpha)                  : 0.70\n",
      "Fill Rate (beta)                                  : 0.95\n",
      "\n",
      "Poisson distribution example:\n",
      "Label                         : ExB\n",
      "Distribution                  : Poisson\n",
      "Critical ratio (CR)                               : 0.60\n",
      "Order Quantity                : 3\n",
      "Expected Lost Sales                               : 0.67\n",
      "Expected Sales                                    : 2.33\n",
      "Expected Leftover Inventory                       : 0.67\n",
      "Expected Profit                                   : 11.28\n",
      "Non-stockout Probability (alpha)                  : 0.65\n",
      "Fill Rate (beta)                                  : 0.78\n",
      "\n",
      "Gamma distribution example:\n",
      "Label                         : ExC\n",
      "Distribution                  : Gamma\n",
      "Critical ratio (CR)                               : 0.60\n",
      "Shape (alpha)                                     : 3.00\n",
      "Scale (theta)                                     : 1.00\n",
      "Order Quantity                                    : 3.11\n",
      "Expected Lost Sales                               : 1.87\n",
      "Expected Sales                                    : 2.37\n",
      "Expected Leftover Inventory                       : 0.73\n",
      "Expected Profit                                   : 11.29\n",
      "Non-stockout Probability (alpha)                  : 0.60\n",
      "Fill Rate (beta)                                  : 0.79\n"
     ]
    }
   ],
   "source": [
    "import numpy as np\n",
    "from scipy.stats import norm, poisson, gamma\n",
    "from scipy.integrate import quad\n",
    "\n",
    "\n",
    "def newsvendor(label, distr, params, p, c, g=0):\n",
    "    \"\"\"\n",
    "    Generalized newsvendor solution for different demand distributions.\n",
    "\n",
    "    distr: string, one of ['normal', 'poisson', 'gamma']\n",
    "    params: dict, parameters of the distribution\n",
    "        - normal: {'mu':..., 'sigma':...}\n",
    "        - poisson: {'lambda': ...}\n",
    "        - gamma: {'mu':..., 'sigma':...}\n",
    "    p, c, g: prices (selling, cost, salvage)\n",
    "\n",
    "    Returns dict with order quantity, expected sales, profit, etc.\n",
    "    \"\"\"\n",
    "\n",
    "    CR = (p - c) / (p - g)\n",
    "\n",
    "    if distr == \"normal\":\n",
    "        mu = params[\"mu\"]\n",
    "        sigma = params[\"sigma\"]\n",
    "        z = norm.ppf(CR)\n",
    "        Q = mu + z * sigma\n",
    "\n",
    "        phi_z = norm.pdf(z)\n",
    "        Phi_z = norm.cdf(z)\n",
    "        G_z = phi_z - z * (1 - Phi_z)\n",
    "        expected_lost_sales = sigma * G_z\n",
    "        expected_sales = mu - expected_lost_sales\n",
    "        expected_leftover_inventory = Q - expected_sales\n",
    "        expected_profit = -c * Q + p * expected_sales + g * expected_leftover_inventory\n",
    "        non_stockout_prob = Phi_z\n",
    "        fill_rate = expected_sales / mu\n",
    "\n",
    "        return {\n",
    "            \"Label\": label,\n",
    "            \"Distribution\": \"Normal\",\n",
    "            \"Critical ratio (CR)\": CR,\n",
    "            \"z\": z,\n",
    "            \"phi(z)\": phi_z,\n",
    "            \"Phi(z)\": Phi_z,\n",
    "            \"G(z)\": G_z,\n",
    "            \"Order Quantity\": Q,\n",
    "            \"Expected Lost Sales\": expected_lost_sales,\n",
    "            \"Expected Sales\": expected_sales,\n",
    "            \"Expected Leftover Inventory\": expected_leftover_inventory,\n",
    "            \"Expected Profit\": expected_profit,\n",
    "            \"Non-stockout Probability (alpha)\": non_stockout_prob,\n",
    "            \"Fill Rate (beta)\": fill_rate,\n",
    "        }\n",
    "\n",
    "    elif distr == \"poisson\":\n",
    "        lam = params[\"lambda\"]\n",
    "        Q = 0\n",
    "        while poisson.cdf(Q, lam) < CR:\n",
    "            Q += 1\n",
    "\n",
    "        # Expected lost sales = sum_{k=Q+1}^∞ (k - Q)*P(D=k)\n",
    "        # We'll approximate with upper bound Q+1000\n",
    "        max_k = Q + 1000\n",
    "        expected_lost_sales = sum(\n",
    "            (k - Q) * poisson.pmf(k, lam) for k in range(Q + 1, max_k + 1)\n",
    "        )\n",
    "        expected_sales = lam - expected_lost_sales\n",
    "        expected_leftover_inventory = Q - expected_sales\n",
    "        expected_profit = -c * Q + p * expected_sales + g * expected_leftover_inventory\n",
    "        non_stockout_prob = poisson.cdf(Q, lam)\n",
    "        fill_rate = expected_sales / lam\n",
    "\n",
    "        return {\n",
    "            \"Label\": label,\n",
    "            \"Distribution\": \"Poisson\",\n",
    "            \"Critical ratio (CR)\": CR,\n",
    "            \"Order Quantity\": Q,\n",
    "            \"Expected Lost Sales\": expected_lost_sales,\n",
    "            \"Expected Sales\": expected_sales,\n",
    "            \"Expected Leftover Inventory\": expected_leftover_inventory,\n",
    "            \"Expected Profit\": expected_profit,\n",
    "            \"Non-stockout Probability (alpha)\": non_stockout_prob,\n",
    "            \"Fill Rate (beta)\": fill_rate,\n",
    "        }\n",
    "\n",
    "    elif distr == \"gamma\":\n",
    "        mu = params[\"mu\"]\n",
    "        sigma = params[\"sigma\"]\n",
    "\n",
    "        alpha = (mu**2) / (sigma**2)\n",
    "        theta = (sigma**2) / mu\n",
    "\n",
    "        Q = gamma.ppf(CR, a=alpha, scale=theta)\n",
    "\n",
    "        def integrand(x):\n",
    "            return x * gamma.pdf(x, a=alpha, scale=theta)\n",
    "\n",
    "        integral_val, _ = quad(integrand, 0, Q)\n",
    "        expected_sales = integral_val + Q * (1 - gamma.cdf(Q, a=alpha, scale=theta))\n",
    "        expected_leftover_inventory = Q - expected_sales\n",
    "        expected_lost_sales = mu - integral_val\n",
    "        expected_profit = -c * Q + p * expected_sales + g * expected_leftover_inventory\n",
    "        non_stockout_prob = gamma.cdf(Q, a=alpha, scale=theta)\n",
    "        fill_rate = expected_sales / mu\n",
    "\n",
    "        return {\n",
    "            \"Label\": label,\n",
    "            \"Distribution\": \"Gamma\",\n",
    "            \"Critical ratio (CR)\": CR,\n",
    "            \"Shape (alpha)\": alpha,\n",
    "            \"Scale (theta)\": theta,\n",
    "            \"Order Quantity\": Q,\n",
    "            \"Expected Lost Sales\": expected_lost_sales,\n",
    "            \"Expected Sales\": expected_sales,\n",
    "            \"Expected Leftover Inventory\": expected_leftover_inventory,\n",
    "            \"Expected Profit\": expected_profit,\n",
    "            \"Non-stockout Probability (alpha)\": non_stockout_prob,\n",
    "            \"Fill Rate (beta)\": fill_rate,\n",
    "        }\n",
    "\n",
    "    else:\n",
    "        raise ValueError(\"Unsupported distribution\")\n",
    "\n",
    "\n",
    "# === Example usage ===\n",
    "\n",
    "print(\"Normal distribution example:\")\n",
    "res_norm = newsvendor(\"ExA\", \"normal\", {\"mu\": 80, \"sigma\": 20}, p=100, c=30, g=0)\n",
    "for k, v in res_norm.items():\n",
    "    print(f\"{k:50s}: {v:.2f}\" if isinstance(v, float) else f\"{k:30s}: {v}\")\n",
    "\n",
    "print(\"\\nPoisson distribution example:\")\n",
    "res_pois = newsvendor(\"ExB\", \"poisson\", {\"lambda\": 3}, p=10, c=4, g=0)\n",
    "for k, v in res_pois.items():\n",
    "    print(f\"{k:50s}: {v:.2f}\" if isinstance(v, float) else f\"{k:30s}: {v}\")\n",
    "\n",
    "print(\"\\nGamma distribution example:\")\n",
    "res_gamma = newsvendor(\"ExC\", \"gamma\", {\"mu\": 3, \"sigma\": 1.732}, p=10, c=4, g=0)\n",
    "for k, v in res_gamma.items():\n",
    "    print(f\"{k:50s}: {v:.2f}\" if isinstance(v, float) else f\"{k:30s}: {v}\")"
   ]
  },
  {
   "cell_type": "code",
   "execution_count": 41,
   "metadata": {},
   "outputs": [
    {
     "name": "stdout",
     "output_type": "stream",
     "text": [
      "Label                         : Newsvendor A\n",
      "Distribution                  : Normal\n",
      "Critical ratio (CR)                               : 0.70\n",
      "z                                                 : 0.52\n",
      "phi(z)                                            : 0.35\n",
      "Phi(z)                                            : 0.70\n",
      "G(z)                                              : 0.19\n",
      "Order Quantity                                    : 90.49\n",
      "Expected Lost Sales                               : 3.81\n",
      "Expected Sales                                    : 76.19\n",
      "Expected Leftover Inventory                       : 14.30\n",
      "Expected Profit                                   : 4904.61\n",
      "Non-stockout Probability (alpha)                  : 0.70\n",
      "Fill Rate (beta)                                  : 0.95\n",
      "\n",
      "\n",
      "Label                         : Newsvendor B\n",
      "Distribution                  : Normal\n",
      "Critical ratio (CR)                               : 0.70\n",
      "z                                                 : 0.52\n",
      "phi(z)                                            : 0.35\n",
      "Phi(z)                                            : 0.70\n",
      "G(z)                                              : 0.19\n",
      "Order Quantity                                    : 70.49\n",
      "Expected Lost Sales                               : 3.81\n",
      "Expected Sales                                    : 56.19\n",
      "Expected Leftover Inventory                       : 14.30\n",
      "Expected Profit                                   : 3504.61\n",
      "Non-stockout Probability (alpha)                  : 0.70\n",
      "Fill Rate (beta)                                  : 0.94\n"
     ]
    }
   ],
   "source": [
    "# Given data\n",
    "(\n",
    "    mu_A,\n",
    "    sigma_A,\n",
    ") = (\n",
    "    80,\n",
    "    20,\n",
    ")\n",
    "mu_B, sigma_B = 60, 20\n",
    "p, c, g = 100, 30, 0\n",
    "\n",
    "# Calculate for A and B\n",
    "results_A = newsvendor(\n",
    "    \"Newsvendor A\", \"normal\", {\"mu\": mu_A, \"sigma\": sigma_A}, p=100, c=30, g=0\n",
    ")\n",
    "for k, v in results_A.items():\n",
    "    print(f\"{k:50s}: {v:.2f}\" if isinstance(v, float) else f\"{k:30s}: {v}\")\n",
    "\n",
    "print(\"\\n\")\n",
    "\n",
    "results_B = newsvendor(\n",
    "    \"Newsvendor B\", \"normal\", {\"mu\": mu_B, \"sigma\": sigma_B}, p=100, c=30, g=0\n",
    ")\n",
    "for k, v in results_B.items():\n",
    "    print(f\"{k:50s}: {v:.2f}\" if isinstance(v, float) else f\"{k:30s}: {v}\")"
   ]
  },
  {
   "cell_type": "markdown",
   "metadata": {},
   "source": [
    "**g)** If newsvendors A and B cooperate and give joint orders, what should be the joint\n",
    "order quantity? Without calculating associated (total) profit, explain how it would be\n",
    "affected and why? Name this effect and give a short explanation. (4 points)"
   ]
  },
  {
   "cell_type": "code",
   "execution_count": 42,
   "metadata": {},
   "outputs": [
    {
     "name": "stdout",
     "output_type": "stream",
     "text": [
      "=== Individual Newsvendors ===\n",
      "Newsvendor A Order Quantity: 90.49\n",
      "Newsvendor B Order Quantity: 70.49\n",
      "Sum of Individual Order Quantities: 160.98\n",
      "\n",
      "=== Joint (Pooled) Newsvendor with Correlation ===\n",
      "Joint Demand Mean (mu_joint): 140.00\n",
      "Joint Demand Std Dev (sigma_joint): 20.00\n",
      "Joint Order Quantity: 150.49\n",
      "\n",
      "=== Risk Pooling Effect Explanation ===\n",
      "Negative correlation reduces joint demand variability more than independence.\n",
      "Coefficient of Variation A: 0.2500\n",
      "Coefficient of Variation B: 0.3333\n",
      "Coefficient of Variation Joint: 0.1429\n",
      "\n",
      "Because of the negative correlation, the joint demand uncertainty is even lower,\n",
      "allowing for a smaller safety stock and lower total inventory.\n",
      "This phenomenon is part of the 'risk pooling effect'.\n"
     ]
    }
   ],
   "source": [
    "import numpy as np\n",
    "from scipy.stats import norm\n",
    "\n",
    "# Given data\n",
    "mu_A, sigma_A = 80, 20\n",
    "mu_B, sigma_B = 60, 20\n",
    "rho = -0.5  # correlation coefficient\n",
    "p, c, g = 100, 30, 0  # selling price, cost, salvage\n",
    "\n",
    "# Critical ratio and z-score\n",
    "CR = (p - c) / (p - g)\n",
    "z_CR = norm.ppf(CR)\n",
    "\n",
    "# Individual order quantities\n",
    "Q_A = mu_A + z_CR * sigma_A\n",
    "Q_B = mu_B + z_CR * sigma_B\n",
    "\n",
    "# Joint demand mean\n",
    "mu_joint = mu_A + mu_B\n",
    "\n",
    "# Joint demand std dev with correlation\n",
    "sigma_joint = np.sqrt(sigma_A**2 + sigma_B**2 + 2 * rho * sigma_A * sigma_B)\n",
    "\n",
    "# Joint order quantity\n",
    "Q_joint = mu_joint + z_CR * sigma_joint\n",
    "\n",
    "print(\"=== Individual Newsvendors ===\")\n",
    "print(f\"Newsvendor A Order Quantity: {Q_A:.2f}\")\n",
    "print(f\"Newsvendor B Order Quantity: {Q_B:.2f}\")\n",
    "print(f\"Sum of Individual Order Quantities: {Q_A + Q_B:.2f}\")\n",
    "\n",
    "print(\"\\n=== Joint (Pooled) Newsvendor with Correlation ===\")\n",
    "print(f\"Joint Demand Mean (mu_joint): {mu_joint:.2f}\")\n",
    "print(f\"Joint Demand Std Dev (sigma_joint): {sigma_joint:.2f}\")\n",
    "print(f\"Joint Order Quantity: {Q_joint:.2f}\")\n",
    "\n",
    "print(\"\\n=== Risk Pooling Effect Explanation ===\")\n",
    "print(\"Negative correlation reduces joint demand variability more than independence.\")\n",
    "print(f\"Coefficient of Variation A: {sigma_A/mu_A:.4f}\")\n",
    "print(f\"Coefficient of Variation B: {sigma_B/mu_B:.4f}\")\n",
    "print(f\"Coefficient of Variation Joint: {sigma_joint/mu_joint:.4f}\")\n",
    "print(\n",
    "    \"\\nBecause of the negative correlation, the joint demand uncertainty is even lower,\"\n",
    ")\n",
    "print(\"allowing for a smaller safety stock and lower total inventory.\")\n",
    "print(\"This phenomenon is part of the 'risk pooling effect'.\")"
   ]
  },
  {
   "cell_type": "code",
   "execution_count": null,
   "metadata": {},
   "outputs": [],
   "source": []
  },
  {
   "cell_type": "markdown",
   "metadata": {},
   "source": [
    "# Question 2"
   ]
  },
  {
   "cell_type": "markdown",
   "metadata": {},
   "source": [
    "**a)** Explain (without formulas) the differences between (R, S), (s, Q), and (s, S) inventory control rules. Discuss the parameters s, Q and S and how these parameters\n",
    "should be set? (6 points)"
   ]
  },
  {
   "cell_type": "markdown",
   "metadata": {},
   "source": []
  },
  {
   "cell_type": "markdown",
   "metadata": {},
   "source": [
    "Canadian Wheel Ltd. continuously reviews its inventory and establishes safety stocks\n",
    "to satisfy a certain service level. For a basic item whose demand is normally distributed,\n",
    "an order quantity of 200 units is used. Annual demand for the item is 1000 units and its\n",
    "weekly standard deviation is 50. The supplier of the item ensures a constant Iead time\n",
    "of 4 weeks to Canadian Wheel. The current purchase price of the item from the supplier\n",
    "is €0.80/unit. Receiving and handling costs add €0.20/unit. Annual carrying charge is 20\n",
    "percent and penalty cost of p=€0.50 per unit short applies.\n",
    "\n",
    "The supplier offers to reduce the Iead time to a new constant level of one week, but in\n",
    "so doing she will increase the selling price to Canadian by €0.05/unit. Canadian\n",
    "management is faced with the decision of whether or not to accept the supplier’s offer."
   ]
  },
  {
   "cell_type": "markdown",
   "metadata": {},
   "source": [
    "**b)** Discuss the economic tradeoff between current and new supplier lead time/price. (6 points)"
   ]
  },
  {
   "cell_type": "markdown",
   "metadata": {},
   "source": []
  },
  {
   "cell_type": "markdown",
   "metadata": {},
   "source": [
    "**c)** Determine the expected number of stock-outs per replenishment cycle and calculate\n",
    "the safety stocks required in the present and offered contract if the company aims a\n",
    "cycle fill-rate of 0.94. (5 points)"
   ]
  },
  {
   "cell_type": "code",
   "execution_count": 43,
   "metadata": {},
   "outputs": [
    {
     "name": "stdout",
     "output_type": "stream",
     "text": [
      "=== Part (c): Fill Rate = 0.94 ===\n",
      "Z-score (β = 0.94): 1.5548\n",
      "Safety Stock (current contract, L=4): 155.48 units\n",
      "Safety Stock (new contract, L=1):    77.74 units\n",
      "Expected Stock-Outs per Replenishment Cycle: 12.00 units\n"
     ]
    }
   ],
   "source": [
    "from scipy.stats import norm\n",
    "import math\n",
    "\n",
    "# Inputs\n",
    "sigma_d = 50\n",
    "L_old = 4\n",
    "L_new = 1\n",
    "cycle_fill_rate = 0.94\n",
    "Q = 200\n",
    "\n",
    "# Z-score for fill rate β = 0.94\n",
    "z_beta = norm.ppf(cycle_fill_rate)\n",
    "\n",
    "# Safety stock (constant lead time)\n",
    "ss_old = z_beta * sigma_d * math.sqrt(L_old)\n",
    "ss_new = z_beta * sigma_d * math.sqrt(L_new)\n",
    "\n",
    "# Expected stock-outs per cycle (Q * (1 - fill rate))\n",
    "stockouts_per_cycle = Q * (1 - cycle_fill_rate)\n",
    "\n",
    "# Output\n",
    "print(\"=== Part (c): Fill Rate = 0.94 ===\")\n",
    "print(f\"Z-score (β = 0.94): {z_beta:.4f}\")\n",
    "print(f\"Safety Stock (current contract, L=4): {ss_old:.2f} units\")\n",
    "print(f\"Safety Stock (new contract, L=1):    {ss_new:.2f} units\")\n",
    "print(f\"Expected Stock-Outs per Replenishment Cycle: {stockouts_per_cycle:.2f} units\")"
   ]
  },
  {
   "cell_type": "markdown",
   "metadata": {},
   "source": [
    "**d)** Do the same as c) for α-service level of 0.90. (4 points)"
   ]
  },
  {
   "cell_type": "code",
   "execution_count": 44,
   "metadata": {},
   "outputs": [
    {
     "name": "stdout",
     "output_type": "stream",
     "text": [
      "=== Part (d): α-Service Level = 0.90 ===\n",
      "Z-score (α = 0.90): 1.2816\n",
      "Safety Stock (current contract, L=4): 128.16 units\n",
      "Safety Stock (new contract, L=1):    64.08 units\n",
      "Expected Stockouts per Cycle:        20.00 units\n"
     ]
    }
   ],
   "source": [
    "# Inputs\n",
    "sigma_d = 50\n",
    "L_old = 4\n",
    "L_new = 1\n",
    "alpha_service_level = 0.90\n",
    "\n",
    "# Z-score for α-service level = 0.90\n",
    "z_alpha = norm.ppf(alpha_service_level)\n",
    "\n",
    "# Safety stock (constant lead time)\n",
    "ss_old_alpha = z_alpha * sigma_d * math.sqrt(L_old)\n",
    "ss_new_alpha = z_alpha * sigma_d * math.sqrt(L_new)\n",
    "\n",
    "# Expected stockouts per cycle\n",
    "Q = 200  # order quantity remains the same\n",
    "expected_stockout_alpha = (1 - alpha_service_level) * Q\n",
    "\n",
    "print(\"=== Part (d): α-Service Level = 0.90 ===\")\n",
    "print(f\"Z-score (α = 0.90): {z_alpha:.4f}\")\n",
    "print(f\"Safety Stock (current contract, L=4): {ss_old_alpha:.2f} units\")\n",
    "print(f\"Safety Stock (new contract, L=1):    {ss_new_alpha:.2f} units\")\n",
    "print(f\"Expected Stockouts per Cycle:        {expected_stockout_alpha:.2f} units\")"
   ]
  },
  {
   "cell_type": "markdown",
   "metadata": {},
   "source": [
    "**e)** What should be the decision of whether or not to accept the supplier’s offer\n",
    "considering the annual cost of each contract for the case that the company aims a\n",
    "cycle fill-rate of 0.94? (9 points)"
   ]
  },
  {
   "cell_type": "code",
   "execution_count": 45,
   "metadata": {},
   "outputs": [
    {
     "name": "stdout",
     "output_type": "stream",
     "text": [
      "Safety stock (old): 155.48 units\n",
      "Safety stock (new): 77.74 units\n",
      "Annual cost (old contract): €1070.88\n",
      "Annual cost (new contract): €1110.22\n",
      "Decision: Keep the current supplier contract.\n"
     ]
    }
   ],
   "source": [
    "from scipy.stats import norm\n",
    "import math\n",
    "\n",
    "# Constants\n",
    "D = 1000\n",
    "Q = 200\n",
    "sigma_week = 50\n",
    "weeks_per_year = 52\n",
    "p_old = 0.80\n",
    "p_new = 0.85\n",
    "handling_cost = 0.20\n",
    "carrying_rate = 0.20\n",
    "penalty_cost = 0.50\n",
    "service_level = 0.94\n",
    "\n",
    "# Lead times (weeks)\n",
    "L_old = 4\n",
    "L_new = 1\n",
    "\n",
    "# Std dev demand over lead time\n",
    "sigma_L_old = sigma_week * math.sqrt(L_old)\n",
    "sigma_L_new = sigma_week * math.sqrt(L_new)\n",
    "\n",
    "# Z value for cycle fill rate = 0.94\n",
    "z = norm.ppf(service_level)\n",
    "\n",
    "# Safety stock calculation\n",
    "ss_old = z * sigma_L_old\n",
    "ss_new = z * sigma_L_new\n",
    "\n",
    "# Number of cycles per year\n",
    "cycles = D / Q\n",
    "\n",
    "# Expected stockouts per cycle from formula: Expected lost sales per cycle\n",
    "# ≈ (1 - cycle fill rate) * Q (approximation)\n",
    "expected_stockouts = (1 - service_level) * Q\n",
    "\n",
    "\n",
    "# Calculate annual costs\n",
    "def annual_cost(purchase_price):\n",
    "    purchase = D * purchase_price\n",
    "    handling = D * handling_cost\n",
    "    holding = (\n",
    "        carrying_rate * purchase_price * (Q / 2 + ss_old)\n",
    "    )  # We'll calculate holding cost twice, once for old and once for new, so parameterize ss.\n",
    "    penalty = expected_stockouts * penalty_cost * cycles\n",
    "    return purchase + handling + holding + penalty\n",
    "\n",
    "\n",
    "# Old contract cost\n",
    "holding_old = carrying_rate * p_old * (Q / 2 + ss_old)\n",
    "annual_cost_old = (\n",
    "    D * p_old\n",
    "    + D * handling_cost\n",
    "    + holding_old\n",
    "    + expected_stockouts * penalty_cost * cycles\n",
    ")\n",
    "\n",
    "# New contract cost (recalculate holding cost with new ss and price)\n",
    "holding_new = carrying_rate * p_new * (Q / 2 + ss_new)\n",
    "annual_cost_new = (\n",
    "    D * p_new\n",
    "    + D * handling_cost\n",
    "    + holding_new\n",
    "    + expected_stockouts * penalty_cost * cycles\n",
    ")\n",
    "\n",
    "print(f\"Safety stock (old): {ss_old:.2f} units\")\n",
    "print(f\"Safety stock (new): {ss_new:.2f} units\")\n",
    "print(f\"Annual cost (old contract): €{annual_cost_old:.2f}\")\n",
    "print(f\"Annual cost (new contract): €{annual_cost_new:.2f}\")\n",
    "\n",
    "if annual_cost_new < annual_cost_old:\n",
    "    print(\"Decision: Accept the new supplier offer.\")\n",
    "else:\n",
    "    print(\"Decision: Keep the current supplier contract.\")"
   ]
  },
  {
   "cell_type": "markdown",
   "metadata": {},
   "source": [
    "# Question 3"
   ]
  },
  {
   "cell_type": "markdown",
   "metadata": {},
   "source": [
    "**a)** Explain dedicated capacity, average utilization, and common cycle approaches. (8 points)"
   ]
  },
  {
   "cell_type": "markdown",
   "metadata": {},
   "source": []
  },
  {
   "cell_type": "markdown",
   "metadata": {},
   "source": [
    "Consider two products with constant demand rate of d1 = 300 and d2 = 350 units per\n",
    "period which are stored in a warehouse with a total capacity of 500 units. The\n",
    "products require a1 = 3 and a2 = 1 units of warehouse space. The ordering costs are\n",
    "A1=150€ and A2=111€. Additionally, the products cause holding costs of h1=1.5€ and\n",
    "h2 = 2€ per period"
   ]
  },
  {
   "cell_type": "markdown",
   "metadata": {},
   "source": [
    "**b)** Determine, using the strategy of dedicated space, the optimal order quantities.\n",
    "(Hint: Consider only integer values for the Lagrange multiplier)  (7 points)"
   ]
  },
  {
   "cell_type": "code",
   "execution_count": 46,
   "metadata": {},
   "outputs": [
    {
     "name": "stdout",
     "output_type": "stream",
     "text": [
      "lambda |       Q1 |       Q2 |  Space Used | Feasible |  Total Cost\n",
      "-------------------------------------------------------------------------------------\n",
      "     0 |   244.95 |   197.10 |      931.95 |    False |      761.63\n",
      "     1 |   109.54 |   139.37 |      468.01 |     True |      911.07\n",
      "     2 |    81.65 |   113.80 |      358.75 |     True |     1067.56\n",
      "     3 |    67.94 |    98.55 |      302.36 |     True |     1206.09\n",
      "     4 |    59.41 |    88.15 |      266.37 |     True |     1330.91\n",
      "     5 |    53.45 |    80.47 |      240.82 |     True |     1445.23\n",
      "     6 |    48.99 |    74.50 |      221.47 |     True |     1551.29\n",
      "     7 |    45.49 |    69.69 |      206.14 |     True |     1650.61\n",
      "     8 |    42.64 |    65.70 |      193.62 |     True |     1744.34\n",
      "     9 |    40.27 |    62.33 |      183.14 |     True |     1833.30\n",
      "    10 |    38.25 |    59.43 |      174.19 |     True |     1918.17\n",
      "\n",
      "Optimal solution:\n",
      "lambda = 1\n",
      "Q1 = 109.54\n",
      "Q2 = 139.37\n",
      "Total space used = 468.01\n",
      "Total cost = 911.07\n"
     ]
    }
   ],
   "source": [
    "import numpy as np\n",
    "\n",
    "d1, d2 = 300, 350\n",
    "a1, a2 = 3, 1\n",
    "A1, A2 = 150, 111\n",
    "h1, h2 = 1.5, 2\n",
    "W = 500\n",
    "\n",
    "def compute_Q(lambda_):\n",
    "    Q1 = np.sqrt((2 * A1 * d1) / (h1 + 2 * lambda_ * a1))\n",
    "    Q2 = np.sqrt((2 * A2 * d2) / (h2 + 2 * lambda_ * a2))\n",
    "    return Q1, Q2\n",
    "\n",
    "\n",
    "def total_space(Q1, Q2):\n",
    "    return a1 * Q1 + a2 * Q2\n",
    "\n",
    "\n",
    "def total_cost(Q1, Q2):\n",
    "    cost1 = (A1 * d1) / Q1 + (h1 * Q1) / 2\n",
    "    cost2 = (A2 * d2) / Q2 + (h2 * Q2) / 2\n",
    "    return cost1 + cost2\n",
    "\n",
    "\n",
    "# Search for optimal lambda (integer values 0 to 10)\n",
    "results = []\n",
    "for lam in range(11):\n",
    "    Q1, Q2 = compute_Q(lam)\n",
    "    space_used = total_space(Q1, Q2)\n",
    "    feasible = space_used <= W\n",
    "    cost = total_cost(Q1, Q2)\n",
    "    results.append(\n",
    "        {\n",
    "            \"lambda\": lam,\n",
    "            \"Q1\": Q1,\n",
    "            \"Q2\": Q2,\n",
    "            \"space_used\": space_used,\n",
    "            \"feasible\": feasible,\n",
    "            \"total_cost\": cost,\n",
    "        }\n",
    "    )\n",
    "\n",
    "# Filter feasible solutions and pick the one with minimal total cost\n",
    "feasible_results = [r for r in results if r[\"feasible\"]]\n",
    "optimal = (\n",
    "    min(feasible_results, key=lambda x: x[\"total_cost\"]) if feasible_results else None\n",
    ")\n",
    "\n",
    "# Print results\n",
    "print(\n",
    "    f\"{'lambda':>6} | {'Q1':>8} | {'Q2':>8} | {'Space Used':>11} | {'Feasible':>8} | {'Total Cost':>11}\"\n",
    ")\n",
    "print(\"-\" * 85)\n",
    "for r in results:\n",
    "    print(\n",
    "        f\"{r['lambda']:6d} | {r['Q1']:8.2f} | {r['Q2']:8.2f} | {r['space_used']:11.2f} | {str(r['feasible']):>8} | {r['total_cost']:11.2f}\"\n",
    "    )\n",
    "\n",
    "if optimal:\n",
    "    print(\"\\nOptimal solution:\")\n",
    "    print(f\"lambda = {optimal['lambda']}\")\n",
    "    print(f\"Q1 = {optimal['Q1']:.2f}\")\n",
    "    print(f\"Q2 = {optimal['Q2']:.2f}\")\n",
    "    print(f\"Total space used = {optimal['space_used']:.2f}\")\n",
    "    print(f\"Total cost = {optimal['total_cost']:.2f}\")\n",
    "else:\n",
    "    print(\"No feasible solution found within lambda range.\")"
   ]
  },
  {
   "cell_type": "markdown",
   "metadata": {},
   "source": []
  },
  {
   "cell_type": "markdown",
   "metadata": {},
   "source": [
    "**c)** How much should be paid for increasing warehouse space to 1000 units? (5 points)"
   ]
  },
  {
   "cell_type": "code",
   "execution_count": 47,
   "metadata": {},
   "outputs": [
    {
     "name": "stdout",
     "output_type": "stream",
     "text": [
      "Kosten bei 500 Lagerkapazität:  €911.07 (λ = 1)\n",
      "Kosten bei 1000 Lagerkapazität: €761.63 (λ = 0)\n",
      "\n",
      "Max. Zahlungsbereitschaft für Erweiterung: €149.44\n"
     ]
    }
   ],
   "source": [
    "import numpy as np\n",
    "\n",
    "# Parameters for N products\n",
    "d = np.array([300, 350])       # Demand\n",
    "a = np.array([3, 1])           # Workload per unit\n",
    "A = np.array([150, 111])       # Ordering cost\n",
    "h = np.array([1.5, 2.0])       # Holding cost per unit per period\n",
    "\n",
    "def compute_Q(lambda_):\n",
    "    \"\"\"Compute EOQ Q_i for all products with given lambda.\"\"\"\n",
    "    Q = np.sqrt((2 * A * d) / (h + 2 * lambda_ * a))\n",
    "    return Q\n",
    "\n",
    "def total_space(Q):\n",
    "    \"\"\"Compute total workload space used by Q.\"\"\"\n",
    "    return np.sum(a * Q)\n",
    "\n",
    "def total_cost(Q):\n",
    "    \"\"\"Compute total cost for given Q.\"\"\"\n",
    "    ordering_costs = np.sum((A * d) / Q)\n",
    "    holding_costs = np.sum((h * Q) / 2)\n",
    "    return ordering_costs + holding_costs\n",
    "\n",
    "def find_optimal_cost(W, lambda_range=range(50)):\n",
    "    \"\"\"Search for optimal cost under workload constraint W.\"\"\"\n",
    "    feasible_costs = []\n",
    "    for lam in lambda_range:\n",
    "        Q = compute_Q(lam)\n",
    "        space = total_space(Q)\n",
    "        if space <= W:\n",
    "            cost = total_cost(Q)\n",
    "            feasible_costs.append((lam, cost, Q, space))\n",
    "    if feasible_costs:\n",
    "        lam_star, min_cost, Q_star, used_space = min(feasible_costs, key=lambda x: x[1])\n",
    "        return min_cost, lam_star, Q_star, used_space\n",
    "    else:\n",
    "        return float(\"inf\"), None, None, None\n",
    "\n",
    "# Compare for different warehouse capacities\n",
    "cost_500, lambda_500, Q_500, _ = find_optimal_cost(500)\n",
    "cost_1000, lambda_1000, Q_1000, _ = find_optimal_cost(1000)\n",
    "\n",
    "value_of_expansion = cost_500 - cost_1000\n",
    "\n",
    "print(f\"Kosten bei 500 Lagerkapazität:  €{cost_500:.2f} (λ = {lambda_500})\")\n",
    "print(f\"Kosten bei 1000 Lagerkapazität: €{cost_1000:.2f} (λ = {lambda_1000})\")\n",
    "print(f\"\\nMax. Zahlungsbereitschaft für Erweiterung: €{value_of_expansion:.2f}\")\n"
   ]
  },
  {
   "cell_type": "markdown",
   "metadata": {},
   "source": [
    "**d)** Determine, using the Common-cycle method, the optimal replenishment cycle for\n",
    "all products. (5 points)"
   ]
  },
  {
   "cell_type": "code",
   "execution_count": 48,
   "metadata": {},
   "outputs": [
    {
     "name": "stdout",
     "output_type": "stream",
     "text": [
      "1) Unconstrained cycle time T_unc: 0.674\n",
      "Numerator: 1250\n",
      "a[0]*a[0]*d[0]*d[0] = 810000\n",
      "a[1]*a[0]*d[1]*d[0] = 315000\n",
      "a[1]*a[1]*d[1]*d[1] = 122500\n",
      "Denominator: 1247500\n",
      "2) Constrained cycle time T_cons: 0.501\n",
      "3) Optimal common replenishment cycle T*: 0.501\n"
     ]
    }
   ],
   "source": [
    "import math\n",
    "\n",
    "# Input Data\n",
    "d = [300, 350]           # Demand per period\n",
    "A = [150, 111]           # Ordering cost\n",
    "h = [1.5, 2.0]           # Holding cost per unit per period\n",
    "a = [3, 1]               # Workload per unit\n",
    "W = 500                  # Max workload per period\n",
    "\n",
    "# Step 1: Unconstrained Case\n",
    "sum_A = sum(A)\n",
    "sum_hd = sum(h[i] * d[i] for i in range(len(d)))\n",
    "\n",
    "T_unc = math.sqrt(2 * sum_A / sum_hd)\n",
    "print(f\"1) Unconstrained cycle time T_unc: {T_unc:.3f}\")\n",
    "\n",
    "# Step 2: Constrained Case\n",
    "numerator = sum(a[i] * d[i] for i in range(len(d)))\n",
    "print(f\"Numerator: {numerator}\")\n",
    "\n",
    "denominator = 0\n",
    "for i in range(len(d)):\n",
    "    for j in range(i + 1):  # includes j = i\n",
    "        term = a[i] * a[j] * d[i] * d[j]\n",
    "        denominator += term\n",
    "        print(f\"a[{i}]*a[{j}]*d[{i}]*d[{j}] = {term}\")\n",
    "\n",
    "\n",
    "print(f\"Denominator: {denominator}\")\n",
    "\n",
    "T_cons = W * (numerator / denominator)\n",
    "print(f\"2) Constrained cycle time T_cons: {T_cons:.3f}\")\n",
    "\n",
    "# Step 3: Take the minimum\n",
    "T_star = min(T_unc, T_cons)\n",
    "print(f\"3) Optimal common replenishment cycle T*: {T_star:.3f}\")\n"
   ]
  },
  {
   "cell_type": "markdown",
   "metadata": {},
   "source": [
    "**e)** Use the results in d) to determine how many units of product 1 are in stock when\n",
    "you replenish product 2? (5 points)\n",
    " (5 points)"
   ]
  },
  {
   "cell_type": "code",
   "execution_count": 49,
   "metadata": {},
   "outputs": [
    {
     "name": "stdout",
     "output_type": "stream",
     "text": [
      "Q*[1] (order quantity for product 1): 150.30\n",
      "Q*[2] (order quantity for product 2): 175.35\n",
      "t[1] (replenishment time for product 1): 0.361\n",
      "t[2] (replenishment time for product 2): 0.501\n",
      "4) Inventory of product 1 when product 2 is replenished: 108.22 units\n"
     ]
    }
   ],
   "source": [
    "\n",
    "# Step 4: Calculate Q_i*\n",
    "Q = [d[i] * T_star for i in range(len(d))]\n",
    "for i, q in enumerate(Q):\n",
    "    print(f\"Q*[{i+1}] (order quantity for product {i+1}): {q:.2f}\")\n",
    "\n",
    "# Step 5: Calculate replenishment times t_i\n",
    "cumulative = 0\n",
    "replenishment_times = []\n",
    "for i in range(len(d)):\n",
    "    cumulative += a[i] * d[i]\n",
    "    t_i = (cumulative / numerator) * T_star\n",
    "    replenishment_times.append(t_i)\n",
    "    print(f\"t[{i+1}] (replenishment time for product {i+1}): {t_i:.3f}\")\n",
    "\n",
    "# Step 6: Inventory of product 1 when product 2 is replenished\n",
    "t1 = replenishment_times[0]\n",
    "t2 = replenishment_times[1]\n",
    "Q1 = Q[0]\n",
    "inventory_product1_at_t2 = Q1 * (1 - (t2 - t1) / T_star)\n",
    "print(f\"4) Inventory of product 1 when product 2 is replenished: {inventory_product1_at_t2:.2f} units\")\n"
   ]
  },
  {
   "cell_type": "markdown",
   "metadata": {},
   "source": [
    "# Question 4"
   ]
  },
  {
   "cell_type": "markdown",
   "metadata": {},
   "source": [
    "A company has collected the following sales data over the last ten months for product A and B.\n",
    "\n",
    "| t        | 1  | 2   | 3  | 4  | 5  | 6  | 7   | 8  | 9  | 10 |\n",
    "|----------|----|-----|----|----|----|----|-----|----|----|----|\n",
    "| Product A| 4  | 8   | 0  | 3  | 0  | 0  | 0   | 0  | 4  | 0  |\n",
    "| Product B| 99 | 155 | 75 | 81 | 88 | 150| 101 | 74 | 65 | 48 |\n"
   ]
  },
  {
   "cell_type": "markdown",
   "metadata": {},
   "source": [
    "**a)** Classify products A and B using XYZ analysis. (4 points)"
   ]
  },
  {
   "cell_type": "code",
   "execution_count": 50,
   "metadata": {},
   "outputs": [
    {
     "name": "stdout",
     "output_type": "stream",
     "text": [
      "Product A is classified as: Z\n",
      "Product B is classified as: X\n"
     ]
    }
   ],
   "source": [
    "import numpy as np\n",
    "\n",
    "# Sales data for Product A and B over 10 months\n",
    "sales_A = np.array([4, 8, 0, 3, 0, 0, 0, 0, 4, 0])\n",
    "sales_B = np.array([99, 155, 75, 81, 88, 150, 101, 74, 65, 48])\n",
    "\n",
    "\n",
    "def xyz_classification(sales):\n",
    "    total_sales = np.sum(sales)\n",
    "    if total_sales == 0:\n",
    "        return \"Z\"\n",
    "\n",
    "    # Calculate coefficient of variation (CV)\n",
    "    mean_sales = np.mean(sales)\n",
    "    std_sales = np.std(sales)\n",
    "    cv = std_sales / mean_sales if mean_sales != 0 else float(\"inf\")\n",
    "\n",
    "    # Classify based on CV thresholds\n",
    "    if cv <= 0.5:\n",
    "        return \"X\"  # Very stable demand\n",
    "    elif cv < 1.25:\n",
    "        return \"Y\"  # Moderate variability\n",
    "    else:\n",
    "        return \"Z\"  # High variability, more periods without demand than with demand\n",
    "\n",
    "\n",
    "# Perform XYZ classification for both products\n",
    "classification_A = xyz_classification(sales_A)\n",
    "classification_B = xyz_classification(sales_B)\n",
    "\n",
    "print(f\"Product A is classified as: {classification_A}\")\n",
    "print(f\"Product B is classified as: {classification_B}\")"
   ]
  },
  {
   "cell_type": "markdown",
   "metadata": {},
   "source": [
    "**b)** Explain the meaning of R² in regression. (4 points)"
   ]
  },
  {
   "cell_type": "code",
   "execution_count": null,
   "metadata": {},
   "outputs": [],
   "source": []
  },
  {
   "cell_type": "markdown",
   "metadata": {},
   "source": [
    "**c)** Consider the standard newsvendor model. How does the quality of your forecast influence your order decision? (4 points)"
   ]
  },
  {
   "cell_type": "code",
   "execution_count": null,
   "metadata": {},
   "outputs": [],
   "source": []
  },
  {
   "cell_type": "markdown",
   "metadata": {},
   "source": [
    "Consider a two-stage serial inventory system where the retailer orders from the warehouse. Both parties in the supply chain use an (R, S) inventory control rule. Review period of the retailer is 1 week, and it is immediately supplied by the warehouse with the ordered amount. On the other hand, review period of the warehouse is 0 and it is supplied by an outside supplier after a lead time of 1 week. Demand is normally distributed with unknown level and known standard deviation of 15. The initial guess for the demand level is 50. Both parties are supposed to satisfy an α-service level of 95%.\n",
    "\n",
    "In the following table weekly demand observations of the retailer are given.\n",
    "\n",
    "| Week   | 1  | 2  | 3  | 4  | 5  |\n",
    "|--------|----|----|----|----|----|\n",
    "| Demand | 56 | 40 | 61 | 42 | 51 |"
   ]
  },
  {
   "cell_type": "markdown",
   "metadata": {},
   "source": [
    "**d)** Perform an ex-post forecast for the retailer using exponential smoothing with alpha=0.1 and determine the order-up-to level that would have been optimal given the forecast. Calculate the retailer’s order quantities. (4 points)\n"
   ]
  },
  {
   "cell_type": "code",
   "execution_count": 57,
   "metadata": {},
   "outputs": [
    {
     "name": "stdout",
     "output_type": "stream",
     "text": [
      "Forecasts (mu): [50.6  49.54 50.69 49.82 49.94]\n",
      "Order-up-to levels (S): [75.27 74.21 75.36 74.49 74.61]\n",
      "Rounded order-up-to levels (S_int): [76. 75. 76. 75. 75.]\n",
      "Orders (q): [57 39 62 41 51]\n"
     ]
    }
   ],
   "source": [
    "import numpy as np\n",
    "from scipy.stats import norm\n",
    "\n",
    "demand = np.array([56, 40, 61, 42, 51])\n",
    "alpha = 0.1\n",
    "initial_forecast = 50\n",
    "std_dev = 15\n",
    "z = norm.ppf(0.95)  # 1.645\n",
    "\n",
    "# Step 1: Forecast demand with exponential smoothing\n",
    "mu = [initial_forecast]\n",
    "for t in range(len(demand)):\n",
    "    mu.append(alpha * demand[t] + (1 - alpha) * mu[-1])\n",
    "mu = np.array(mu[1:])\n",
    "\n",
    "# Step 2: Calculate order-up-to levels (S)\n",
    "S = mu + z * std_dev\n",
    "\n",
    "# Step 3: Round order-up-to levels up (ceiling)\n",
    "S_int = np.ceil(S)\n",
    "\n",
    "# Step 4: Initialize previous S_int to first rounded S (S_0)\n",
    "S_prev = 75  # initial SR_integer\n",
    "\n",
    "orders = np.zeros(len(demand), dtype=int)\n",
    "\n",
    "# Step 5: Calculate orders recursively with corrected formula\n",
    "for t in range(len(demand)):\n",
    "    orders[t] = demand[t] - S_prev + S_int[t]\n",
    "    S_prev = S_int[t]\n",
    "\n",
    "print(\"Forecasts (mu):\", np.round(mu, 2))\n",
    "print(\"Order-up-to levels (S):\", np.round(S, 2))\n",
    "print(\"Rounded order-up-to levels (S_int):\", S_int)\n",
    "print(\"Orders (q):\", orders)\n"
   ]
  },
  {
   "cell_type": "markdown",
   "metadata": {},
   "source": [
    "**e)** Perform an ex-post forecast for the warehouse using exponential smoothing with alpha=0.1 and determine the order-up-to level that would have been optimal given the forecast. Calculate the warehouse’s order quantities. (4 points)\n"
   ]
  },
  {
   "cell_type": "code",
   "execution_count": 59,
   "metadata": {},
   "outputs": [
    {
     "name": "stdout",
     "output_type": "stream",
     "text": [
      "Wholesaler forecasts (mu): [50.7  49.53 50.78 49.8  49.92]\n",
      "Wholesaler order-up-to levels (SW): [75.37 74.2  75.45 74.47 74.59]\n",
      "Wholesaler rounded order-up-to levels (SW_int): [76. 75. 76. 75. 75.]\n",
      "Wholesaler orders (qW): [58 38 63 40 51]\n"
     ]
    }
   ],
   "source": [
    "import numpy as np\n",
    "from scipy.stats import norm\n",
    "\n",
    "# Given retailer orders from previous step (qR)\n",
    "retailer_orders = np.array([57, 39, 62, 41, 51])\n",
    "\n",
    "alpha = 0.1\n",
    "initial_forecast = 50\n",
    "std_dev = 15\n",
    "z = norm.ppf(0.95)  # 1.645\n",
    "\n",
    "# Step 1: Forecast wholesaler demand with exponential smoothing\n",
    "mu_wh = [initial_forecast]\n",
    "for t in range(len(retailer_orders)):\n",
    "    mu_wh.append(alpha * retailer_orders[t] + (1 - alpha) * mu_wh[-1])\n",
    "mu_wh = np.array(mu_wh[1:])\n",
    "\n",
    "# Step 2: Calculate wholesaler order-up-to levels (SW)\n",
    "SW = mu_wh + z * std_dev\n",
    "\n",
    "# Step 3: Round wholesaler order-up-to levels\n",
    "SW_int = np.ceil(SW)\n",
    "\n",
    "# Step 4: Initialize previous SW_int\n",
    "SW_prev = 75\n",
    "\n",
    "orders_wh = np.zeros(len(retailer_orders), dtype=int)\n",
    "\n",
    "for t in range(len(retailer_orders)):\n",
    "    orders_wh[t] = retailer_orders[t] - SW_prev + SW_int[t]\n",
    "    SW_prev = SW_int[t]\n",
    "\n",
    "print(\"Wholesaler forecasts (mu):\", np.round(mu_wh, 2))\n",
    "print(\"Wholesaler order-up-to levels (SW):\", np.round(SW, 2))\n",
    "print(\"Wholesaler rounded order-up-to levels (SW_int):\", SW_int)\n",
    "print(\"Wholesaler orders (qW):\", orders_wh)\n"
   ]
  },
  {
   "cell_type": "markdown",
   "metadata": {},
   "source": [
    "**f)** Calculate the variance of demand and orders of retailer and the warehouse. (3 points)\n"
   ]
  },
  {
   "cell_type": "code",
   "execution_count": 60,
   "metadata": {},
   "outputs": [
    {
     "name": "stdout",
     "output_type": "stream",
     "text": [
      "Retailer Demand\n",
      "  Mean     : 50.00\n",
      "  Std Dev  : 8.97\n",
      "  Variance : 80.50\n",
      "------------------------------\n",
      "Retailer Orders (qR)\n",
      "  Mean     : 50.00\n",
      "  Std Dev  : 9.95\n",
      "  Variance : 99.00\n",
      "------------------------------\n",
      "Wholesaler Orders (qW)\n",
      "  Mean     : 50.00\n",
      "  Std Dev  : 10.93\n",
      "  Variance : 119.50\n",
      "------------------------------\n"
     ]
    }
   ],
   "source": [
    "import numpy as np\n",
    "\n",
    "# Data\n",
    "retailer_demand = np.array([56, 40, 61, 42, 51])\n",
    "retailer_orders = np.array([57, 39, 62, 41, 51])\n",
    "wholesaler_orders = np.array([58, 38, 63, 40, 51])\n",
    "\n",
    "# Function to compute stats\n",
    "def compute_stats(data, label):\n",
    "    mean = np.mean(data)\n",
    "    std_dev = np.std(data, ddof=1)  # Sample standard deviation\n",
    "    variance = np.var(data, ddof=1)\n",
    "    \n",
    "    print(f\"{label}\")\n",
    "    print(f\"  Mean     : {mean:.2f}\")\n",
    "    print(f\"  Std Dev  : {std_dev:.2f}\")\n",
    "    print(f\"  Variance : {variance:.2f}\")\n",
    "    print(\"-\" * 30)\n",
    "\n",
    "# Compute and print stats\n",
    "compute_stats(retailer_demand, \"Retailer Demand\")\n",
    "compute_stats(retailer_orders, \"Retailer Orders (qR)\")\n",
    "compute_stats(wholesaler_orders, \"Wholesaler Orders (qW)\")\n"
   ]
  },
  {
   "cell_type": "markdown",
   "metadata": {},
   "source": [
    "**g)** Which effect can be observed from the results obtained part f)? Name and describe the effect briefly. What are possible strategies to mitigate the effect? (7 points)"
   ]
  },
  {
   "cell_type": "code",
   "execution_count": null,
   "metadata": {},
   "outputs": [],
   "source": []
  }
 ],
 "metadata": {
  "kernelspec": {
   "display_name": ".venv",
   "language": "python",
   "name": "python3"
  },
  "language_info": {
   "codemirror_mode": {
    "name": "ipython",
    "version": 3
   },
   "file_extension": ".py",
   "mimetype": "text/x-python",
   "name": "python",
   "nbconvert_exporter": "python",
   "pygments_lexer": "ipython3",
   "version": "3.12.8"
  }
 },
 "nbformat": 4,
 "nbformat_minor": 2
}
